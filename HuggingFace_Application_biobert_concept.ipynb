{
  "cells": [
    {
      "cell_type": "code",
      "execution_count": null,
      "id": "bc75f3b9",
      "metadata": {
        "id": "bc75f3b9"
      },
      "outputs": [],
      "source": [
        "import numpy as np\n",
        "import pandas as pd\n",
        "import string\n",
        "import re\n",
        "import os\n",
        "from transformers import AutoModel\n",
        "from transformers import AutoTokenizer"
      ]
    },
    {
      "cell_type": "code",
      "source": [
        "!pip install -U accelerate"
      ],
      "metadata": {
        "id": "Uq-1YjzWiCJS",
        "colab": {
          "base_uri": "https://localhost:8080/"
        },
        "outputId": "b9bbf397-c2c5-4da0-ea8b-72644d3b8132"
      },
      "id": "Uq-1YjzWiCJS",
      "execution_count": null,
      "outputs": [
        {
          "output_type": "stream",
          "name": "stdout",
          "text": [
            "Collecting accelerate\n",
            "  Downloading accelerate-0.29.1-py3-none-any.whl (297 kB)\n",
            "\u001b[2K     \u001b[90m━━━━━━━━━━━━━━━━━━━━━━━━━━━━━━━━━━━━━━━━\u001b[0m \u001b[32m297.3/297.3 kB\u001b[0m \u001b[31m6.4 MB/s\u001b[0m eta \u001b[36m0:00:00\u001b[0m\n",
            "\u001b[?25hRequirement already satisfied: numpy>=1.17 in /usr/local/lib/python3.10/dist-packages (from accelerate) (1.25.2)\n",
            "Requirement already satisfied: packaging>=20.0 in /usr/local/lib/python3.10/dist-packages (from accelerate) (24.0)\n",
            "Requirement already satisfied: psutil in /usr/local/lib/python3.10/dist-packages (from accelerate) (5.9.5)\n",
            "Requirement already satisfied: pyyaml in /usr/local/lib/python3.10/dist-packages (from accelerate) (6.0.1)\n",
            "Requirement already satisfied: torch>=1.10.0 in /usr/local/lib/python3.10/dist-packages (from accelerate) (2.2.1+cu121)\n",
            "Requirement already satisfied: huggingface-hub in /usr/local/lib/python3.10/dist-packages (from accelerate) (0.20.3)\n",
            "Requirement already satisfied: safetensors>=0.3.1 in /usr/local/lib/python3.10/dist-packages (from accelerate) (0.4.2)\n",
            "Requirement already satisfied: filelock in /usr/local/lib/python3.10/dist-packages (from torch>=1.10.0->accelerate) (3.13.3)\n",
            "Requirement already satisfied: typing-extensions>=4.8.0 in /usr/local/lib/python3.10/dist-packages (from torch>=1.10.0->accelerate) (4.10.0)\n",
            "Requirement already satisfied: sympy in /usr/local/lib/python3.10/dist-packages (from torch>=1.10.0->accelerate) (1.12)\n",
            "Requirement already satisfied: networkx in /usr/local/lib/python3.10/dist-packages (from torch>=1.10.0->accelerate) (3.2.1)\n",
            "Requirement already satisfied: jinja2 in /usr/local/lib/python3.10/dist-packages (from torch>=1.10.0->accelerate) (3.1.3)\n",
            "Requirement already satisfied: fsspec in /usr/local/lib/python3.10/dist-packages (from torch>=1.10.0->accelerate) (2023.6.0)\n",
            "Collecting nvidia-cuda-nvrtc-cu12==12.1.105 (from torch>=1.10.0->accelerate)\n",
            "  Downloading nvidia_cuda_nvrtc_cu12-12.1.105-py3-none-manylinux1_x86_64.whl (23.7 MB)\n",
            "\u001b[2K     \u001b[90m━━━━━━━━━━━━━━━━━━━━━━━━━━━━━━━━━━━━━━━━\u001b[0m \u001b[32m23.7/23.7 MB\u001b[0m \u001b[31m60.3 MB/s\u001b[0m eta \u001b[36m0:00:00\u001b[0m\n",
            "\u001b[?25hCollecting nvidia-cuda-runtime-cu12==12.1.105 (from torch>=1.10.0->accelerate)\n",
            "  Downloading nvidia_cuda_runtime_cu12-12.1.105-py3-none-manylinux1_x86_64.whl (823 kB)\n",
            "\u001b[2K     \u001b[90m━━━━━━━━━━━━━━━━━━━━━━━━━━━━━━━━━━━━━━━━\u001b[0m \u001b[32m823.6/823.6 kB\u001b[0m \u001b[31m65.6 MB/s\u001b[0m eta \u001b[36m0:00:00\u001b[0m\n",
            "\u001b[?25hCollecting nvidia-cuda-cupti-cu12==12.1.105 (from torch>=1.10.0->accelerate)\n",
            "  Downloading nvidia_cuda_cupti_cu12-12.1.105-py3-none-manylinux1_x86_64.whl (14.1 MB)\n",
            "\u001b[2K     \u001b[90m━━━━━━━━━━━━━━━━━━━━━━━━━━━━━━━━━━━━━━━━\u001b[0m \u001b[32m14.1/14.1 MB\u001b[0m \u001b[31m52.0 MB/s\u001b[0m eta \u001b[36m0:00:00\u001b[0m\n",
            "\u001b[?25hCollecting nvidia-cudnn-cu12==8.9.2.26 (from torch>=1.10.0->accelerate)\n",
            "  Downloading nvidia_cudnn_cu12-8.9.2.26-py3-none-manylinux1_x86_64.whl (731.7 MB)\n",
            "\u001b[2K     \u001b[90m━━━━━━━━━━━━━━━━━━━━━━━━━━━━━━━━━━━━━━━━\u001b[0m \u001b[32m731.7/731.7 MB\u001b[0m \u001b[31m2.3 MB/s\u001b[0m eta \u001b[36m0:00:00\u001b[0m\n",
            "\u001b[?25hCollecting nvidia-cublas-cu12==12.1.3.1 (from torch>=1.10.0->accelerate)\n",
            "  Downloading nvidia_cublas_cu12-12.1.3.1-py3-none-manylinux1_x86_64.whl (410.6 MB)\n",
            "\u001b[2K     \u001b[90m━━━━━━━━━━━━━━━━━━━━━━━━━━━━━━━━━━━━━━━━\u001b[0m \u001b[32m410.6/410.6 MB\u001b[0m \u001b[31m4.0 MB/s\u001b[0m eta \u001b[36m0:00:00\u001b[0m\n",
            "\u001b[?25hCollecting nvidia-cufft-cu12==11.0.2.54 (from torch>=1.10.0->accelerate)\n",
            "  Downloading nvidia_cufft_cu12-11.0.2.54-py3-none-manylinux1_x86_64.whl (121.6 MB)\n",
            "\u001b[2K     \u001b[90m━━━━━━━━━━━━━━━━━━━━━━━━━━━━━━━━━━━━━━━━\u001b[0m \u001b[32m121.6/121.6 MB\u001b[0m \u001b[31m7.6 MB/s\u001b[0m eta \u001b[36m0:00:00\u001b[0m\n",
            "\u001b[?25hCollecting nvidia-curand-cu12==10.3.2.106 (from torch>=1.10.0->accelerate)\n",
            "  Downloading nvidia_curand_cu12-10.3.2.106-py3-none-manylinux1_x86_64.whl (56.5 MB)\n",
            "\u001b[2K     \u001b[90m━━━━━━━━━━━━━━━━━━━━━━━━━━━━━━━━━━━━━━━━\u001b[0m \u001b[32m56.5/56.5 MB\u001b[0m \u001b[31m12.4 MB/s\u001b[0m eta \u001b[36m0:00:00\u001b[0m\n",
            "\u001b[?25hCollecting nvidia-cusolver-cu12==11.4.5.107 (from torch>=1.10.0->accelerate)\n",
            "  Downloading nvidia_cusolver_cu12-11.4.5.107-py3-none-manylinux1_x86_64.whl (124.2 MB)\n",
            "\u001b[2K     \u001b[90m━━━━━━━━━━━━━━━━━━━━━━━━━━━━━━━━━━━━━━━━\u001b[0m \u001b[32m124.2/124.2 MB\u001b[0m \u001b[31m8.3 MB/s\u001b[0m eta \u001b[36m0:00:00\u001b[0m\n",
            "\u001b[?25hCollecting nvidia-cusparse-cu12==12.1.0.106 (from torch>=1.10.0->accelerate)\n",
            "  Downloading nvidia_cusparse_cu12-12.1.0.106-py3-none-manylinux1_x86_64.whl (196.0 MB)\n",
            "\u001b[2K     \u001b[90m━━━━━━━━━━━━━━━━━━━━━━━━━━━━━━━━━━━━━━━━\u001b[0m \u001b[32m196.0/196.0 MB\u001b[0m \u001b[31m6.6 MB/s\u001b[0m eta \u001b[36m0:00:00\u001b[0m\n",
            "\u001b[?25hCollecting nvidia-nccl-cu12==2.19.3 (from torch>=1.10.0->accelerate)\n",
            "  Downloading nvidia_nccl_cu12-2.19.3-py3-none-manylinux1_x86_64.whl (166.0 MB)\n",
            "\u001b[2K     \u001b[90m━━━━━━━━━━━━━━━━━━━━━━━━━━━━━━━━━━━━━━━━\u001b[0m \u001b[32m166.0/166.0 MB\u001b[0m \u001b[31m7.5 MB/s\u001b[0m eta \u001b[36m0:00:00\u001b[0m\n",
            "\u001b[?25hCollecting nvidia-nvtx-cu12==12.1.105 (from torch>=1.10.0->accelerate)\n",
            "  Downloading nvidia_nvtx_cu12-12.1.105-py3-none-manylinux1_x86_64.whl (99 kB)\n",
            "\u001b[2K     \u001b[90m━━━━━━━━━━━━━━━━━━━━━━━━━━━━━━━━━━━━━━━━\u001b[0m \u001b[32m99.1/99.1 kB\u001b[0m \u001b[31m13.7 MB/s\u001b[0m eta \u001b[36m0:00:00\u001b[0m\n",
            "\u001b[?25hRequirement already satisfied: triton==2.2.0 in /usr/local/lib/python3.10/dist-packages (from torch>=1.10.0->accelerate) (2.2.0)\n",
            "Collecting nvidia-nvjitlink-cu12 (from nvidia-cusolver-cu12==11.4.5.107->torch>=1.10.0->accelerate)\n",
            "  Downloading nvidia_nvjitlink_cu12-12.4.127-py3-none-manylinux2014_x86_64.whl (21.1 MB)\n",
            "\u001b[2K     \u001b[90m━━━━━━━━━━━━━━━━━━━━━━━━━━━━━━━━━━━━━━━━\u001b[0m \u001b[32m21.1/21.1 MB\u001b[0m \u001b[31m49.3 MB/s\u001b[0m eta \u001b[36m0:00:00\u001b[0m\n",
            "\u001b[?25hRequirement already satisfied: requests in /usr/local/lib/python3.10/dist-packages (from huggingface-hub->accelerate) (2.31.0)\n",
            "Requirement already satisfied: tqdm>=4.42.1 in /usr/local/lib/python3.10/dist-packages (from huggingface-hub->accelerate) (4.66.2)\n",
            "Requirement already satisfied: MarkupSafe>=2.0 in /usr/local/lib/python3.10/dist-packages (from jinja2->torch>=1.10.0->accelerate) (2.1.5)\n",
            "Requirement already satisfied: charset-normalizer<4,>=2 in /usr/local/lib/python3.10/dist-packages (from requests->huggingface-hub->accelerate) (3.3.2)\n",
            "Requirement already satisfied: idna<4,>=2.5 in /usr/local/lib/python3.10/dist-packages (from requests->huggingface-hub->accelerate) (3.6)\n",
            "Requirement already satisfied: urllib3<3,>=1.21.1 in /usr/local/lib/python3.10/dist-packages (from requests->huggingface-hub->accelerate) (2.0.7)\n",
            "Requirement already satisfied: certifi>=2017.4.17 in /usr/local/lib/python3.10/dist-packages (from requests->huggingface-hub->accelerate) (2024.2.2)\n",
            "Requirement already satisfied: mpmath>=0.19 in /usr/local/lib/python3.10/dist-packages (from sympy->torch>=1.10.0->accelerate) (1.3.0)\n",
            "Installing collected packages: nvidia-nvtx-cu12, nvidia-nvjitlink-cu12, nvidia-nccl-cu12, nvidia-curand-cu12, nvidia-cufft-cu12, nvidia-cuda-runtime-cu12, nvidia-cuda-nvrtc-cu12, nvidia-cuda-cupti-cu12, nvidia-cublas-cu12, nvidia-cusparse-cu12, nvidia-cudnn-cu12, nvidia-cusolver-cu12, accelerate\n",
            "Successfully installed accelerate-0.29.1 nvidia-cublas-cu12-12.1.3.1 nvidia-cuda-cupti-cu12-12.1.105 nvidia-cuda-nvrtc-cu12-12.1.105 nvidia-cuda-runtime-cu12-12.1.105 nvidia-cudnn-cu12-8.9.2.26 nvidia-cufft-cu12-11.0.2.54 nvidia-curand-cu12-10.3.2.106 nvidia-cusolver-cu12-11.4.5.107 nvidia-cusparse-cu12-12.1.0.106 nvidia-nccl-cu12-2.19.3 nvidia-nvjitlink-cu12-12.4.127 nvidia-nvtx-cu12-12.1.105\n"
          ]
        }
      ]
    },
    {
      "cell_type": "code",
      "source": [
        "!pip install -U transformers"
      ],
      "metadata": {
        "colab": {
          "base_uri": "https://localhost:8080/",
          "height": 564
        },
        "id": "RDaXiP-ct6-N",
        "outputId": "6095bd46-3139-4851-88c4-6615d278ae81"
      },
      "id": "RDaXiP-ct6-N",
      "execution_count": null,
      "outputs": [
        {
          "output_type": "stream",
          "name": "stdout",
          "text": [
            "Requirement already satisfied: transformers in /usr/local/lib/python3.10/dist-packages (4.38.2)\n",
            "Collecting transformers\n",
            "  Downloading transformers-4.39.3-py3-none-any.whl (8.8 MB)\n",
            "\u001b[2K     \u001b[90m━━━━━━━━━━━━━━━━━━━━━━━━━━━━━━━━━━━━━━━━\u001b[0m \u001b[32m8.8/8.8 MB\u001b[0m \u001b[31m66.7 MB/s\u001b[0m eta \u001b[36m0:00:00\u001b[0m\n",
            "\u001b[?25hRequirement already satisfied: filelock in /usr/local/lib/python3.10/dist-packages (from transformers) (3.13.3)\n",
            "Requirement already satisfied: huggingface-hub<1.0,>=0.19.3 in /usr/local/lib/python3.10/dist-packages (from transformers) (0.20.3)\n",
            "Requirement already satisfied: numpy>=1.17 in /usr/local/lib/python3.10/dist-packages (from transformers) (1.25.2)\n",
            "Requirement already satisfied: packaging>=20.0 in /usr/local/lib/python3.10/dist-packages (from transformers) (24.0)\n",
            "Requirement already satisfied: pyyaml>=5.1 in /usr/local/lib/python3.10/dist-packages (from transformers) (6.0.1)\n",
            "Requirement already satisfied: regex!=2019.12.17 in /usr/local/lib/python3.10/dist-packages (from transformers) (2023.12.25)\n",
            "Requirement already satisfied: requests in /usr/local/lib/python3.10/dist-packages (from transformers) (2.31.0)\n",
            "Requirement already satisfied: tokenizers<0.19,>=0.14 in /usr/local/lib/python3.10/dist-packages (from transformers) (0.15.2)\n",
            "Requirement already satisfied: safetensors>=0.4.1 in /usr/local/lib/python3.10/dist-packages (from transformers) (0.4.2)\n",
            "Requirement already satisfied: tqdm>=4.27 in /usr/local/lib/python3.10/dist-packages (from transformers) (4.66.2)\n",
            "Requirement already satisfied: fsspec>=2023.5.0 in /usr/local/lib/python3.10/dist-packages (from huggingface-hub<1.0,>=0.19.3->transformers) (2023.6.0)\n",
            "Requirement already satisfied: typing-extensions>=3.7.4.3 in /usr/local/lib/python3.10/dist-packages (from huggingface-hub<1.0,>=0.19.3->transformers) (4.10.0)\n",
            "Requirement already satisfied: charset-normalizer<4,>=2 in /usr/local/lib/python3.10/dist-packages (from requests->transformers) (3.3.2)\n",
            "Requirement already satisfied: idna<4,>=2.5 in /usr/local/lib/python3.10/dist-packages (from requests->transformers) (3.6)\n",
            "Requirement already satisfied: urllib3<3,>=1.21.1 in /usr/local/lib/python3.10/dist-packages (from requests->transformers) (2.0.7)\n",
            "Requirement already satisfied: certifi>=2017.4.17 in /usr/local/lib/python3.10/dist-packages (from requests->transformers) (2024.2.2)\n",
            "Installing collected packages: transformers\n",
            "  Attempting uninstall: transformers\n",
            "    Found existing installation: transformers 4.38.2\n",
            "    Uninstalling transformers-4.38.2:\n",
            "      Successfully uninstalled transformers-4.38.2\n",
            "Successfully installed transformers-4.39.3\n"
          ]
        },
        {
          "output_type": "display_data",
          "data": {
            "application/vnd.colab-display-data+json": {
              "pip_warning": {
                "packages": [
                  "transformers"
                ]
              },
              "id": "f894850eb51440328b18d3307be9338d"
            }
          },
          "metadata": {}
        }
      ]
    },
    {
      "cell_type": "code",
      "source": [
        "from google.colab import drive\n",
        "drive.mount('/content/drive')"
      ],
      "metadata": {
        "colab": {
          "base_uri": "https://localhost:8080/"
        },
        "id": "kANl9IylZ6CE",
        "outputId": "d6173501-2bd3-4b61-fc45-6a3667012f39"
      },
      "id": "kANl9IylZ6CE",
      "execution_count": null,
      "outputs": [
        {
          "output_type": "stream",
          "name": "stdout",
          "text": [
            "Mounted at /content/drive\n"
          ]
        }
      ]
    },
    {
      "cell_type": "code",
      "execution_count": null,
      "id": "7e4b2c66",
      "metadata": {
        "id": "7e4b2c66"
      },
      "outputs": [],
      "source": [
        "suffix = 'drive/MyDrive/medical_dataset_analysis/'\n",
        "\n",
        "beth_file_directory = 'concept_assertion_relation_training_data/beth/txt/'\n",
        "beth_concept_directory = 'concept_assertion_relation_training_data/beth/concept/'\n",
        "\n",
        "partner_file_directory = 'concept_assertion_relation_training_data/partners/txt/'\n",
        "partner_concept_directory = 'concept_assertion_relation_training_data/partners/concept/'\n",
        "\n",
        "test_directory = 'test_data/'\n",
        "test_directory_concepts = 'reference_standard_for_test_data/concepts/'"
      ]
    },
    {
      "cell_type": "code",
      "execution_count": null,
      "id": "efc0406b",
      "metadata": {
        "id": "efc0406b"
      },
      "outputs": [],
      "source": [
        "def getNotes(file_directory):\n",
        "    text_dict = {}\n",
        "    file_list = os.listdir(suffix+file_directory)\n",
        "    for f in file_list:\n",
        "        if f[-3:] != 'xml' and f[-3:] != 'txt' and f[-3:] != 'con':\n",
        "            file_list.remove(f)\n",
        "    if '.DS_Store' in file_list:\n",
        "        file_list.remove('.DS_Store')\n",
        "    for file_name in file_list:\n",
        "        with open(suffix+file_directory + file_name,'r') as file:\n",
        "            data = file.read()\n",
        "            text_dict[file_name[:-4]] = data\n",
        "        file.close()\n",
        "    return text_dict"
      ]
    },
    {
      "cell_type": "code",
      "execution_count": null,
      "id": "92d9b50b",
      "metadata": {
        "id": "92d9b50b"
      },
      "outputs": [],
      "source": [
        "beth_notes = getNotes(beth_file_directory)\n",
        "beth_concepts = getNotes(beth_concept_directory)\n",
        "partners_notes = getNotes(partner_file_directory)\n",
        "partners_concepts = getNotes(partner_concept_directory)"
      ]
    },
    {
      "cell_type": "code",
      "execution_count": null,
      "id": "203c3c7b",
      "metadata": {
        "id": "203c3c7b"
      },
      "outputs": [],
      "source": [
        "all_notes = beth_notes.copy()\n",
        "all_notes.update(partners_notes)\n",
        "\n",
        "all_concepts = beth_concepts.copy()\n",
        "all_concepts.update(partners_concepts)\n",
        "\n",
        "test_notes = getNotes(test_directory)\n",
        "test_concepts = getNotes(test_directory_concepts)\n",
        "\n",
        "all_notes.update(test_notes)\n",
        "all_concepts.update(test_concepts)"
      ]
    },
    {
      "cell_type": "code",
      "source": [
        "all_notes['record-21']"
      ],
      "metadata": {
        "id": "0SG84vNkrAxD",
        "colab": {
          "base_uri": "https://localhost:8080/",
          "height": 54
        },
        "outputId": "e136530e-f7c9-4248-884f-cb6d014a370e"
      },
      "id": "0SG84vNkrAxD",
      "execution_count": null,
      "outputs": [
        {
          "output_type": "execute_result",
          "data": {
            "text/plain": [
              "\"01909607\\nAdmission Date :\\n2010-06-28\\nDischarge Date :\\n2010-07-01\\nDate of Birth :\\n1990-02-01\\nSex :\\nF\\nService :\\nORTHOPEDIC\\nHISTORY OF THE PRESENT ILLNESS :\\nThis is a 20-year-old female with no significant past medical history , who was the unrestrained passenger in a high speed rollover motor vehicle accident on 2010-06-27 .\\nBy report , the patient was ejected from the vehicle on impact and found curled in the fetal position at the rear of the vehicle at the scene .\\nThe vehicle was noted to be extensively damaged .\\nBy report , the patient was noted to be awake , but confused at the scene of the accident with no memory of the incident .\\nShe was immobilized in the C-spine collar at the scene of the accident and subsequently transported by EMS to the New England Sinai Hospital & Rehab Center Emergency Department for further management .\\nPHYSICAL EXAMINATION :\\nExamination on presentation to the emergency room revealed the following :\\nTemperature 35.4 Celsius , blood pressure 116/63 , pulse 105 , respiratory rate 18 , oxygen saturation 98% on room air .\\nThe patient was alert and oriented times three in no apparent distress .\\nBoston Coma Scale of 15 .\\nTympanic membranes were noted to be clear .\\nPupils were equal , round , reactive to light at approximately 4 mm .\\nThe patient 's trachea was noted to be midline .\\nThe patient 's lung examination revealed the lungs to be clear to auscultation bilaterally , no crepitus , and a left clavicular deformity was grossly apparent on examination .\\nCARDIAC :\\nCardiac examination demonstrated regular rate and rhythm , no murmurs , rubs , or gallops .\\nABDOMEN :\\nSoft , nontender , nondistended .\\nRECTAL :\\nExamination was guaiac negative with good rectal tone .\\nThe patient 's pelvis was stable to AP and lateral compression .\\nA 5 cm laceration was noted over the patient 's occiput on further inspection with no exposed underlying bone .\\nRight upper extremity examination demonstrated intact motor , sensory , and vascular function .\\nLeft upper extremity examination demonstrated no gross deformities , tenderness to palpation in the mid forearm , intact motor function in the median , radial , and ulnar nerve distributions , intact sensation to light touch in the median and radial nerve distributions , decreased sensation in the ulnar-nerve distribution , warm and well perfused limb with 2+ radial pulses .\\nRight lower extremity examination demonstrated mild swelling and ecchymosis of the right posterior thigh and approximately a 3 cm laceration in the lower leg , expressive of moderate amounts of standard sterile\\nfashion .\\nNo gross deformities .\\nMotor , sensory , and vascular examinations were intact in all distributions .\\nLeft lower extremity examination demonstrated no gross deformities and intact motor , sensory , and vascular examinations in all distributions .\\nRadiographic studies demonstrated an inferior displaced left midclavicular fracture , no evidence of\\npneumothorax .\\nTrauma series demonstrated no evidence of a pelvic fracture .\\nHead CT demonstrated no evidence of intracranial bleeding .\\nTrauma CT demonstrated mild pulmonary contusions , but no pelvic fracture .\\nCervical spine imaging demonstrated no evidence of cervical spine injury .\\nRight tibial-fibular film series demonstrated no evidence of fracture displacement .\\nLeft humerus film series demonstrated no evidence of fracture or displacement .\\nRight foot and femur series demonstrated no evidence of fracture displacement .\\nLeft forearm and wrist series demonstrated transverse mid shaft radial fracture with ulnar displacement .\\nDiagnosis peritoneum lavage times two was negative for any signs of intra-abdominal bleeding .\\nLABORATORY DATA :\\nStudies on admission revealed the following :\\nWhite blood cell 12.9 , hemoglobin 11.5 , hematocrit 32.8 , platelet count 197,000 , sodium 141 , potassium 3.6 , chloride 110 , bicarbonate 21 , BUN 20 , creatinine 0.7 , glucose 189 , PT 13.3 , INR 1.2 , PTT 30.0 , amylase 57 , arterial blood gas 7.32 , 35 , 159 , 19 , -7 .\\nUrinalysis was within normal limits with 6 to 10 red blood cells .\\nToxicology screen was negative .\\nHOSPITAL COURSE :\\nThe patient was evaluated by the Trauma Service in the emergency room , where she received four liters\\ncrystalloid and four units packed red blood cells with good response .\\nIn addition , the patient received the above-described diagnostic procedures , which demonstrated injuries limited to a posterior scalp laceration , left fractured clavicle , left fractured radius , right thigh hematoma , and right leg laceration .\\nThe patient was subsequently admitted to the Trauma Service on 2010-06-28 under the direction of Dr. Lowery .\\nGiven the patient 's right thigh hematoma , a duplex evaluation of the right lower extremity was performed on 2010-06-28 and demonstrated no evidence of major arterial or venous injury in the level of\\nthe right inguinal region .\\nOn 06-28 , the patient was also cleared for removal of her C-spine collar and deemed stable for transfer to the Orthopedic Service under the direction of Dr. Ronda Lopez .\\nThe patient remained stable through 2010-06-29 at which point she was sent to the operating room to undergo a left radial fracture open reduction and internal fixation procedure .\\nThe patient tolerated the procedure well and demonstrated a postoperative hematocrit of 40.9 .\\nOf note , the scalp and right lower leg lacerations were closed primarily by the trauma team on admission and on hospital day #1 were noted to be clean , dry , and intact .\\nNonoperative treatment was elected for the patient 's left clavicular fracture .\\nOn postoperative day #1 , 2010-06-30 , the patient was noted to be clinically stable , tolerating oral intake , and expressive of adequate amounts of urine independent of a Foley catheter .\\nThe patient 's head wound laceration was noted to be clean and dry with intact staples .\\nThere was no erythema or purulence .\\nThe left clavicle was noted to have continued ecchymosis decreased from prior examination with a minor stepoff and mild tenderness to palpation decreased from prior examinations .\\nThe left forearm dressing was noted to be in place , clean , dry , and intact with no saturation .\\nThe patient was noted to be able to wiggle her fingers with intact flexor , extensor , abductor , and adductor function .\\nMild swelling was noted in the left hand .\\nSensation was intact in the median , radius , and ulnar-nerve distributions .\\nFingers were warm and well perfused with capillary refill less than 3 seconds .\\nThe patient 's right anterior tibial wound was noted to be clean , dry , and intact with sutures intact and no erythema or purulence noted .\\nOn 06-30 , the patient was evaluated by Occupational Therapy and fitted for a left upper extremity splint .\\nThe patient was also administered adaptive training for activities of daily life and advised regarding wound care .\\nIn addition , the patient was also fitted with a figure-of-eight clavicular splint and instructed in its\\nproper use .\\nOn 2010-07-01 , the patient was discharged from the hospital with instructions for follow up care on return to the United Kingdom .\\nCONDITION ON DISCHARGE :\\nThe patient is to be discharged to home .\\nDISCHARGE STATUS :\\nStable .\\nDIAGNOSIS :\\n1. Left transverse mid shaft radial fracture with ulnar displacement status post left radial open reduction and internal fixation .\\n2. Left midclavicular fracture managed nonoperatively .\\n3. Occipital scalp laceration .\\n4. Right anterior tibial laceration .\\nDISCHARGE MEDICATIONS :\\nPercocet one to two tablets PO q.4h. to 6h.p.r.n. pain .\\nFOLLOW-UP CARE :\\nThe patient is medically cleared for a flight to return to her home in the United Kingdom .\\nThe patient is to maintain her figure-of-eight clavicular splint and left posterior forearm splint in place for fourteen days following discharge .\\nThe left forearm and right lower leg wound should be kept clean and dry with regular dressing changes with dry gauze once per day .\\nScalp laceration should be kept clean and dry for five days following discharge after which point the patient may once wash her hair .\\nPercocet for pain as needed .\\nThe patient is to followup with an orthopedist in the United Kingdom fourteen days following discharge at which point repeat x-rays of her left forearm should be obtained and her left forearm scalp and right lower leg sutures and staples may be removed .\\nQuestions regarding follow up may be referred to Dr. Ronda Lopez at the Ayer Orthopedic Group .\\nTelephone #:\\n( 658 ) 842-8661 .\\nOrtiz V Baugher , M.D.\\n75-285\\nDictated By : Catherine K Thomas , M.D.\\nMEDQUIST36\\nD : 2010-06-30 17:18\\nT : 2010-06-30 17:39\\nJOB #:\\n03326\\nSigned electronically by : DR. Kisha Jones on : Jose 2010-07-01 8:27 AM\\n( End of Report )\""
            ],
            "application/vnd.google.colaboratory.intrinsic+json": {
              "type": "string"
            }
          },
          "metadata": {},
          "execution_count": 7
        }
      ]
    },
    {
      "cell_type": "code",
      "source": [
        "all_concepts['record-21']"
      ],
      "metadata": {
        "colab": {
          "base_uri": "https://localhost:8080/",
          "height": 54
        },
        "outputId": "7d9edf47-7c96-4031-9809-1907a5f4e470",
        "id": "vvH55VVuhEMF"
      },
      "execution_count": null,
      "outputs": [
        {
          "output_type": "execute_result",
          "data": {
            "text/plain": [
              "'c=\"left transverse mid shaft radial fracture\" 90:1 90:6||t=\"problem\"\\nc=\"ulnar displacement\" 90:8 90:9||t=\"problem\"\\nc=\"ap and lateral compression\" 33:7 33:10||t=\"test\"\\nc=\"bun\" 55:27 55:27||t=\"test\"\\nc=\"erythema\" 79:22 79:22||t=\"problem\"\\nc=\"apparent distress\" 21:10 21:11||t=\"problem\"\\nc=\"a 5 cm laceration\" 34:0 34:3||t=\"problem\"\\nc=\"further inspection\" 34:12 34:13||t=\"test\"\\nc=\"exposed underlying bone\" 34:16 34:18||t=\"problem\"\\nc=\"a left upper extremity splint\" 80:13 80:17||t=\"treatment\"\\nc=\"her c-spine collar\" 65:11 65:13||t=\"treatment\"\\nc=\"a left radial fracture open reduction\" 66:18 66:23||t=\"treatment\"\\nc=\"erythema\" 72:3 72:3||t=\"problem\"\\nc=\"left upper extremity examination\" 36:0 36:3||t=\"test\"\\nc=\"decreased sensation in the ulnar-nerve distribution\" 36:44 36:49||t=\"problem\"\\nc=\"gross deformities\" 36:6 36:7||t=\"problem\"\\nc=\"tenderness\" 36:9 36:9||t=\"problem\"\\nc=\"right thigh hematoma\" 61:29 61:31||t=\"problem\"\\nc=\"a duplex evaluation of the right lower extremity\" 63:8 63:15||t=\"test\"\\nc=\"major arterial or venous injury\" 63:25 63:29||t=\"problem\"\\nc=\"the patient \\'s right thigh hematoma\" 63:1 63:6||t=\"problem\"\\nc=\"internal fixation procedure\" 66:25 66:27||t=\"treatment\"\\nc=\"rubs\" 28:11 28:11||t=\"problem\"\\nc=\"wound care\" 81:15 81:16||t=\"treatment\"\\nc=\"the procedure\" 67:3 67:4||t=\"treatment\"\\nc=\"radial pulses\" 36:58 36:59||t=\"test\"\\nc=\"adaptive training\" 81:5 81:6||t=\"treatment\"\\nc=\"right lower extremity examination\" 37:0 37:3||t=\"test\"\\nc=\"mild swelling\" 37:5 37:6||t=\"problem\"\\nc=\"ecchymosis of the right posterior thigh\" 37:8 37:13||t=\"problem\"\\nc=\"a 3 cm laceration in the lower leg\" 37:16 37:23||t=\"problem\"\\nc=\"examination\" 32:0 32:0||t=\"test\"\\nc=\"purulence\" 79:24 79:24||t=\"problem\"\\nc=\"sutures\" 79:18 79:18||t=\"treatment\"\\nc=\"the patient \\'s right anterior tibial wound\" 79:0 79:6||t=\"problem\"\\nc=\"the patient \\'s lung examination\" 26:0 26:4||t=\"test\"\\nc=\"crepitus\" 26:16 26:16||t=\"problem\"\\nc=\"examination\" 19:0 19:0||t=\"test\"\\nc=\"confused\" 16:12 16:12||t=\"problem\"\\nc=\"head ct\" 45:0 45:1||t=\"test\"\\nc=\"intracranial bleeding\" 45:6 45:7||t=\"problem\"\\nc=\"a figure-of-eight clavicular splint\" 82:9 82:12||t=\"treatment\"\\nc=\"pain\" 101:2 101:2||t=\"problem\"\\nc=\"right leg laceration\" 61:34 61:36||t=\"problem\"\\nc=\"capillary refill\" 78:7 78:8||t=\"test\"\\nc=\"her left forearm scalp and right lower leg sutures\" 102:29 102:37||t=\"treatment\"\\nc=\"right upper extremity examination\" 35:0 35:3||t=\"test\"\\nc=\"repeat x-rays of her left forearm\" 102:19 102:24||t=\"test\"\\nc=\"diagnostic procedures\" 61:8 61:9||t=\"test\"\\nc=\"injuries\" 61:13 61:13||t=\"problem\"\\nc=\"a posterior scalp laceration\" 61:16 61:19||t=\"problem\"\\nc=\"left fractured clavicle\" 61:21 61:23||t=\"problem\"\\nc=\"left fractured radius\" 61:25 61:27||t=\"problem\"\\nc=\"staples\" 102:39 102:39||t=\"treatment\"\\nc=\"packed red blood cells\" 60:4 60:7||t=\"treatment\"\\nc=\"gross deformities\" 41:6 41:7||t=\"problem\"\\nc=\"mild swelling\" 76:0 76:1||t=\"problem\"\\nc=\"examination\" 26:27 26:27||t=\"test\"\\nc=\"a left clavicular deformity\" 26:19 26:22||t=\"problem\"\\nc=\"cardiac examination\" 28:0 28:1||t=\"test\"\\nc=\"gallops\" 28:14 28:14||t=\"problem\"\\nc=\"murmurs\" 28:9 28:9||t=\"problem\"\\nc=\"left midclavicular fracture\" 91:1 91:3||t=\"problem\"\\nc=\"motor , sensory , and vascular examinations\" 40:0 40:6||t=\"test\"\\nc=\"a postoperative hematocrit\" 67:8 67:10||t=\"test\"\\nc=\"saturation\" 74:19 74:19||t=\"problem\"\\nc=\"nontender\" 30:2 30:2||t=\"problem\"\\nc=\"blood pressure\" 20:4 20:5||t=\"test\"\\nc=\"left lower extremity examination\" 41:0 41:3||t=\"test\"\\nc=\"nondistended\" 30:4 30:4||t=\"problem\"\\nc=\"oxygen saturation\" 20:15 20:16||t=\"test\"\\nc=\"trauma series\" 44:0 44:1||t=\"test\"\\nc=\"a pelvic fracture\" 44:6 44:8||t=\"problem\"\\nc=\"activities of daily life\" 81:8 81:11||t=\"treatment\"\\nc=\"the scalp and right lower leg lacerations\" 68:3 68:9||t=\"problem\"\\nc=\"dry gauze\" 99:19 99:20||t=\"treatment\"\\nc=\"the left forearm and right lower leg wound\" 99:0 99:7||t=\"problem\"\\nc=\"gross deformities\" 39:1 39:2||t=\"problem\"\\nc=\"guaiac\" 32:2 32:2||t=\"test\"\\nc=\"percocet\" 101:0 101:0||t=\"treatment\"\\nc=\"glucose\" 55:33 55:33||t=\"test\"\\nc=\"radiographic studies\" 42:0 42:1||t=\"test\"\\nc=\"an inferior displaced left midclavicular fracture\" 42:3 42:8||t=\"problem\"\\nc=\"pneumothorax\" 43:0 43:0||t=\"problem\"\\nc=\"cervical spine imaging\" 47:0 47:2||t=\"test\"\\nc=\"cervical spine injury\" 47:7 47:9||t=\"problem\"\\nc=\"scalp laceration\" 100:0 100:1||t=\"problem\"\\nc=\"palpation in the mid forearm\" 36:11 36:15||t=\"test\"\\nc=\"palpation\" 73:21 73:21||t=\"test\"\\nc=\"mild tenderness\" 73:18 73:19||t=\"problem\"\\nc=\"a minor stepoff\" 73:14 73:16||t=\"problem\"\\nc=\"bicarbonate\" 55:24 55:24||t=\"test\"\\nc=\"creatinine\" 55:30 55:30||t=\"test\"\\nc=\"prior examinations\" 73:24 73:25||t=\"test\"\\nc=\"inr\" 55:39 55:39||t=\"test\"\\nc=\"left posterior forearm splint\" 98:10 98:13||t=\"treatment\"\\nc=\"the left forearm dressing\" 74:0 74:3||t=\"treatment\"\\nc=\"ptt\" 55:42 55:42||t=\"test\"\\nc=\"pain\" 95:9 95:9||t=\"problem\"\\nc=\"percocet\" 95:0 95:0||t=\"treatment\"\\nc=\"pt\" 55:36 55:36||t=\"test\"\\nc=\"respiratory rate\" 20:11 20:12||t=\"test\"\\nc=\"arterial blood gas\" 55:48 55:50||t=\"test\"\\nc=\"right anterior tibial laceration\" 93:1 93:4||t=\"problem\"\\nc=\"occipital scalp laceration\" 92:1 92:3||t=\"problem\"\\nc=\"urinalysis\" 56:0 56:0||t=\"test\"\\nc=\"light touch\" 36:34 36:35||t=\"test\"\\nc=\"amylase\" 55:45 55:45||t=\"test\"\\nc=\"fracture displacement\" 50:9 50:10||t=\"problem\"\\nc=\"toxicology screen\" 57:0 57:1||t=\"test\"\\nc=\"right foot and femur series\" 50:0 50:4||t=\"test\"\\nc=\"pelvic fracture\" 46:9 46:10||t=\"problem\"\\nc=\"crystalloid\" 60:0 60:0||t=\"treatment\"\\nc=\"mild pulmonary contusions\" 46:3 46:5||t=\"problem\"\\nc=\"left forearm and wrist series\" 51:0 51:4||t=\"test\"\\nc=\"transverse mid shaft radial fracture\" 51:6 51:10||t=\"problem\"\\nc=\"ulnar displacement\" 51:12 51:13||t=\"problem\"\\nc=\"trauma ct\" 46:0 46:1||t=\"test\"\\nc=\"red blood cells\" 56:9 56:11||t=\"test\"\\nc=\"her figure-of-eight clavicular splint\" 98:5 98:8||t=\"treatment\"\\nc=\"purulence\" 72:5 72:5||t=\"problem\"\\nc=\"temperature\" 20:0 20:0||t=\"test\"\\nc=\"diagnosis peritoneum lavage\" 52:0 52:2||t=\"test\"\\nc=\"intra-abdominal bleeding\" 52:11 52:12||t=\"problem\"\\nc=\"continued ecchymosis\" 73:7 73:8||t=\"problem\"\\nc=\"internal fixation\" 90:17 90:18||t=\"treatment\"\\nc=\"boston coma scale\" 22:0 22:2||t=\"test\"\\nc=\"right tibial-fibular film series\" 48:0 48:3||t=\"test\"\\nc=\"fracture displacement\" 48:8 48:9||t=\"problem\"\\nc=\"displacement\" 49:10 49:10||t=\"problem\"\\nc=\"fracture\" 49:8 49:8||t=\"problem\"\\nc=\"left radial open reduction\" 90:12 90:15||t=\"treatment\"\\nc=\"prior examination\" 73:11 73:12||t=\"test\"\\nc=\"left humerus film series\" 49:0 49:3||t=\"test\"\\nc=\"the c-spine collar\" 17:4 17:6||t=\"treatment\"\\nc=\"hematocrit\" 55:8 55:8||t=\"test\"\\nc=\"white blood cell\" 55:0 55:2||t=\"test\"\\nc=\"the patient \\'s left clavicular fracture\" 69:5 69:10||t=\"problem\"\\nc=\"pulse\" 20:8 20:8||t=\"test\"\\nc=\"auscultation\" 26:12 26:12||t=\"test\"\\nc=\"nonoperative treatment\" 69:0 69:1||t=\"treatment\"\\nc=\"hemoglobin\" 55:5 55:5||t=\"test\"\\nc=\"studies\" 54:0 54:0||t=\"test\"\\nc=\"chloride\" 55:21 55:21||t=\"test\"\\nc=\"further management\" 17:30 17:31||t=\"treatment\"\\nc=\"the patient \\'s head wound laceration\" 71:0 71:5||t=\"problem\"\\nc=\"intact staples\" 71:14 71:15||t=\"treatment\"\\nc=\"potassium\" 55:18 55:18||t=\"test\"\\nc=\"sodium\" 55:15 55:15||t=\"test\"\\nc=\"regular dressing changes\" 99:15 99:17||t=\"treatment\"\\nc=\"platelet count\" 55:11 55:12||t=\"test\"\\nc=\"a foley catheter\" 70:29 70:31||t=\"treatment\"\\n'"
            ],
            "application/vnd.google.colaboratory.intrinsic+json": {
              "type": "string"
            }
          },
          "metadata": {},
          "execution_count": 8
        }
      ],
      "id": "vvH55VVuhEMF"
    },
    {
      "cell_type": "code",
      "source": [
        "def get_tags(record):\n",
        "  note = all_notes[record].split('\\n')\n",
        "  number_of_lines = len(note)\n",
        "\n",
        "  all_note = []\n",
        "  all_tag = []\n",
        "  note_lines = [n.split() for n in note]\n",
        "  tag_list = [['O' for j in i] for i in note_lines]\n",
        "\n",
        "  concept_lines = all_concepts[record].split('\\n')\n",
        "  for i in concept_lines:\n",
        "    if len(i) > 0:\n",
        "\n",
        "      # print(i)\n",
        "      c = re.findall(r'c=\\\".+\"',i)\n",
        "      stuff = re.findall('[0-9]{1,3}:[0-9]{1,3}\\s[0-9]{1,3}:[0-9]{1,3}\\|\\|',i)[0]\n",
        "\n",
        "      line = re.findall(r'[0-9]{1,3}:',stuff)\n",
        "      line1 = int(line[0][:-1])\n",
        "      line2 = int(line[1][:-1])\n",
        "\n",
        "      indexes = re.findall(r':[0-9]{1,3}',stuff)\n",
        "      ind1 = int(indexes[0][1:])\n",
        "      ind2 = int(indexes[1][1:])\n",
        "\n",
        "      t = re.findall(r't=\\\"[a-z]+\\\"',i)\n",
        "      tag = t[0][3:-1]\n",
        "\n",
        "      for line in range(line1,line2+1):\n",
        "        for index in range(ind1,ind2+1):\n",
        "          if line==line1 and index==ind1:\n",
        "            tag_list[line-1][index] = 'B' + '-' + tag\n",
        "          else:\n",
        "            tag_list[line-1][index] = 'I' + '-' + tag\n",
        "\n",
        "  for t in tag_list:\n",
        "    for ti in t:\n",
        "      all_tag.append(ti)\n",
        "\n",
        "  for n in note_lines:\n",
        "    for ni in n:\n",
        "      all_note.append(ni)\n",
        "  return all_note, all_tag\n",
        "\n",
        "records_dict = {}\n",
        "for record in all_notes.keys():\n",
        "  note,tag = get_tags(record)\n",
        "  the_dict = {'words':note,'tags':tag}\n",
        "  records_dict[record] = the_dict"
      ],
      "metadata": {
        "id": "hwkmCPfXhdRk"
      },
      "execution_count": null,
      "outputs": [],
      "id": "hwkmCPfXhdRk"
    },
    {
      "cell_type": "code",
      "execution_count": null,
      "metadata": {
        "id": "yVaR5NTV4FQD",
        "outputId": "1c67299f-eb35-44ab-f762-5e71503284ea",
        "colab": {
          "base_uri": "https://localhost:8080/"
        }
      },
      "outputs": [
        {
          "output_type": "stream",
          "name": "stdout",
          "text": [
            "['01909607', 'Admission', 'Date', ':', '2010-06-28', 'Discharge', 'Date', ':', '2010-07-01', 'Date', 'of', 'Birth', ':', '1990-02-01', 'Sex', ':', 'F', 'Service', ':', 'ORTHOPEDIC', 'HISTORY', 'OF', 'THE', 'PRESENT', 'ILLNESS', ':', 'This', 'is', 'a', '20-year-old', 'female', 'with', 'no', 'significant', 'past', 'medical', 'history', ',', 'who', 'was', 'the', 'unrestrained', 'passenger', 'in', 'a', 'high', 'speed', 'rollover', 'motor', 'vehicle', 'accident', 'on', '2010-06-27', '.', 'By', 'report', ',', 'the', 'patient', 'was', 'ejected', 'from', 'the', 'vehicle', 'on', 'impact', 'and', 'found', 'curled', 'in', 'the', 'fetal', 'position', 'at', 'the', 'rear', 'of', 'the', 'vehicle', 'at', 'the', 'scene', '.', 'The', 'vehicle', 'was', 'noted', 'to', 'be', 'extensively', 'damaged', '.', 'By', 'report', ',', 'the', 'patient', 'was', 'noted', 'to', 'be', 'awake', ',', 'but', 'confused', 'at', 'the', 'scene', 'of', 'the', 'accident', 'with', 'no', 'memory', 'of', 'the', 'incident', '.', 'She', 'was', 'immobilized', 'in', 'the', 'C-spine', 'collar', 'at', 'the', 'scene', 'of', 'the', 'accident', 'and', 'subsequently', 'transported', 'by', 'EMS', 'to', 'the', 'New', 'England', 'Sinai', 'Hospital', '&', 'Rehab', 'Center', 'Emergency', 'Department', 'for', 'further', 'management', '.', 'PHYSICAL', 'EXAMINATION', ':', 'Examination', 'on', 'presentation', 'to', 'the', 'emergency', 'room', 'revealed', 'the', 'following', ':', 'Temperature', '35.4', 'Celsius', ',', 'blood', 'pressure', '116/63', ',', 'pulse', '105', ',', 'respiratory', 'rate', '18', ',', 'oxygen', 'saturation', '98%', 'on', 'room', 'air', '.', 'The', 'patient', 'was', 'alert', 'and', 'oriented', 'times', 'three', 'in', 'no', 'apparent', 'distress', '.', 'Boston', 'Coma', 'Scale', 'of', '15', '.', 'Tympanic', 'membranes', 'were', 'noted', 'to', 'be', 'clear', '.', 'Pupils', 'were', 'equal', ',', 'round', ',', 'reactive', 'to', 'light', 'at', 'approximately', '4', 'mm', '.', 'The', 'patient', \"'s\", 'trachea', 'was', 'noted', 'to', 'be', 'midline', '.', 'The', 'patient', \"'s\", 'lung', 'examination', 'revealed', 'the', 'lungs', 'to', 'be', 'clear', 'to', 'auscultation', 'bilaterally', ',', 'no', 'crepitus', ',', 'and', 'a', 'left', 'clavicular', 'deformity', 'was', 'grossly', 'apparent', 'on', 'examination', '.', 'CARDIAC', ':', 'Cardiac', 'examination', 'demonstrated', 'regular', 'rate', 'and', 'rhythm', ',', 'no', 'murmurs', ',', 'rubs', ',', 'or', 'gallops', '.', 'ABDOMEN', ':', 'Soft', ',', 'nontender', ',', 'nondistended', '.', 'RECTAL', ':', 'Examination', 'was', 'guaiac', 'negative', 'with', 'good', 'rectal', 'tone', '.', 'The', 'patient', \"'s\", 'pelvis', 'was', 'stable', 'to', 'AP', 'and', 'lateral', 'compression', '.', 'A', '5', 'cm', 'laceration', 'was', 'noted', 'over', 'the', 'patient', \"'s\", 'occiput', 'on', 'further', 'inspection', 'with', 'no', 'exposed', 'underlying', 'bone', '.', 'Right', 'upper', 'extremity', 'examination', 'demonstrated', 'intact', 'motor', ',', 'sensory', ',', 'and', 'vascular', 'function', '.', 'Left', 'upper', 'extremity', 'examination', 'demonstrated', 'no', 'gross', 'deformities', ',', 'tenderness', 'to', 'palpation', 'in', 'the', 'mid', 'forearm', ',', 'intact', 'motor', 'function', 'in', 'the', 'median', ',', 'radial', ',', 'and', 'ulnar', 'nerve', 'distributions', ',', 'intact', 'sensation', 'to', 'light', 'touch', 'in', 'the', 'median', 'and', 'radial', 'nerve', 'distributions', ',', 'decreased', 'sensation', 'in', 'the', 'ulnar-nerve', 'distribution', ',', 'warm', 'and', 'well', 'perfused', 'limb', 'with', '2+', 'radial', 'pulses', '.', 'Right', 'lower', 'extremity', 'examination', 'demonstrated', 'mild', 'swelling', 'and', 'ecchymosis', 'of', 'the', 'right', 'posterior', 'thigh', 'and', 'approximately', 'a', '3', 'cm', 'laceration', 'in', 'the', 'lower', 'leg', ',', 'expressive', 'of', 'moderate', 'amounts', 'of', 'standard', 'sterile', 'fashion', '.', 'No', 'gross', 'deformities', '.', 'Motor', ',', 'sensory', ',', 'and', 'vascular', 'examinations', 'were', 'intact', 'in', 'all', 'distributions', '.', 'Left', 'lower', 'extremity', 'examination', 'demonstrated', 'no', 'gross', 'deformities', 'and', 'intact', 'motor', ',', 'sensory', ',', 'and', 'vascular', 'examinations', 'in', 'all', 'distributions', '.', 'Radiographic', 'studies', 'demonstrated', 'an', 'inferior', 'displaced', 'left', 'midclavicular', 'fracture', ',', 'no', 'evidence', 'of', 'pneumothorax', '.', 'Trauma', 'series', 'demonstrated', 'no', 'evidence', 'of', 'a', 'pelvic', 'fracture', '.', 'Head', 'CT', 'demonstrated', 'no', 'evidence', 'of', 'intracranial', 'bleeding', '.', 'Trauma', 'CT', 'demonstrated', 'mild', 'pulmonary', 'contusions', ',', 'but', 'no', 'pelvic', 'fracture', '.', 'Cervical', 'spine', 'imaging', 'demonstrated', 'no', 'evidence', 'of', 'cervical', 'spine', 'injury', '.', 'Right', 'tibial-fibular', 'film', 'series', 'demonstrated', 'no', 'evidence', 'of', 'fracture', 'displacement', '.', 'Left', 'humerus', 'film', 'series', 'demonstrated', 'no', 'evidence', 'of', 'fracture', 'or', 'displacement', '.', 'Right', 'foot', 'and', 'femur', 'series', 'demonstrated', 'no', 'evidence', 'of', 'fracture', 'displacement', '.', 'Left', 'forearm', 'and', 'wrist', 'series', 'demonstrated', 'transverse', 'mid', 'shaft', 'radial', 'fracture', 'with', 'ulnar', 'displacement', '.', 'Diagnosis', 'peritoneum', 'lavage', 'times', 'two', 'was', 'negative', 'for', 'any', 'signs', 'of', 'intra-abdominal', 'bleeding', '.', 'LABORATORY', 'DATA', ':', 'Studies', 'on', 'admission', 'revealed', 'the', 'following', ':', 'White', 'blood', 'cell', '12.9', ',', 'hemoglobin', '11.5', ',', 'hematocrit', '32.8', ',', 'platelet', 'count', '197,000', ',', 'sodium', '141', ',', 'potassium', '3.6', ',', 'chloride', '110', ',', 'bicarbonate', '21', ',', 'BUN', '20', ',', 'creatinine', '0.7', ',', 'glucose', '189', ',', 'PT', '13.3', ',', 'INR', '1.2', ',', 'PTT', '30.0', ',', 'amylase', '57', ',', 'arterial', 'blood', 'gas', '7.32', ',', '35', ',', '159', ',', '19', ',', '-7', '.', 'Urinalysis', 'was', 'within', 'normal', 'limits', 'with', '6', 'to', '10', 'red', 'blood', 'cells', '.', 'Toxicology', 'screen', 'was', 'negative', '.', 'HOSPITAL', 'COURSE', ':', 'The', 'patient', 'was', 'evaluated', 'by', 'the', 'Trauma', 'Service', 'in', 'the', 'emergency', 'room', ',', 'where', 'she', 'received', 'four', 'liters', 'crystalloid', 'and', 'four', 'units', 'packed', 'red', 'blood', 'cells', 'with', 'good', 'response', '.', 'In', 'addition', ',', 'the', 'patient', 'received', 'the', 'above-described', 'diagnostic', 'procedures', ',', 'which', 'demonstrated', 'injuries', 'limited', 'to', 'a', 'posterior', 'scalp', 'laceration', ',', 'left', 'fractured', 'clavicle', ',', 'left', 'fractured', 'radius', ',', 'right', 'thigh', 'hematoma', ',', 'and', 'right', 'leg', 'laceration', '.', 'The', 'patient', 'was', 'subsequently', 'admitted', 'to', 'the', 'Trauma', 'Service', 'on', '2010-06-28', 'under', 'the', 'direction', 'of', 'Dr.', 'Lowery', '.', 'Given', 'the', 'patient', \"'s\", 'right', 'thigh', 'hematoma', ',', 'a', 'duplex', 'evaluation', 'of', 'the', 'right', 'lower', 'extremity', 'was', 'performed', 'on', '2010-06-28', 'and', 'demonstrated', 'no', 'evidence', 'of', 'major', 'arterial', 'or', 'venous', 'injury', 'in', 'the', 'level', 'of', 'the', 'right', 'inguinal', 'region', '.', 'On', '06-28', ',', 'the', 'patient', 'was', 'also', 'cleared', 'for', 'removal', 'of', 'her', 'C-spine', 'collar', 'and', 'deemed', 'stable', 'for', 'transfer', 'to', 'the', 'Orthopedic', 'Service', 'under', 'the', 'direction', 'of', 'Dr.', 'Ronda', 'Lopez', '.', 'The', 'patient', 'remained', 'stable', 'through', '2010-06-29', 'at', 'which', 'point', 'she', 'was', 'sent', 'to', 'the', 'operating', 'room', 'to', 'undergo', 'a', 'left', 'radial', 'fracture', 'open', 'reduction', 'and', 'internal', 'fixation', 'procedure', '.', 'The', 'patient', 'tolerated', 'the', 'procedure', 'well', 'and', 'demonstrated', 'a', 'postoperative', 'hematocrit', 'of', '40.9', '.', 'Of', 'note', ',', 'the', 'scalp', 'and', 'right', 'lower', 'leg', 'lacerations', 'were', 'closed', 'primarily', 'by', 'the', 'trauma', 'team', 'on', 'admission', 'and', 'on', 'hospital', 'day', '#1', 'were', 'noted', 'to', 'be', 'clean', ',', 'dry', ',', 'and', 'intact', '.', 'Nonoperative', 'treatment', 'was', 'elected', 'for', 'the', 'patient', \"'s\", 'left', 'clavicular', 'fracture', '.', 'On', 'postoperative', 'day', '#1', ',', '2010-06-30', ',', 'the', 'patient', 'was', 'noted', 'to', 'be', 'clinically', 'stable', ',', 'tolerating', 'oral', 'intake', ',', 'and', 'expressive', 'of', 'adequate', 'amounts', 'of', 'urine', 'independent', 'of', 'a', 'Foley', 'catheter', '.', 'The', 'patient', \"'s\", 'head', 'wound', 'laceration', 'was', 'noted', 'to', 'be', 'clean', 'and', 'dry', 'with', 'intact', 'staples', '.', 'There', 'was', 'no', 'erythema', 'or', 'purulence', '.', 'The', 'left', 'clavicle', 'was', 'noted', 'to', 'have', 'continued', 'ecchymosis', 'decreased', 'from', 'prior', 'examination', 'with', 'a', 'minor', 'stepoff', 'and', 'mild', 'tenderness', 'to', 'palpation', 'decreased', 'from', 'prior', 'examinations', '.', 'The', 'left', 'forearm', 'dressing', 'was', 'noted', 'to', 'be', 'in', 'place', ',', 'clean', ',', 'dry', ',', 'and', 'intact', 'with', 'no', 'saturation', '.', 'The', 'patient', 'was', 'noted', 'to', 'be', 'able', 'to', 'wiggle', 'her', 'fingers', 'with', 'intact', 'flexor', ',', 'extensor', ',', 'abductor', ',', 'and', 'adductor', 'function', '.', 'Mild', 'swelling', 'was', 'noted', 'in', 'the', 'left', 'hand', '.', 'Sensation', 'was', 'intact', 'in', 'the', 'median', ',', 'radius', ',', 'and', 'ulnar-nerve', 'distributions', '.', 'Fingers', 'were', 'warm', 'and', 'well', 'perfused', 'with', 'capillary', 'refill', 'less', 'than', '3', 'seconds', '.', 'The', 'patient', \"'s\", 'right', 'anterior', 'tibial', 'wound', 'was', 'noted', 'to', 'be', 'clean', ',', 'dry', ',', 'and', 'intact', 'with', 'sutures', 'intact', 'and', 'no', 'erythema', 'or', 'purulence', 'noted', '.', 'On', '06-30', ',', 'the', 'patient', 'was', 'evaluated', 'by', 'Occupational', 'Therapy', 'and', 'fitted', 'for', 'a', 'left', 'upper', 'extremity', 'splint', '.', 'The', 'patient', 'was', 'also', 'administered', 'adaptive', 'training', 'for', 'activities', 'of', 'daily', 'life', 'and', 'advised', 'regarding', 'wound', 'care', '.', 'In', 'addition', ',', 'the', 'patient', 'was', 'also', 'fitted', 'with', 'a', 'figure-of-eight', 'clavicular', 'splint', 'and', 'instructed', 'in', 'its', 'proper', 'use', '.', 'On', '2010-07-01', ',', 'the', 'patient', 'was', 'discharged', 'from', 'the', 'hospital', 'with', 'instructions', 'for', 'follow', 'up', 'care', 'on', 'return', 'to', 'the', 'United', 'Kingdom', '.', 'CONDITION', 'ON', 'DISCHARGE', ':', 'The', 'patient', 'is', 'to', 'be', 'discharged', 'to', 'home', '.', 'DISCHARGE', 'STATUS', ':', 'Stable', '.', 'DIAGNOSIS', ':', '1.', 'Left', 'transverse', 'mid', 'shaft', 'radial', 'fracture', 'with', 'ulnar', 'displacement', 'status', 'post', 'left', 'radial', 'open', 'reduction', 'and', 'internal', 'fixation', '.', '2.', 'Left', 'midclavicular', 'fracture', 'managed', 'nonoperatively', '.', '3.', 'Occipital', 'scalp', 'laceration', '.', '4.', 'Right', 'anterior', 'tibial', 'laceration', '.', 'DISCHARGE', 'MEDICATIONS', ':', 'Percocet', 'one', 'to', 'two', 'tablets', 'PO', 'q.4h.', 'to', '6h.p.r.n.', 'pain', '.', 'FOLLOW-UP', 'CARE', ':', 'The', 'patient', 'is', 'medically', 'cleared', 'for', 'a', 'flight', 'to', 'return', 'to', 'her', 'home', 'in', 'the', 'United', 'Kingdom', '.', 'The', 'patient', 'is', 'to', 'maintain', 'her', 'figure-of-eight', 'clavicular', 'splint', 'and', 'left', 'posterior', 'forearm', 'splint', 'in', 'place', 'for', 'fourteen', 'days', 'following', 'discharge', '.', 'The', 'left', 'forearm', 'and', 'right', 'lower', 'leg', 'wound', 'should', 'be', 'kept', 'clean', 'and', 'dry', 'with', 'regular', 'dressing', 'changes', 'with', 'dry', 'gauze', 'once', 'per', 'day', '.', 'Scalp', 'laceration', 'should', 'be', 'kept', 'clean', 'and', 'dry', 'for', 'five', 'days', 'following', 'discharge', 'after', 'which', 'point', 'the', 'patient', 'may', 'once', 'wash', 'her', 'hair', '.', 'Percocet', 'for', 'pain', 'as', 'needed', '.', 'The', 'patient', 'is', 'to', 'followup', 'with', 'an', 'orthopedist', 'in', 'the', 'United', 'Kingdom', 'fourteen', 'days', 'following', 'discharge', 'at', 'which', 'point', 'repeat', 'x-rays', 'of', 'her', 'left', 'forearm', 'should', 'be', 'obtained', 'and', 'her', 'left', 'forearm', 'scalp', 'and', 'right', 'lower', 'leg', 'sutures', 'and', 'staples', 'may', 'be', 'removed', '.', 'Questions', 'regarding', 'follow', 'up', 'may', 'be', 'referred', 'to', 'Dr.', 'Ronda', 'Lopez', 'at', 'the', 'Ayer', 'Orthopedic', 'Group', '.', 'Telephone', '#:', '(', '658', ')', '842-8661', '.', 'Ortiz', 'V', 'Baugher', ',', 'M.D.', '75-285', 'Dictated', 'By', ':', 'Catherine', 'K', 'Thomas', ',', 'M.D.', 'MEDQUIST36', 'D', ':', '2010-06-30', '17:18', 'T', ':', '2010-06-30', '17:39', 'JOB', '#:', '03326', 'Signed', 'electronically', 'by', ':', 'DR.', 'Kisha', 'Jones', 'on', ':', 'Jose', '2010-07-01', '8:27', 'AM', '(', 'End', 'of', 'Report', ')']\n",
            "['O', 'O', 'O', 'O', 'O', 'O', 'O', 'O', 'O', 'O', 'O', 'O', 'O', 'O', 'O', 'O', 'O', 'O', 'O', 'O', 'O', 'O', 'O', 'O', 'O', 'O', 'O', 'O', 'O', 'O', 'O', 'O', 'O', 'O', 'O', 'O', 'O', 'O', 'O', 'O', 'O', 'O', 'O', 'O', 'O', 'O', 'O', 'O', 'O', 'O', 'O', 'O', 'O', 'O', 'O', 'O', 'O', 'O', 'O', 'O', 'O', 'O', 'O', 'O', 'O', 'O', 'O', 'O', 'O', 'O', 'O', 'O', 'O', 'O', 'O', 'O', 'O', 'O', 'O', 'O', 'O', 'O', 'O', 'O', 'O', 'O', 'O', 'O', 'O', 'O', 'O', 'O', 'O', 'O', 'O', 'O', 'O', 'O', 'O', 'O', 'O', 'O', 'O', 'O', 'B-problem', 'O', 'O', 'O', 'O', 'O', 'O', 'O', 'O', 'O', 'O', 'O', 'O', 'O', 'O', 'O', 'O', 'O', 'B-treatment', 'I-treatment', 'I-treatment', 'O', 'O', 'O', 'O', 'O', 'O', 'O', 'O', 'O', 'O', 'O', 'O', 'O', 'O', 'O', 'O', 'O', 'O', 'O', 'O', 'O', 'O', 'O', 'B-treatment', 'I-treatment', 'O', 'O', 'O', 'O', 'B-test', 'O', 'O', 'O', 'O', 'O', 'O', 'O', 'O', 'O', 'O', 'B-test', 'O', 'O', 'O', 'B-test', 'I-test', 'O', 'O', 'B-test', 'O', 'O', 'B-test', 'I-test', 'O', 'O', 'B-test', 'I-test', 'O', 'O', 'O', 'O', 'O', 'O', 'O', 'O', 'O', 'O', 'O', 'O', 'O', 'O', 'O', 'B-problem', 'I-problem', 'O', 'B-test', 'I-test', 'I-test', 'O', 'O', 'O', 'O', 'O', 'O', 'O', 'O', 'O', 'O', 'O', 'O', 'O', 'O', 'O', 'O', 'O', 'O', 'O', 'O', 'O', 'O', 'O', 'O', 'O', 'O', 'O', 'O', 'O', 'O', 'O', 'O', 'O', 'O', 'O', 'B-test', 'I-test', 'I-test', 'I-test', 'I-test', 'O', 'O', 'O', 'O', 'O', 'O', 'O', 'B-test', 'O', 'O', 'O', 'B-problem', 'O', 'O', 'B-problem', 'I-problem', 'I-problem', 'I-problem', 'O', 'O', 'O', 'O', 'B-test', 'O', 'O', 'O', 'B-test', 'I-test', 'O', 'O', 'O', 'O', 'O', 'O', 'O', 'B-problem', 'O', 'B-problem', 'O', 'O', 'B-problem', 'O', 'O', 'O', 'O', 'O', 'B-problem', 'O', 'B-problem', 'O', 'O', 'O', 'B-test', 'O', 'B-test', 'O', 'O', 'O', 'O', 'O', 'O', 'O', 'O', 'O', 'O', 'O', 'O', 'O', 'B-test', 'I-test', 'I-test', 'I-test', 'O', 'B-problem', 'I-problem', 'I-problem', 'I-problem', 'O', 'O', 'O', 'O', 'O', 'O', 'O', 'O', 'B-test', 'I-test', 'O', 'O', 'B-problem', 'I-problem', 'I-problem', 'O', 'B-test', 'I-test', 'I-test', 'I-test', 'O', 'O', 'O', 'O', 'O', 'O', 'O', 'O', 'O', 'O', 'B-test', 'I-test', 'I-test', 'I-test', 'O', 'O', 'B-problem', 'I-problem', 'O', 'B-problem', 'O', 'B-test', 'I-test', 'I-test', 'I-test', 'I-test', 'O', 'O', 'O', 'O', 'O', 'O', 'O', 'O', 'O', 'O', 'O', 'O', 'O', 'O', 'O', 'O', 'O', 'O', 'B-test', 'I-test', 'O', 'O', 'O', 'O', 'O', 'O', 'O', 'O', 'B-problem', 'I-problem', 'I-problem', 'I-problem', 'I-problem', 'I-problem', 'O', 'O', 'O', 'O', 'O', 'O', 'O', 'O', 'B-test', 'I-test', 'O', 'B-test', 'I-test', 'I-test', 'I-test', 'O', 'B-problem', 'I-problem', 'O', 'B-problem', 'I-problem', 'I-problem', 'I-problem', 'I-problem', 'I-problem', 'O', 'O', 'B-problem', 'I-problem', 'I-problem', 'I-problem', 'I-problem', 'I-problem', 'I-problem', 'I-problem', 'O', 'O', 'O', 'O', 'O', 'O', 'O', 'O', 'O', 'O', 'O', 'B-problem', 'I-problem', 'O', 'B-test', 'I-test', 'I-test', 'I-test', 'I-test', 'I-test', 'I-test', 'O', 'O', 'O', 'O', 'O', 'O', 'B-test', 'I-test', 'I-test', 'I-test', 'O', 'O', 'B-problem', 'I-problem', 'O', 'O', 'O', 'O', 'O', 'O', 'O', 'O', 'O', 'O', 'O', 'O', 'O', 'B-test', 'I-test', 'O', 'B-problem', 'I-problem', 'I-problem', 'I-problem', 'I-problem', 'I-problem', 'O', 'O', 'O', 'O', 'B-problem', 'O', 'B-test', 'I-test', 'O', 'O', 'O', 'O', 'B-problem', 'I-problem', 'I-problem', 'O', 'B-test', 'I-test', 'O', 'O', 'O', 'O', 'B-problem', 'I-problem', 'O', 'B-test', 'I-test', 'O', 'B-problem', 'I-problem', 'I-problem', 'O', 'O', 'O', 'B-problem', 'I-problem', 'O', 'B-test', 'I-test', 'I-test', 'O', 'O', 'O', 'O', 'B-problem', 'I-problem', 'I-problem', 'O', 'B-test', 'I-test', 'I-test', 'I-test', 'O', 'O', 'O', 'O', 'B-problem', 'I-problem', 'O', 'B-test', 'I-test', 'I-test', 'I-test', 'O', 'O', 'O', 'O', 'B-problem', 'O', 'B-problem', 'O', 'B-test', 'I-test', 'I-test', 'I-test', 'I-test', 'O', 'O', 'O', 'O', 'B-problem', 'I-problem', 'O', 'B-test', 'I-test', 'I-test', 'I-test', 'I-test', 'O', 'B-problem', 'I-problem', 'I-problem', 'I-problem', 'I-problem', 'O', 'B-problem', 'I-problem', 'O', 'B-test', 'I-test', 'I-test', 'O', 'O', 'O', 'O', 'O', 'O', 'O', 'O', 'B-problem', 'I-problem', 'O', 'O', 'O', 'O', 'B-test', 'O', 'O', 'O', 'O', 'O', 'O', 'B-test', 'I-test', 'I-test', 'O', 'O', 'B-test', 'O', 'O', 'B-test', 'O', 'O', 'B-test', 'I-test', 'O', 'O', 'B-test', 'O', 'O', 'B-test', 'O', 'O', 'B-test', 'O', 'O', 'B-test', 'O', 'O', 'B-test', 'O', 'O', 'B-test', 'O', 'O', 'B-test', 'O', 'O', 'B-test', 'O', 'O', 'B-test', 'O', 'O', 'B-test', 'O', 'O', 'B-test', 'O', 'O', 'B-test', 'I-test', 'I-test', 'O', 'O', 'O', 'O', 'O', 'O', 'O', 'O', 'O', 'O', 'B-test', 'O', 'O', 'O', 'O', 'O', 'O', 'O', 'O', 'B-test', 'I-test', 'I-test', 'O', 'B-test', 'I-test', 'O', 'O', 'O', 'O', 'O', 'O', 'O', 'O', 'O', 'O', 'O', 'O', 'O', 'O', 'O', 'O', 'O', 'O', 'O', 'O', 'O', 'O', 'O', 'O', 'B-treatment', 'O', 'O', 'O', 'B-treatment', 'I-treatment', 'I-treatment', 'I-treatment', 'O', 'O', 'O', 'O', 'O', 'O', 'O', 'O', 'O', 'O', 'O', 'O', 'B-test', 'I-test', 'O', 'O', 'O', 'B-problem', 'O', 'O', 'B-problem', 'I-problem', 'I-problem', 'I-problem', 'O', 'B-problem', 'I-problem', 'I-problem', 'O', 'B-problem', 'I-problem', 'I-problem', 'O', 'B-problem', 'I-problem', 'I-problem', 'O', 'O', 'B-problem', 'I-problem', 'I-problem', 'O', 'O', 'O', 'O', 'O', 'O', 'O', 'O', 'O', 'O', 'O', 'O', 'O', 'O', 'O', 'O', 'O', 'O', 'O', 'O', 'B-problem', 'I-problem', 'I-problem', 'I-problem', 'I-problem', 'I-problem', 'O', 'B-test', 'I-test', 'I-test', 'I-test', 'I-test', 'I-test', 'I-test', 'I-test', 'O', 'O', 'O', 'O', 'O', 'O', 'O', 'O', 'O', 'B-problem', 'I-problem', 'I-problem', 'I-problem', 'I-problem', 'O', 'O', 'O', 'O', 'O', 'O', 'O', 'O', 'O', 'O', 'O', 'O', 'O', 'O', 'O', 'O', 'O', 'O', 'O', 'O', 'B-treatment', 'I-treatment', 'I-treatment', 'O', 'O', 'O', 'O', 'O', 'O', 'O', 'O', 'O', 'O', 'O', 'O', 'O', 'O', 'O', 'O', 'O', 'O', 'O', 'O', 'O', 'O', 'O', 'O', 'O', 'O', 'O', 'O', 'O', 'O', 'O', 'O', 'O', 'O', 'O', 'B-treatment', 'I-treatment', 'I-treatment', 'I-treatment', 'I-treatment', 'I-treatment', 'O', 'B-treatment', 'I-treatment', 'I-treatment', 'O', 'O', 'O', 'O', 'B-treatment', 'I-treatment', 'O', 'O', 'O', 'B-test', 'I-test', 'I-test', 'O', 'O', 'O', 'O', 'O', 'O', 'B-problem', 'I-problem', 'I-problem', 'I-problem', 'I-problem', 'I-problem', 'I-problem', 'O', 'O', 'O', 'O', 'O', 'O', 'O', 'O', 'O', 'O', 'O', 'O', 'O', 'O', 'O', 'O', 'O', 'O', 'O', 'O', 'O', 'O', 'O', 'O', 'O', 'B-treatment', 'I-treatment', 'O', 'O', 'O', 'B-problem', 'I-problem', 'I-problem', 'I-problem', 'I-problem', 'I-problem', 'O', 'O', 'O', 'O', 'O', 'O', 'O', 'O', 'O', 'O', 'O', 'O', 'O', 'O', 'O', 'O', 'O', 'O', 'O', 'O', 'O', 'O', 'O', 'O', 'O', 'O', 'O', 'O', 'O', 'O', 'B-treatment', 'I-treatment', 'I-treatment', 'O', 'B-problem', 'I-problem', 'I-problem', 'I-problem', 'I-problem', 'I-problem', 'O', 'O', 'O', 'O', 'O', 'O', 'O', 'O', 'B-treatment', 'I-treatment', 'O', 'O', 'O', 'O', 'B-problem', 'O', 'B-problem', 'O', 'O', 'O', 'O', 'O', 'O', 'O', 'O', 'B-problem', 'I-problem', 'O', 'O', 'B-test', 'I-test', 'O', 'B-problem', 'I-problem', 'I-problem', 'O', 'B-problem', 'I-problem', 'O', 'B-test', 'O', 'O', 'B-test', 'I-test', 'O', 'B-treatment', 'I-treatment', 'I-treatment', 'I-treatment', 'O', 'O', 'O', 'O', 'O', 'O', 'O', 'O', 'O', 'O', 'O', 'O', 'O', 'O', 'O', 'B-problem', 'O', 'O', 'O', 'O', 'O', 'O', 'O', 'O', 'O', 'O', 'O', 'O', 'O', 'O', 'O', 'O', 'O', 'O', 'O', 'O', 'O', 'O', 'O', 'O', 'B-problem', 'I-problem', 'O', 'O', 'O', 'O', 'O', 'O', 'O', 'O', 'O', 'O', 'O', 'O', 'O', 'O', 'O', 'O', 'O', 'O', 'O', 'O', 'O', 'O', 'O', 'O', 'O', 'O', 'O', 'B-test', 'I-test', 'O', 'O', 'O', 'O', 'O', 'B-problem', 'I-problem', 'I-problem', 'I-problem', 'I-problem', 'I-problem', 'I-problem', 'O', 'O', 'O', 'O', 'O', 'O', 'O', 'O', 'O', 'O', 'O', 'B-treatment', 'O', 'O', 'O', 'B-problem', 'O', 'B-problem', 'O', 'O', 'O', 'O', 'O', 'O', 'O', 'O', 'O', 'O', 'O', 'O', 'O', 'O', 'O', 'B-treatment', 'I-treatment', 'I-treatment', 'I-treatment', 'I-treatment', 'O', 'O', 'O', 'O', 'O', 'O', 'B-treatment', 'I-treatment', 'O', 'B-treatment', 'I-treatment', 'I-treatment', 'I-treatment', 'O', 'O', 'O', 'B-treatment', 'I-treatment', 'O', 'O', 'O', 'O', 'O', 'O', 'O', 'O', 'O', 'O', 'B-treatment', 'I-treatment', 'I-treatment', 'I-treatment', 'O', 'O', 'O', 'O', 'O', 'O', 'O', 'O', 'O', 'O', 'O', 'O', 'O', 'O', 'O', 'O', 'O', 'O', 'O', 'O', 'O', 'O', 'O', 'O', 'O', 'O', 'O', 'O', 'O', 'O', 'O', 'O', 'O', 'O', 'O', 'O', 'O', 'O', 'O', 'O', 'O', 'O', 'O', 'O', 'O', 'O', 'O', 'O', 'O', 'O', 'O', 'B-problem', 'I-problem', 'I-problem', 'I-problem', 'I-problem', 'I-problem', 'O', 'B-problem', 'I-problem', 'O', 'O', 'B-treatment', 'I-treatment', 'I-treatment', 'I-treatment', 'O', 'B-treatment', 'I-treatment', 'O', 'O', 'B-problem', 'I-problem', 'I-problem', 'O', 'O', 'O', 'O', 'B-problem', 'I-problem', 'I-problem', 'O', 'O', 'B-problem', 'I-problem', 'I-problem', 'I-problem', 'O', 'O', 'O', 'O', 'B-treatment', 'O', 'O', 'O', 'O', 'O', 'O', 'O', 'O', 'B-problem', 'O', 'O', 'O', 'O', 'O', 'O', 'O', 'O', 'O', 'O', 'O', 'O', 'O', 'O', 'O', 'O', 'O', 'O', 'O', 'O', 'O', 'O', 'O', 'O', 'O', 'O', 'O', 'B-treatment', 'I-treatment', 'I-treatment', 'I-treatment', 'O', 'B-treatment', 'I-treatment', 'I-treatment', 'I-treatment', 'O', 'O', 'O', 'O', 'O', 'O', 'O', 'O', 'B-problem', 'I-problem', 'I-problem', 'I-problem', 'I-problem', 'I-problem', 'I-problem', 'I-problem', 'O', 'O', 'O', 'O', 'O', 'O', 'O', 'B-treatment', 'I-treatment', 'I-treatment', 'O', 'B-treatment', 'I-treatment', 'O', 'O', 'O', 'O', 'B-problem', 'I-problem', 'O', 'O', 'O', 'O', 'O', 'O', 'O', 'O', 'O', 'O', 'O', 'O', 'O', 'O', 'O', 'O', 'O', 'O', 'O', 'O', 'O', 'O', 'B-treatment', 'O', 'B-problem', 'O', 'O', 'O', 'O', 'O', 'O', 'O', 'O', 'O', 'O', 'O', 'O', 'O', 'O', 'O', 'O', 'O', 'O', 'O', 'O', 'O', 'O', 'B-test', 'I-test', 'I-test', 'I-test', 'I-test', 'I-test', 'O', 'O', 'O', 'O', 'B-treatment', 'I-treatment', 'I-treatment', 'I-treatment', 'I-treatment', 'I-treatment', 'I-treatment', 'I-treatment', 'I-treatment', 'O', 'B-treatment', 'O', 'O', 'O', 'O', 'O', 'O', 'O', 'O', 'O', 'O', 'O', 'O', 'O', 'O', 'O', 'O', 'O', 'O', 'O', 'O', 'O', 'O', 'O', 'O', 'O', 'O', 'O', 'O', 'O', 'O', 'O', 'O', 'O', 'O', 'O', 'O', 'O', 'O', 'O', 'O', 'O', 'O', 'O', 'O', 'O', 'O', 'O', 'O', 'O', 'O', 'O', 'O', 'O', 'O', 'O', 'O', 'O', 'O', 'O', 'O', 'O', 'O', 'O', 'O', 'O', 'O', 'O', 'O', 'O', 'O', 'O', 'O']\n"
          ]
        }
      ],
      "source": [
        "print(records_dict['record-21']['words'])\n",
        "print(records_dict['record-21']['tags'])"
      ],
      "id": "yVaR5NTV4FQD"
    },
    {
      "cell_type": "code",
      "execution_count": null,
      "metadata": {
        "outputId": "55d2b7e7-16da-4922-e79e-030f562c0b4f",
        "colab": {
          "base_uri": "https://localhost:8080/",
          "height": 144
        },
        "id": "GjeQNbZZ537c"
      },
      "outputs": [
        {
          "output_type": "execute_result",
          "data": {
            "text/plain": [
              "                                                       words  \\\n",
              "record-20  [Admission, Date, :, 2013-06-12, Discharge, Da...   \n",
              "record-21  [01909607, Admission, Date, :, 2010-06-28, Dis...   \n",
              "record-22  [Admission, Date, :, 2018-10-25, Discharge, Da...   \n",
              "\n",
              "                                                        tags  \n",
              "record-20  [O, O, O, O, O, O, O, O, O, O, O, O, O, O, O, ...  \n",
              "record-21  [O, O, O, O, O, O, O, O, O, O, O, O, O, O, O, ...  \n",
              "record-22  [O, O, O, O, O, O, O, O, O, O, O, O, O, O, O, ...  "
            ],
            "text/html": [
              "\n",
              "  <div id=\"df-242aa083-d087-4977-9796-2187624f551b\" class=\"colab-df-container\">\n",
              "    <div>\n",
              "<style scoped>\n",
              "    .dataframe tbody tr th:only-of-type {\n",
              "        vertical-align: middle;\n",
              "    }\n",
              "\n",
              "    .dataframe tbody tr th {\n",
              "        vertical-align: top;\n",
              "    }\n",
              "\n",
              "    .dataframe thead th {\n",
              "        text-align: right;\n",
              "    }\n",
              "</style>\n",
              "<table border=\"1\" class=\"dataframe\">\n",
              "  <thead>\n",
              "    <tr style=\"text-align: right;\">\n",
              "      <th></th>\n",
              "      <th>words</th>\n",
              "      <th>tags</th>\n",
              "    </tr>\n",
              "  </thead>\n",
              "  <tbody>\n",
              "    <tr>\n",
              "      <th>record-20</th>\n",
              "      <td>[Admission, Date, :, 2013-06-12, Discharge, Da...</td>\n",
              "      <td>[O, O, O, O, O, O, O, O, O, O, O, O, O, O, O, ...</td>\n",
              "    </tr>\n",
              "    <tr>\n",
              "      <th>record-21</th>\n",
              "      <td>[01909607, Admission, Date, :, 2010-06-28, Dis...</td>\n",
              "      <td>[O, O, O, O, O, O, O, O, O, O, O, O, O, O, O, ...</td>\n",
              "    </tr>\n",
              "    <tr>\n",
              "      <th>record-22</th>\n",
              "      <td>[Admission, Date, :, 2018-10-25, Discharge, Da...</td>\n",
              "      <td>[O, O, O, O, O, O, O, O, O, O, O, O, O, O, O, ...</td>\n",
              "    </tr>\n",
              "  </tbody>\n",
              "</table>\n",
              "</div>\n",
              "    <div class=\"colab-df-buttons\">\n",
              "\n",
              "  <div class=\"colab-df-container\">\n",
              "    <button class=\"colab-df-convert\" onclick=\"convertToInteractive('df-242aa083-d087-4977-9796-2187624f551b')\"\n",
              "            title=\"Convert this dataframe to an interactive table.\"\n",
              "            style=\"display:none;\">\n",
              "\n",
              "  <svg xmlns=\"http://www.w3.org/2000/svg\" height=\"24px\" viewBox=\"0 -960 960 960\">\n",
              "    <path d=\"M120-120v-720h720v720H120Zm60-500h600v-160H180v160Zm220 220h160v-160H400v160Zm0 220h160v-160H400v160ZM180-400h160v-160H180v160Zm440 0h160v-160H620v160ZM180-180h160v-160H180v160Zm440 0h160v-160H620v160Z\"/>\n",
              "  </svg>\n",
              "    </button>\n",
              "\n",
              "  <style>\n",
              "    .colab-df-container {\n",
              "      display:flex;\n",
              "      gap: 12px;\n",
              "    }\n",
              "\n",
              "    .colab-df-convert {\n",
              "      background-color: #E8F0FE;\n",
              "      border: none;\n",
              "      border-radius: 50%;\n",
              "      cursor: pointer;\n",
              "      display: none;\n",
              "      fill: #1967D2;\n",
              "      height: 32px;\n",
              "      padding: 0 0 0 0;\n",
              "      width: 32px;\n",
              "    }\n",
              "\n",
              "    .colab-df-convert:hover {\n",
              "      background-color: #E2EBFA;\n",
              "      box-shadow: 0px 1px 2px rgba(60, 64, 67, 0.3), 0px 1px 3px 1px rgba(60, 64, 67, 0.15);\n",
              "      fill: #174EA6;\n",
              "    }\n",
              "\n",
              "    .colab-df-buttons div {\n",
              "      margin-bottom: 4px;\n",
              "    }\n",
              "\n",
              "    [theme=dark] .colab-df-convert {\n",
              "      background-color: #3B4455;\n",
              "      fill: #D2E3FC;\n",
              "    }\n",
              "\n",
              "    [theme=dark] .colab-df-convert:hover {\n",
              "      background-color: #434B5C;\n",
              "      box-shadow: 0px 1px 3px 1px rgba(0, 0, 0, 0.15);\n",
              "      filter: drop-shadow(0px 1px 2px rgba(0, 0, 0, 0.3));\n",
              "      fill: #FFFFFF;\n",
              "    }\n",
              "  </style>\n",
              "\n",
              "    <script>\n",
              "      const buttonEl =\n",
              "        document.querySelector('#df-242aa083-d087-4977-9796-2187624f551b button.colab-df-convert');\n",
              "      buttonEl.style.display =\n",
              "        google.colab.kernel.accessAllowed ? 'block' : 'none';\n",
              "\n",
              "      async function convertToInteractive(key) {\n",
              "        const element = document.querySelector('#df-242aa083-d087-4977-9796-2187624f551b');\n",
              "        const dataTable =\n",
              "          await google.colab.kernel.invokeFunction('convertToInteractive',\n",
              "                                                    [key], {});\n",
              "        if (!dataTable) return;\n",
              "\n",
              "        const docLinkHtml = 'Like what you see? Visit the ' +\n",
              "          '<a target=\"_blank\" href=https://colab.research.google.com/notebooks/data_table.ipynb>data table notebook</a>'\n",
              "          + ' to learn more about interactive tables.';\n",
              "        element.innerHTML = '';\n",
              "        dataTable['output_type'] = 'display_data';\n",
              "        await google.colab.output.renderOutput(dataTable, element);\n",
              "        const docLink = document.createElement('div');\n",
              "        docLink.innerHTML = docLinkHtml;\n",
              "        element.appendChild(docLink);\n",
              "      }\n",
              "    </script>\n",
              "  </div>\n",
              "\n",
              "\n",
              "<div id=\"df-fe03cf3a-fd83-4576-8cc4-ceb4545325e7\">\n",
              "  <button class=\"colab-df-quickchart\" onclick=\"quickchart('df-fe03cf3a-fd83-4576-8cc4-ceb4545325e7')\"\n",
              "            title=\"Suggest charts\"\n",
              "            style=\"display:none;\">\n",
              "\n",
              "<svg xmlns=\"http://www.w3.org/2000/svg\" height=\"24px\"viewBox=\"0 0 24 24\"\n",
              "     width=\"24px\">\n",
              "    <g>\n",
              "        <path d=\"M19 3H5c-1.1 0-2 .9-2 2v14c0 1.1.9 2 2 2h14c1.1 0 2-.9 2-2V5c0-1.1-.9-2-2-2zM9 17H7v-7h2v7zm4 0h-2V7h2v10zm4 0h-2v-4h2v4z\"/>\n",
              "    </g>\n",
              "</svg>\n",
              "  </button>\n",
              "\n",
              "<style>\n",
              "  .colab-df-quickchart {\n",
              "      --bg-color: #E8F0FE;\n",
              "      --fill-color: #1967D2;\n",
              "      --hover-bg-color: #E2EBFA;\n",
              "      --hover-fill-color: #174EA6;\n",
              "      --disabled-fill-color: #AAA;\n",
              "      --disabled-bg-color: #DDD;\n",
              "  }\n",
              "\n",
              "  [theme=dark] .colab-df-quickchart {\n",
              "      --bg-color: #3B4455;\n",
              "      --fill-color: #D2E3FC;\n",
              "      --hover-bg-color: #434B5C;\n",
              "      --hover-fill-color: #FFFFFF;\n",
              "      --disabled-bg-color: #3B4455;\n",
              "      --disabled-fill-color: #666;\n",
              "  }\n",
              "\n",
              "  .colab-df-quickchart {\n",
              "    background-color: var(--bg-color);\n",
              "    border: none;\n",
              "    border-radius: 50%;\n",
              "    cursor: pointer;\n",
              "    display: none;\n",
              "    fill: var(--fill-color);\n",
              "    height: 32px;\n",
              "    padding: 0;\n",
              "    width: 32px;\n",
              "  }\n",
              "\n",
              "  .colab-df-quickchart:hover {\n",
              "    background-color: var(--hover-bg-color);\n",
              "    box-shadow: 0 1px 2px rgba(60, 64, 67, 0.3), 0 1px 3px 1px rgba(60, 64, 67, 0.15);\n",
              "    fill: var(--button-hover-fill-color);\n",
              "  }\n",
              "\n",
              "  .colab-df-quickchart-complete:disabled,\n",
              "  .colab-df-quickchart-complete:disabled:hover {\n",
              "    background-color: var(--disabled-bg-color);\n",
              "    fill: var(--disabled-fill-color);\n",
              "    box-shadow: none;\n",
              "  }\n",
              "\n",
              "  .colab-df-spinner {\n",
              "    border: 2px solid var(--fill-color);\n",
              "    border-color: transparent;\n",
              "    border-bottom-color: var(--fill-color);\n",
              "    animation:\n",
              "      spin 1s steps(1) infinite;\n",
              "  }\n",
              "\n",
              "  @keyframes spin {\n",
              "    0% {\n",
              "      border-color: transparent;\n",
              "      border-bottom-color: var(--fill-color);\n",
              "      border-left-color: var(--fill-color);\n",
              "    }\n",
              "    20% {\n",
              "      border-color: transparent;\n",
              "      border-left-color: var(--fill-color);\n",
              "      border-top-color: var(--fill-color);\n",
              "    }\n",
              "    30% {\n",
              "      border-color: transparent;\n",
              "      border-left-color: var(--fill-color);\n",
              "      border-top-color: var(--fill-color);\n",
              "      border-right-color: var(--fill-color);\n",
              "    }\n",
              "    40% {\n",
              "      border-color: transparent;\n",
              "      border-right-color: var(--fill-color);\n",
              "      border-top-color: var(--fill-color);\n",
              "    }\n",
              "    60% {\n",
              "      border-color: transparent;\n",
              "      border-right-color: var(--fill-color);\n",
              "    }\n",
              "    80% {\n",
              "      border-color: transparent;\n",
              "      border-right-color: var(--fill-color);\n",
              "      border-bottom-color: var(--fill-color);\n",
              "    }\n",
              "    90% {\n",
              "      border-color: transparent;\n",
              "      border-bottom-color: var(--fill-color);\n",
              "    }\n",
              "  }\n",
              "</style>\n",
              "\n",
              "  <script>\n",
              "    async function quickchart(key) {\n",
              "      const quickchartButtonEl =\n",
              "        document.querySelector('#' + key + ' button');\n",
              "      quickchartButtonEl.disabled = true;  // To prevent multiple clicks.\n",
              "      quickchartButtonEl.classList.add('colab-df-spinner');\n",
              "      try {\n",
              "        const charts = await google.colab.kernel.invokeFunction(\n",
              "            'suggestCharts', [key], {});\n",
              "      } catch (error) {\n",
              "        console.error('Error during call to suggestCharts:', error);\n",
              "      }\n",
              "      quickchartButtonEl.classList.remove('colab-df-spinner');\n",
              "      quickchartButtonEl.classList.add('colab-df-quickchart-complete');\n",
              "    }\n",
              "    (() => {\n",
              "      let quickchartButtonEl =\n",
              "        document.querySelector('#df-fe03cf3a-fd83-4576-8cc4-ceb4545325e7 button');\n",
              "      quickchartButtonEl.style.display =\n",
              "        google.colab.kernel.accessAllowed ? 'block' : 'none';\n",
              "    })();\n",
              "  </script>\n",
              "</div>\n",
              "\n",
              "    </div>\n",
              "  </div>\n"
            ],
            "application/vnd.google.colaboratory.intrinsic+json": {
              "type": "dataframe",
              "variable_name": "df_trans",
              "summary": "{\n  \"name\": \"df_trans\",\n  \"rows\": 426,\n  \"fields\": [\n    {\n      \"column\": \"words\",\n      \"properties\": {\n        \"dtype\": \"object\",\n        \"semantic_type\": \"\",\n        \"description\": \"\"\n      }\n    },\n    {\n      \"column\": \"tags\",\n      \"properties\": {\n        \"dtype\": \"object\",\n        \"semantic_type\": \"\",\n        \"description\": \"\"\n      }\n    }\n  ]\n}"
            }
          },
          "metadata": {},
          "execution_count": 11
        }
      ],
      "source": [
        "df = pd.DataFrame(records_dict)\n",
        "df_trans = df.transpose()\n",
        "df_trans.head(3)"
      ],
      "id": "GjeQNbZZ537c"
    },
    {
      "cell_type": "code",
      "execution_count": null,
      "metadata": {
        "outputId": "18688b0a-256d-49c8-dc6b-bbe3ff1e2f11",
        "colab": {
          "base_uri": "https://localhost:8080/"
        },
        "id": "e_XtHpC8ANw4"
      },
      "outputs": [
        {
          "output_type": "stream",
          "name": "stdout",
          "text": [
            "Collecting datasets\n",
            "  Downloading datasets-2.18.0-py3-none-any.whl (510 kB)\n",
            "\u001b[2K     \u001b[90m━━━━━━━━━━━━━━━━━━━━━━━━━━━━━━━━━━━━━━━━\u001b[0m \u001b[32m510.5/510.5 kB\u001b[0m \u001b[31m9.8 MB/s\u001b[0m eta \u001b[36m0:00:00\u001b[0m\n",
            "\u001b[?25hRequirement already satisfied: filelock in /usr/local/lib/python3.10/dist-packages (from datasets) (3.13.3)\n",
            "Requirement already satisfied: numpy>=1.17 in /usr/local/lib/python3.10/dist-packages (from datasets) (1.25.2)\n",
            "Requirement already satisfied: pyarrow>=12.0.0 in /usr/local/lib/python3.10/dist-packages (from datasets) (14.0.2)\n",
            "Requirement already satisfied: pyarrow-hotfix in /usr/local/lib/python3.10/dist-packages (from datasets) (0.6)\n",
            "Collecting dill<0.3.9,>=0.3.0 (from datasets)\n",
            "  Downloading dill-0.3.8-py3-none-any.whl (116 kB)\n",
            "\u001b[2K     \u001b[90m━━━━━━━━━━━━━━━━━━━━━━━━━━━━━━━━━━━━━━━━\u001b[0m \u001b[32m116.3/116.3 kB\u001b[0m \u001b[31m16.3 MB/s\u001b[0m eta \u001b[36m0:00:00\u001b[0m\n",
            "\u001b[?25hRequirement already satisfied: pandas in /usr/local/lib/python3.10/dist-packages (from datasets) (2.0.3)\n",
            "Requirement already satisfied: requests>=2.19.0 in /usr/local/lib/python3.10/dist-packages (from datasets) (2.31.0)\n",
            "Requirement already satisfied: tqdm>=4.62.1 in /usr/local/lib/python3.10/dist-packages (from datasets) (4.66.2)\n",
            "Collecting xxhash (from datasets)\n",
            "  Downloading xxhash-3.4.1-cp310-cp310-manylinux_2_17_x86_64.manylinux2014_x86_64.whl (194 kB)\n",
            "\u001b[2K     \u001b[90m━━━━━━━━━━━━━━━━━━━━━━━━━━━━━━━━━━━━━━━━\u001b[0m \u001b[32m194.1/194.1 kB\u001b[0m \u001b[31m24.1 MB/s\u001b[0m eta \u001b[36m0:00:00\u001b[0m\n",
            "\u001b[?25hCollecting multiprocess (from datasets)\n",
            "  Downloading multiprocess-0.70.16-py310-none-any.whl (134 kB)\n",
            "\u001b[2K     \u001b[90m━━━━━━━━━━━━━━━━━━━━━━━━━━━━━━━━━━━━━━━━\u001b[0m \u001b[32m134.8/134.8 kB\u001b[0m \u001b[31m19.2 MB/s\u001b[0m eta \u001b[36m0:00:00\u001b[0m\n",
            "\u001b[?25hRequirement already satisfied: fsspec[http]<=2024.2.0,>=2023.1.0 in /usr/local/lib/python3.10/dist-packages (from datasets) (2023.6.0)\n",
            "Requirement already satisfied: aiohttp in /usr/local/lib/python3.10/dist-packages (from datasets) (3.9.3)\n",
            "Requirement already satisfied: huggingface-hub>=0.19.4 in /usr/local/lib/python3.10/dist-packages (from datasets) (0.20.3)\n",
            "Requirement already satisfied: packaging in /usr/local/lib/python3.10/dist-packages (from datasets) (24.0)\n",
            "Requirement already satisfied: pyyaml>=5.1 in /usr/local/lib/python3.10/dist-packages (from datasets) (6.0.1)\n",
            "Requirement already satisfied: aiosignal>=1.1.2 in /usr/local/lib/python3.10/dist-packages (from aiohttp->datasets) (1.3.1)\n",
            "Requirement already satisfied: attrs>=17.3.0 in /usr/local/lib/python3.10/dist-packages (from aiohttp->datasets) (23.2.0)\n",
            "Requirement already satisfied: frozenlist>=1.1.1 in /usr/local/lib/python3.10/dist-packages (from aiohttp->datasets) (1.4.1)\n",
            "Requirement already satisfied: multidict<7.0,>=4.5 in /usr/local/lib/python3.10/dist-packages (from aiohttp->datasets) (6.0.5)\n",
            "Requirement already satisfied: yarl<2.0,>=1.0 in /usr/local/lib/python3.10/dist-packages (from aiohttp->datasets) (1.9.4)\n",
            "Requirement already satisfied: async-timeout<5.0,>=4.0 in /usr/local/lib/python3.10/dist-packages (from aiohttp->datasets) (4.0.3)\n",
            "Requirement already satisfied: typing-extensions>=3.7.4.3 in /usr/local/lib/python3.10/dist-packages (from huggingface-hub>=0.19.4->datasets) (4.10.0)\n",
            "Requirement already satisfied: charset-normalizer<4,>=2 in /usr/local/lib/python3.10/dist-packages (from requests>=2.19.0->datasets) (3.3.2)\n",
            "Requirement already satisfied: idna<4,>=2.5 in /usr/local/lib/python3.10/dist-packages (from requests>=2.19.0->datasets) (3.6)\n",
            "Requirement already satisfied: urllib3<3,>=1.21.1 in /usr/local/lib/python3.10/dist-packages (from requests>=2.19.0->datasets) (2.0.7)\n",
            "Requirement already satisfied: certifi>=2017.4.17 in /usr/local/lib/python3.10/dist-packages (from requests>=2.19.0->datasets) (2024.2.2)\n",
            "Requirement already satisfied: python-dateutil>=2.8.2 in /usr/local/lib/python3.10/dist-packages (from pandas->datasets) (2.8.2)\n",
            "Requirement already satisfied: pytz>=2020.1 in /usr/local/lib/python3.10/dist-packages (from pandas->datasets) (2023.4)\n",
            "Requirement already satisfied: tzdata>=2022.1 in /usr/local/lib/python3.10/dist-packages (from pandas->datasets) (2024.1)\n",
            "Requirement already satisfied: six>=1.5 in /usr/local/lib/python3.10/dist-packages (from python-dateutil>=2.8.2->pandas->datasets) (1.16.0)\n",
            "Installing collected packages: xxhash, dill, multiprocess, datasets\n",
            "Successfully installed datasets-2.18.0 dill-0.3.8 multiprocess-0.70.16 xxhash-3.4.1\n"
          ]
        }
      ],
      "source": [
        "!pip install datasets"
      ],
      "id": "e_XtHpC8ANw4"
    },
    {
      "cell_type": "code",
      "execution_count": null,
      "metadata": {
        "outputId": "ac4684e9-0c65-410f-babf-eafcf8faa80b",
        "colab": {
          "base_uri": "https://localhost:8080/",
          "height": 118,
          "referenced_widgets": [
            "0e68ea116ae54546a76b57684ffba193",
            "fa81a938f6e64d1f84aea1b94b6e878e",
            "c806219e057e4e818118b15fcce3f56f",
            "fb9f3892c4ae4979a68d57ad561fa390",
            "7b98442ee7cc4aee8ad6396a1d7fab08",
            "16236d918c174c1f808d78529a303706",
            "b53328d4e372446b8ddb58b2b24534d6",
            "65675ba224cb43f28c34db277cde80a4",
            "d04af428a7464048a7062fb781b34955",
            "24b1c470c7304474bd7f81c5bad18200",
            "5ee6237dc0da4458a5938392d8af2aef"
          ]
        },
        "id": "R5d5KJYy_nMZ"
      },
      "outputs": [
        {
          "output_type": "display_data",
          "data": {
            "text/plain": [
              "Casting the dataset:   0%|          | 0/426 [00:00<?, ? examples/s]"
            ],
            "application/vnd.jupyter.widget-view+json": {
              "version_major": 2,
              "version_minor": 0,
              "model_id": "0e68ea116ae54546a76b57684ffba193"
            }
          },
          "metadata": {}
        },
        {
          "output_type": "execute_result",
          "data": {
            "text/plain": [
              "Dataset({\n",
              "    features: ['id', 'tokens', 'ner_tags'],\n",
              "    num_rows: 426\n",
              "})"
            ]
          },
          "metadata": {},
          "execution_count": 13
        }
      ],
      "source": [
        "X = df_trans['words']\n",
        "y = df_trans['tags']\n",
        "\n",
        "tags = ['O',\n",
        "    'B-test',\n",
        "    'I-test',\n",
        "    'B-problem',\n",
        "    'I-problem',\n",
        "    'B-treatment',\n",
        "    'I-treatment']\n",
        "\n",
        "\n",
        "info_dict = {}\n",
        "info_dict['id'] = list(map(str,list(df_trans.index)))\n",
        "info_dict['tokens'] = list(X.values)\n",
        "info_dict['ner_tags'] = list(y.values)\n",
        "\n",
        "from datasets import Dataset, Sequence, ClassLabel\n",
        "\n",
        "dataset = Dataset.from_dict(info_dict)\n",
        "dataset = dataset.cast_column('ner_tags', Sequence(ClassLabel(names=tags)))\n",
        "dataset"
      ],
      "id": "R5d5KJYy_nMZ"
    },
    {
      "cell_type": "code",
      "source": [
        "checkpoint = 'dmis-lab/biobert-v1.1'\n",
        "\n",
        "tokenizer = AutoTokenizer.from_pretrained(checkpoint,model_max_length=512)"
      ],
      "metadata": {
        "id": "oFxeMeLprBgq",
        "colab": {
          "base_uri": "https://localhost:8080/",
          "height": 249,
          "referenced_widgets": [
            "3b5f30863d35417d8987d6316c097bc1",
            "1cfeace82c9849ad840d291df3b00726",
            "97d1afcb8d5842318525b824bcfa7cc3",
            "091090889b4e4b40bea1f03d60232d0c",
            "79d228af501e44b484c851f0f78c5fa3",
            "03f3ec60a63a4cd8ad5ee4225cae2d4f",
            "5d670e11597242c386a9ab491e77d94e",
            "c1e7cbc233534850b508f671636b401c",
            "5a16976fe267458fa66236ad0359ac61",
            "51d7d053b8704096a00158b6d004706c",
            "ae8ea80b37b9445e92ce53a8cee8f89e",
            "dc1b3e5e50414e169a93de1b626a9572",
            "461c76f5e60342c1bdea5f6661b15f1a",
            "cab8768ff89844f6af6bca63fc68f428",
            "b5c43c077ea14285ad7be27c61d61be7",
            "43dd320a8729454a91dc2165e186adc4",
            "f73b84872ebb435d9f73a1e7ffa88a99",
            "33ec36d2f96b4fe8962ea221999255b0",
            "7e96ad134b404e95b539a3a3f3fc37a7",
            "373d4e92dd684021a4ae6e1cdf00d1f4",
            "b815736a2f6d40e09206de60e5082c69",
            "24b533ff31694d2fa979c3c526342305",
            "18fede9894e347afaa4dd5cacfcb1a6f",
            "b2c95f47dbed4cd598ab4f37ff0d42a8",
            "dbc1fe3d7ee74904b6e9e23d5161c596",
            "c56eb77f4d6f46f0a244322d3f560337",
            "30c7f8f1920943acbee4f3bfd37f3855",
            "3130666749aa4d54ae3a50d7f66931b2",
            "02fc4dfc1ea040d59d34d146ff2caba3",
            "29091c3b68e649e597bcce01d3b95752",
            "976bddd568a04b9ba86535ad58edbb8f",
            "3855c99a854c46a7b090f8f78e617f56",
            "bd7ef560788747939029048c4a5de6f6",
            "e4ebf717fe9b4e4ebdbb9d319f39a34b",
            "c296e8980c3443e899a6acbb365bffdb",
            "ae7288fc02bd4e22a6911e9d910364f6",
            "4121ab75f3e64c23bfa630843dc53e20",
            "a40f2d7056cf4a5e84c8dcc2997632c5",
            "ba0723b96d1c473c95c311cd1950667a",
            "7676db07263d460aaeb590b391dd40c6",
            "eb46e6b6075248cbb98fe04302deb306",
            "2636c0b0d4ba4d328f1a5699707251d3",
            "373aa1b870464082a168ecfa33af2ecf",
            "ce9cc548c31f425c955c1df925ce013d"
          ]
        },
        "outputId": "da39f92f-c7b6-4ce7-93ca-5c75c422614f"
      },
      "id": "oFxeMeLprBgq",
      "execution_count": null,
      "outputs": [
        {
          "output_type": "stream",
          "name": "stderr",
          "text": [
            "/usr/local/lib/python3.10/dist-packages/huggingface_hub/utils/_token.py:88: UserWarning: \n",
            "The secret `HF_TOKEN` does not exist in your Colab secrets.\n",
            "To authenticate with the Hugging Face Hub, create a token in your settings tab (https://huggingface.co/settings/tokens), set it as secret in your Google Colab and restart your session.\n",
            "You will be able to reuse this secret in all of your notebooks.\n",
            "Please note that authentication is recommended but still optional to access public models or datasets.\n",
            "  warnings.warn(\n"
          ]
        },
        {
          "output_type": "display_data",
          "data": {
            "text/plain": [
              "tokenizer_config.json:   0%|          | 0.00/49.0 [00:00<?, ?B/s]"
            ],
            "application/vnd.jupyter.widget-view+json": {
              "version_major": 2,
              "version_minor": 0,
              "model_id": "3b5f30863d35417d8987d6316c097bc1"
            }
          },
          "metadata": {}
        },
        {
          "output_type": "display_data",
          "data": {
            "text/plain": [
              "config.json:   0%|          | 0.00/462 [00:00<?, ?B/s]"
            ],
            "application/vnd.jupyter.widget-view+json": {
              "version_major": 2,
              "version_minor": 0,
              "model_id": "dc1b3e5e50414e169a93de1b626a9572"
            }
          },
          "metadata": {}
        },
        {
          "output_type": "display_data",
          "data": {
            "text/plain": [
              "vocab.txt:   0%|          | 0.00/213k [00:00<?, ?B/s]"
            ],
            "application/vnd.jupyter.widget-view+json": {
              "version_major": 2,
              "version_minor": 0,
              "model_id": "18fede9894e347afaa4dd5cacfcb1a6f"
            }
          },
          "metadata": {}
        },
        {
          "output_type": "display_data",
          "data": {
            "text/plain": [
              "special_tokens_map.json:   0%|          | 0.00/112 [00:00<?, ?B/s]"
            ],
            "application/vnd.jupyter.widget-view+json": {
              "version_major": 2,
              "version_minor": 0,
              "model_id": "e4ebf717fe9b4e4ebdbb9d319f39a34b"
            }
          },
          "metadata": {}
        }
      ]
    },
    {
      "cell_type": "code",
      "source": [
        "tokenized_input = tokenizer(records_dict['record-21']['words'], is_split_into_words=True)\n",
        "tokens = tokenizer.convert_ids_to_tokens(tokenized_input[\"input_ids\"])\n",
        "word_ids = tokenized_input.word_ids()\n",
        "aligned_labels = [-100 if i is None else records_dict['record-21']['tags'][i] for i in word_ids]\n",
        "\n",
        "assert len(aligned_labels) == len(tokenized_input[\"input_ids\"])"
      ],
      "metadata": {
        "id": "rfOPSZeMhIlk",
        "colab": {
          "base_uri": "https://localhost:8080/"
        },
        "outputId": "b0a2027a-6dd2-4b92-a0f9-8f846d9109f1"
      },
      "execution_count": null,
      "outputs": [
        {
          "output_type": "stream",
          "name": "stderr",
          "text": [
            "Token indices sequence length is longer than the specified maximum sequence length for this model (2055 > 512). Running this sequence through the model will result in indexing errors\n"
          ]
        }
      ],
      "id": "rfOPSZeMhIlk"
    },
    {
      "cell_type": "code",
      "source": [
        "tokenized_input = tokenizer(records_dict['record-21']['words'], is_split_into_words=True)\n",
        "tokens = tokenizer.convert_ids_to_tokens(tokenized_input[\"input_ids\"])\n",
        "word_ids = tokenized_input.word_ids()\n",
        "aligned_labels = [-100 if i is None else records_dict['record-21']['tags'][i] for i in word_ids]\n",
        "print(tokenized_input[\"input_ids\"])\n",
        "print(aligned_labels)"
      ],
      "metadata": {
        "colab": {
          "base_uri": "https://localhost:8080/"
        },
        "outputId": "fb66a836-cb15-4596-b740-708c4a58045d",
        "id": "DruIoKq1z3Hh"
      },
      "execution_count": null,
      "outputs": [
        {
          "output_type": "stream",
          "name": "stdout",
          "text": [
            "[101, 5187, 21500, 1580, 16480, 1559, 24930, 11234, 14265, 131, 1333, 118, 5037, 118, 1743, 14856, 7111, 2176, 14265, 131, 1333, 118, 5004, 118, 5187, 14265, 1104, 20729, 131, 1997, 118, 5507, 118, 5187, 9850, 131, 143, 2516, 131, 23066, 24162, 17195, 10069, 9741, 145, 6258, 18082, 2069, 3663, 11345, 7462, 11629, 9919, 11680, 1942, 15393, 2162, 22680, 12480, 131, 1188, 1110, 170, 1406, 118, 1214, 118, 1385, 2130, 1114, 1185, 2418, 1763, 2657, 1607, 117, 1150, 1108, 1103, 18366, 11098, 1174, 4059, 1107, 170, 1344, 2420, 5155, 5909, 5968, 3686, 4216, 1113, 1333, 118, 5037, 118, 1765, 119, 1650, 2592, 117, 1103, 5351, 1108, 25292, 1121, 1103, 3686, 1113, 3772, 1105, 1276, 7787, 1107, 1103, 175, 21470, 1700, 1120, 1103, 3876, 1104, 1103, 3686, 1120, 1103, 2741, 119, 1109, 3686, 1108, 2382, 1106, 1129, 7620, 4938, 119, 1650, 2592, 117, 1103, 5351, 1108, 2382, 1106, 1129, 8264, 117, 1133, 4853, 1120, 1103, 2741, 1104, 1103, 4216, 1114, 1185, 2962, 1104, 1103, 4497, 119, 1153, 1108, 13280, 3702, 15197, 2200, 1107, 1103, 140, 118, 8340, 9704, 1120, 1103, 2741, 1104, 1103, 4216, 1105, 2886, 9470, 1118, 142, 7182, 1106, 1103, 1203, 1652, 22986, 3355, 111, 11336, 17266, 1945, 11177, 1951, 1111, 1748, 2635, 119, 153, 3048, 3663, 13882, 11356, 2162, 142, 3190, 10964, 11607, 13821, 24805, 131, 26947, 1113, 8685, 1106, 1103, 5241, 1395, 3090, 1103, 1378, 131, 12008, 20900, 17337, 2588, 119, 125, 24664, 3447, 3285, 117, 1892, 2997, 13096, 120, 5519, 117, 8561, 8359, 117, 19192, 2603, 1407, 117, 7621, 2068, 23022, 5103, 110, 1113, 1395, 1586, 119, 1109, 5351, 1108, 10427, 1105, 7779, 1551, 1210, 1107, 1185, 6281, 13632, 119, 2859, 3291, 1918, 20334, 1104, 1405, 119, 5331, 8223, 7192, 1665, 10936, 1116, 1127, 2382, 1106, 1129, 2330, 119, 153, 4455, 8825, 1127, 4463, 117, 1668, 117, 26844, 1106, 1609, 1120, 2324, 125, 2608, 119, 1109, 5351, 112, 188, 189, 19366, 13836, 1108, 2382, 1106, 1129, 2286, 2568, 119, 1109, 5351, 112, 188, 13093, 8179, 3090, 1103, 8682, 1106, 1129, 2330, 1106, 12686, 1116, 10182, 23934, 2116, 20557, 1193, 117, 1185, 172, 1874, 18965, 1361, 117, 1105, 170, 1286, 172, 9516, 20899, 19353, 24211, 1785, 1108, 10272, 1193, 6281, 1113, 8179, 119, 8784, 23354, 9984, 1658, 131, 10103, 12571, 8179, 7160, 2366, 2603, 1105, 6795, 117, 1185, 26792, 117, 16259, 1116, 117, 1137, 20003, 22101, 119, 16151, 2137, 13041, 11680, 131, 19539, 117, 1664, 22910, 1200, 117, 1664, 10396, 21857, 119, 155, 8231, 9159, 2162, 131, 26947, 1108, 176, 6718, 12571, 4366, 1114, 1363, 1231, 5822, 1348, 3586, 119, 1109, 5351, 112, 188, 185, 1883, 9356, 1108, 6111, 1106, 10997, 1105, 11937, 14928, 119, 138, 126, 3975, 15170, 6108, 1108, 2382, 1166, 1103, 5351, 112, 188, 184, 19557, 16156, 1113, 1748, 11820, 1114, 1185, 5490, 10311, 6028, 119, 4114, 3105, 4252, 7877, 15455, 8179, 7160, 9964, 5968, 117, 19144, 117, 1105, 26557, 3053, 119, 8123, 3105, 4252, 7877, 15455, 8179, 7160, 1185, 10272, 19353, 24211, 4233, 117, 8886, 1757, 1106, 185, 1348, 22578, 1107, 1103, 2286, 17284, 117, 9964, 5968, 3053, 1107, 1103, 3151, 117, 17172, 117, 1105, 23449, 13380, 9071, 23190, 117, 9964, 8710, 1106, 1609, 2828, 1107, 1103, 3151, 1105, 17172, 9071, 23190, 117, 10558, 8710, 1107, 1103, 23449, 13380, 118, 9071, 3735, 117, 3258, 1105, 1218, 1679, 21089, 16864, 1114, 123, 116, 17172, 27631, 119, 4114, 2211, 4252, 7877, 15455, 8179, 7160, 10496, 20085, 1105, 174, 19515, 7889, 11828, 1548, 1104, 1103, 1268, 16530, 9973, 1105, 2324, 170, 124, 3975, 15170, 6108, 1107, 1103, 2211, 3420, 117, 26005, 1104, 8828, 7919, 1104, 2530, 188, 2083, 4759, 4633, 119, 1302, 10272, 19353, 24211, 4233, 119, 8226, 117, 19144, 117, 1105, 26557, 17865, 1127, 9964, 1107, 1155, 23190, 119, 8123, 2211, 4252, 7877, 15455, 8179, 7160, 1185, 10272, 19353, 24211, 4233, 1105, 9964, 5968, 117, 19144, 117, 1105, 26557, 17865, 1107, 1155, 23190, 119, 2664, 11293, 2527, 7160, 1126, 15543, 13577, 1286, 2286, 1665, 9516, 20899, 22869, 117, 1185, 2554, 1104, 185, 1673, 1818, 12858, 25632, 119, 157, 1611, 10161, 1326, 7160, 1185, 2554, 1104, 170, 185, 1883, 15901, 22869, 119, 3763, 16899, 7160, 1185, 2554, 1104, 1107, 4487, 1665, 23851, 1348, 9793, 119, 157, 1611, 10161, 16899, 7160, 10496, 26600, 14255, 4814, 5266, 117, 1133, 1185, 185, 1883, 15901, 22869, 119, 24664, 1197, 15901, 1348, 8340, 14377, 7160, 1185, 2554, 1104, 172, 1200, 15901, 1348, 8340, 3773, 119, 4114, 189, 21883, 1348, 118, 20497, 23601, 1197, 1273, 1326, 7160, 1185, 2554, 1104, 22869, 15167, 119, 8123, 21820, 27955, 1273, 1326, 7160, 1185, 2554, 1104, 22869, 1137, 15167, 119, 4114, 2555, 1105, 175, 5521, 2149, 1326, 7160, 1185, 2554, 1104, 22869, 15167, 119, 8123, 17284, 1105, 6703, 1326, 7160, 20987, 2286, 9202, 17172, 22869, 1114, 23449, 13380, 15167, 119, 12120, 8517, 27078, 1679, 8383, 1673, 1818, 16135, 2176, 1551, 1160, 1108, 4366, 1111, 1251, 5300, 1104, 1107, 4487, 118, 24716, 9793, 119, 10722, 23904, 9664, 18082, 2069, 3663, 141, 13821, 1592, 131, 3829, 1113, 10296, 3090, 1103, 1378, 131, 2061, 1892, 2765, 1367, 119, 130, 117, 23123, 8032, 2858, 7939, 1429, 119, 126, 117, 23123, 10024, 1665, 7729, 2724, 119, 129, 117, 4885, 5765, 5099, 21764, 117, 1288, 117, 15059, 16308, 117, 21177, 124, 119, 127, 117, 21256, 6745, 117, 16516, 8766, 8868, 2193, 1626, 117, 139, 27370, 1406, 117, 172, 11811, 6105, 2042, 121, 119, 128, 117, 20636, 22415, 117, 22216, 1492, 119, 124, 117, 15969, 2069, 122, 119, 123, 117, 22216, 1942, 1476, 119, 121, 117, 1821, 22948, 2217, 4667, 117, 1893, 19860, 1892, 3245, 128, 119, 2724, 117, 2588, 117, 20485, 117, 1627, 117, 118, 128, 119, 158, 9324, 15140, 1108, 1439, 2999, 6263, 1114, 127, 1106, 1275, 1894, 1892, 3652, 119, 1706, 8745, 12241, 3251, 1108, 4366, 119, 145, 9025, 23203, 9159, 2162, 18732, 19556, 12649, 131, 1109, 5351, 1108, 17428, 1118, 1103, 157, 1611, 10161, 2516, 1107, 1103, 5241, 1395, 117, 1187, 1131, 1460, 1300, 27146, 1116, 8626, 2858, 2386, 1105, 1300, 2338, 8733, 1894, 1892, 3652, 1114, 1363, 2593, 119, 1130, 1901, 117, 1103, 5351, 1460, 1103, 1807, 118, 1758, 20346, 8826, 117, 1134, 7160, 5917, 2609, 1106, 170, 16530, 23658, 15170, 6108, 117, 1286, 25555, 172, 9516, 26726, 117, 1286, 25555, 12717, 117, 1268, 9973, 23123, 10024, 1918, 117, 1105, 1268, 3420, 15170, 6108, 119, 1109, 5351, 1108, 2886, 4120, 1106, 1103, 157, 1611, 10161, 2516, 1113, 1333, 118, 5037, 118, 1743, 1223, 1103, 2447, 1104, 1987, 119, 5738, 1183, 119, 10470, 1103, 5351, 112, 188, 1268, 9973, 23123, 10024, 1918, 117, 170, 3840, 21790, 10540, 1104, 1103, 1268, 2211, 4252, 7877, 15455, 1108, 1982, 1113, 1333, 118, 5037, 118, 1743, 1105, 7160, 1185, 2554, 1104, 1558, 1893, 19860, 1137, 1396, 23901, 3773, 1107, 1103, 1634, 1104, 1103, 1268, 16664, 14846, 1348, 1805, 119, 1212, 5037, 118, 1743, 117, 1103, 5351, 1108, 1145, 5323, 1111, 8116, 1104, 1123, 140, 118, 8340, 9704, 1105, 8012, 6111, 1111, 4036, 1106, 1103, 2926, 1582, 15680, 1596, 2516, 1223, 1103, 2447, 1104, 1987, 119, 6413, 1810, 13253, 119, 1109, 5351, 1915, 6111, 1194, 1333, 118, 5037, 118, 1853, 1120, 1134, 1553, 1131, 1108, 1850, 1106, 1103, 3389, 1395, 1106, 13971, 170, 1286, 17172, 22869, 1501, 7234, 1105, 4422, 8239, 1891, 7791, 119, 1109, 5351, 21073, 1181, 1103, 7791, 1218, 1105, 7160, 170, 2112, 19807, 5838, 23123, 10024, 1665, 7729, 1104, 1969, 119, 130, 119, 2096, 3805, 117, 1103, 23658, 1105, 1268, 2211, 3420, 15170, 26720, 1127, 1804, 3120, 1118, 1103, 14780, 1264, 1113, 10296, 1105, 1113, 2704, 1285, 108, 122, 1127, 2382, 1106, 1129, 4044, 117, 3712, 117, 1105, 9964, 119, 7922, 19807, 5838, 3252, 1108, 1809, 1111, 1103, 5351, 112, 188, 1286, 172, 9516, 20899, 22869, 119, 1212, 2112, 19807, 5838, 1285, 108, 122, 117, 1333, 118, 5037, 118, 1476, 117, 1103, 5351, 1108, 2382, 1106, 1129, 7300, 1193, 6111, 117, 1106, 2879, 3798, 9619, 14741, 117, 1105, 26005, 1104, 12373, 7919, 1104, 19968, 2457, 1104, 170, 18412, 5855, 4638, 2083, 119, 1109, 5351, 112, 188, 1246, 5785, 15170, 6108, 1108, 2382, 1106, 1129, 4044, 1105, 3712, 1114, 9964, 22088, 1116, 119, 1247, 1108, 1185, 14044, 25669, 15391, 1161, 1137, 23609, 5082, 7836, 2093, 119, 1109, 1286, 172, 9516, 26726, 1108, 2382, 1106, 1138, 1598, 174, 19515, 7889, 11828, 1548, 10558, 1121, 2988, 8179, 1114, 170, 3137, 2585, 5792, 1105, 10496, 8886, 1757, 1106, 185, 1348, 22578, 10558, 1121, 2988, 17865, 119, 1109, 1286, 17284, 11597, 1108, 2382, 1106, 1129, 1107, 1282, 117, 4044, 117, 3712, 117, 1105, 9964, 1114, 1185, 2068, 23022, 119, 1109, 5351, 1108, 2382, 1106, 1129, 1682, 1106, 192, 6512, 6415, 1123, 2220, 1114, 9964, 22593, 11708, 1766, 117, 4252, 23826, 1766, 117, 170, 1830, 25836, 117, 1105, 5194, 21977, 2772, 3053, 119, 12107, 5253, 20085, 1108, 2382, 1107, 1103, 1286, 1289, 119, 14895, 20414, 1108, 9964, 1107, 1103, 3151, 117, 12717, 117, 1105, 23449, 13380, 118, 9071, 23190, 119, 19140, 9915, 1127, 3258, 1105, 1218, 1679, 21089, 1114, 6707, 5878, 1616, 1231, 18591, 1750, 1190, 124, 3071, 119, 1109, 5351, 112, 188, 1268, 16557, 189, 21883, 1348, 5785, 1108, 2382, 1106, 1129, 4044, 117, 3712, 117, 1105, 9964, 1114, 28117, 12463, 9964, 1105, 1185, 14044, 25669, 15391, 1161, 1137, 23609, 5082, 7836, 2093, 2382, 119, 1212, 5037, 118, 1476, 117, 1103, 5351, 1108, 17428, 1118, 152, 19515, 26392, 1348, 23789, 1105, 6609, 1111, 170, 1286, 3105, 4252, 7877, 15455, 188, 1643, 22761, 119, 1109, 5351, 1108, 1145, 8318, 25031, 2013, 1111, 2619, 1104, 3828, 1297, 1105, 9213, 4423, 5785, 1920, 119, 1130, 1901, 117, 1103, 5351, 1108, 1145, 6609, 1114, 170, 2482, 118, 1104, 118, 2022, 172, 9516, 20899, 188, 1643, 22761, 1105, 10154, 1107, 1157, 4778, 1329, 119, 1212, 1333, 118, 5004, 118, 5187, 117, 1103, 5351, 1108, 15207, 1121, 1103, 2704, 1114, 7953, 1111, 2812, 1146, 1920, 1113, 1862, 1106, 1103, 1244, 2325, 119, 18732, 16769, 12150, 24805, 21748, 141, 6258, 23258, 12426, 16523, 131, 1109, 5351, 1110, 1106, 1129, 15207, 1106, 1313, 119, 141, 6258, 23258, 12426, 16523, 23676, 13821, 13329, 131, 1457, 1895, 119, 141, 9984, 2349, 2249, 9025, 6258, 131, 122, 119, 8123, 20987, 2286, 9202, 17172, 22869, 1114, 23449, 13380, 15167, 2781, 2112, 1286, 17172, 1501, 7234, 1105, 4422, 8239, 1891, 119, 123, 119, 8123, 2286, 1665, 9516, 20899, 22869, 2374, 1664, 19807, 5838, 1193, 119, 124, 119, 152, 19557, 18965, 1348, 23658, 15170, 6108, 119, 125, 119, 4114, 16557, 189, 21883, 1348, 15170, 6108, 119, 141, 6258, 23258, 12426, 16523, 22157, 17243, 11356, 21669, 11414, 1708, 131, 14286, 2528, 2093, 1204, 1141, 1106, 1160, 20159, 153, 2346, 186, 119, 125, 1324, 119, 1106, 127, 1324, 119, 185, 119, 187, 119, 183, 119, 2489, 119, 143, 13901, 2162, 17056, 118, 19753, 8784, 16941, 131, 1109, 5351, 1110, 2657, 1193, 5323, 1111, 170, 3043, 1106, 1862, 1106, 1123, 1313, 1107, 1103, 1244, 2325, 119, 1109, 5351, 1110, 1106, 4731, 1123, 2482, 118, 1104, 118, 2022, 172, 9516, 20899, 188, 1643, 22761, 1105, 1286, 16530, 17284, 188, 1643, 22761, 1107, 1282, 1111, 7840, 1552, 1378, 12398, 119, 1109, 1286, 17284, 1105, 1268, 2211, 3420, 5785, 1431, 1129, 2023, 4044, 1105, 3712, 1114, 2366, 11597, 2607, 1114, 3712, 176, 3984, 3171, 1517, 1679, 1285, 119, 20452, 1348, 1643, 15170, 6108, 1431, 1129, 2023, 4044, 1105, 3712, 1111, 1421, 1552, 1378, 12398, 1170, 1134, 1553, 1103, 5351, 1336, 1517, 10124, 1123, 1716, 119, 14286, 2528, 2093, 1204, 1111, 2489, 1112, 1834, 119, 1109, 5351, 1110, 1106, 2812, 4455, 1114, 1126, 1137, 1582, 15680, 1776, 1107, 1103, 1244, 2325, 7840, 1552, 1378, 12398, 1120, 1134, 1553, 9488, 193, 118, 11611, 1104, 1123, 1286, 17284, 1431, 1129, 3836, 1105, 1123, 1286, 17284, 23658, 1105, 1268, 2211, 3420, 28117, 12463, 1105, 22088, 1116, 1336, 1129, 2856, 119, 24994, 4423, 2812, 1146, 1336, 1129, 2752, 1106, 1987, 119, 6413, 1810, 13253, 1120, 1103, 16837, 1197, 2926, 1582, 15680, 1596, 1990, 119, 22580, 108, 131, 113, 2625, 1604, 114, 5731, 1477, 118, 5942, 1545, 1475, 119, 21922, 159, 18757, 6289, 1200, 117, 150, 119, 141, 119, 3453, 118, 24053, 12120, 5822, 2913, 1650, 131, 6017, 148, 1819, 117, 150, 119, 141, 119, 22157, 2137, 4880, 22054, 9272, 22997, 141, 131, 1333, 118, 5037, 118, 1476, 1542, 131, 1407, 157, 131, 1333, 118, 5037, 118, 1476, 1542, 131, 3614, 147, 2346, 2064, 108, 131, 5347, 17101, 1545, 20979, 1174, 4828, 2716, 1118, 131, 22219, 119, 14477, 5480, 2690, 1113, 131, 7438, 1333, 118, 5004, 118, 5187, 129, 131, 1765, 6586, 113, 5135, 1104, 7178, 114, 102]\n",
            "[-100, 'O', 'O', 'O', 'O', 'O', 'O', 'O', 'O', 'O', 'O', 'O', 'O', 'O', 'O', 'O', 'O', 'O', 'O', 'O', 'O', 'O', 'O', 'O', 'O', 'O', 'O', 'O', 'O', 'O', 'O', 'O', 'O', 'O', 'O', 'O', 'O', 'O', 'O', 'O', 'O', 'O', 'O', 'O', 'O', 'O', 'O', 'O', 'O', 'O', 'O', 'O', 'O', 'O', 'O', 'O', 'O', 'O', 'O', 'O', 'O', 'O', 'O', 'O', 'O', 'O', 'O', 'O', 'O', 'O', 'O', 'O', 'O', 'O', 'O', 'O', 'O', 'O', 'O', 'O', 'O', 'O', 'O', 'O', 'O', 'O', 'O', 'O', 'O', 'O', 'O', 'O', 'O', 'O', 'O', 'O', 'O', 'O', 'O', 'O', 'O', 'O', 'O', 'O', 'O', 'O', 'O', 'O', 'O', 'O', 'O', 'O', 'O', 'O', 'O', 'O', 'O', 'O', 'O', 'O', 'O', 'O', 'O', 'O', 'O', 'O', 'O', 'O', 'O', 'O', 'O', 'O', 'O', 'O', 'O', 'O', 'O', 'O', 'O', 'O', 'O', 'O', 'O', 'O', 'O', 'O', 'O', 'O', 'O', 'O', 'B-problem', 'O', 'O', 'O', 'O', 'O', 'O', 'O', 'O', 'O', 'O', 'O', 'O', 'O', 'O', 'O', 'O', 'O', 'O', 'O', 'O', 'B-treatment', 'I-treatment', 'I-treatment', 'I-treatment', 'I-treatment', 'O', 'O', 'O', 'O', 'O', 'O', 'O', 'O', 'O', 'O', 'O', 'O', 'O', 'O', 'O', 'O', 'O', 'O', 'O', 'O', 'O', 'O', 'O', 'O', 'O', 'B-treatment', 'I-treatment', 'O', 'O', 'O', 'O', 'O', 'O', 'O', 'O', 'O', 'O', 'O', 'O', 'O', 'O', 'B-test', 'O', 'O', 'O', 'O', 'O', 'O', 'O', 'O', 'O', 'O', 'B-test', 'B-test', 'B-test', 'O', 'O', 'O', 'O', 'O', 'O', 'O', 'B-test', 'I-test', 'O', 'O', 'O', 'O', 'B-test', 'O', 'O', 'B-test', 'I-test', 'O', 'O', 'B-test', 'I-test', 'I-test', 'O', 'O', 'O', 'O', 'O', 'O', 'O', 'O', 'O', 'O', 'O', 'O', 'O', 'O', 'O', 'O', 'B-problem', 'I-problem', 'O', 'B-test', 'I-test', 'I-test', 'I-test', 'O', 'O', 'O', 'O', 'O', 'O', 'O', 'O', 'O', 'O', 'O', 'O', 'O', 'O', 'O', 'O', 'O', 'O', 'O', 'O', 'O', 'O', 'O', 'O', 'O', 'O', 'O', 'O', 'O', 'O', 'O', 'O', 'O', 'O', 'O', 'O', 'O', 'O', 'O', 'O', 'O', 'O', 'O', 'O', 'O', 'B-test', 'I-test', 'I-test', 'I-test', 'I-test', 'I-test', 'O', 'O', 'O', 'O', 'O', 'O', 'O', 'B-test', 'B-test', 'B-test', 'B-test', 'B-test', 'O', 'O', 'O', 'O', 'B-problem', 'B-problem', 'B-problem', 'B-problem', 'O', 'O', 'B-problem', 'I-problem', 'I-problem', 'I-problem', 'I-problem', 'I-problem', 'I-problem', 'I-problem', 'O', 'O', 'O', 'O', 'O', 'B-test', 'O', 'O', 'O', 'O', 'O', 'O', 'B-test', 'B-test', 'I-test', 'O', 'O', 'O', 'O', 'O', 'O', 'O', 'B-problem', 'O', 'B-problem', 'B-problem', 'O', 'O', 'B-problem', 'B-problem', 'O', 'O', 'O', 'O', 'O', 'O', 'O', 'O', 'B-problem', 'B-problem', 'B-problem', 'O', 'B-problem', 'B-problem', 'B-problem', 'O', 'O', 'O', 'O', 'O', 'O', 'B-test', 'O', 'B-test', 'B-test', 'B-test', 'O', 'O', 'O', 'O', 'O', 'O', 'O', 'O', 'O', 'O', 'O', 'O', 'O', 'O', 'O', 'O', 'O', 'O', 'B-test', 'I-test', 'I-test', 'I-test', 'O', 'B-problem', 'I-problem', 'I-problem', 'I-problem', 'I-problem', 'O', 'O', 'O', 'O', 'O', 'O', 'O', 'O', 'O', 'O', 'O', 'B-test', 'I-test', 'O', 'O', 'B-problem', 'I-problem', 'I-problem', 'O', 'B-test', 'I-test', 'I-test', 'I-test', 'I-test', 'I-test', 'O', 'O', 'O', 'O', 'O', 'O', 'O', 'O', 'O', 'O', 'B-test', 'I-test', 'I-test', 'I-test', 'I-test', 'I-test', 'O', 'O', 'B-problem', 'I-problem', 'I-problem', 'I-problem', 'O', 'B-problem', 'B-problem', 'O', 'B-test', 'B-test', 'B-test', 'I-test', 'I-test', 'I-test', 'I-test', 'O', 'O', 'O', 'O', 'O', 'O', 'O', 'O', 'O', 'O', 'O', 'O', 'O', 'O', 'O', 'O', 'O', 'O', 'O', 'B-test', 'I-test', 'O', 'O', 'O', 'O', 'O', 'O', 'O', 'O', 'B-problem', 'I-problem', 'I-problem', 'I-problem', 'I-problem', 'I-problem', 'I-problem', 'I-problem', 'I-problem', 'O', 'O', 'O', 'O', 'O', 'O', 'O', 'O', 'O', 'O', 'B-test', 'I-test', 'O', 'B-test', 'I-test', 'I-test', 'I-test', 'I-test', 'I-test', 'O', 'B-problem', 'I-problem', 'O', 'B-problem', 'B-problem', 'B-problem', 'B-problem', 'B-problem', 'I-problem', 'I-problem', 'I-problem', 'I-problem', 'I-problem', 'O', 'O', 'B-problem', 'I-problem', 'I-problem', 'I-problem', 'I-problem', 'I-problem', 'I-problem', 'I-problem', 'I-problem', 'O', 'O', 'O', 'O', 'O', 'O', 'O', 'O', 'O', 'O', 'O', 'O', 'O', 'B-problem', 'I-problem', 'I-problem', 'I-problem', 'O', 'B-test', 'I-test', 'I-test', 'I-test', 'I-test', 'I-test', 'I-test', 'O', 'O', 'O', 'O', 'O', 'O', 'B-test', 'I-test', 'I-test', 'I-test', 'I-test', 'I-test', 'O', 'O', 'B-problem', 'I-problem', 'I-problem', 'I-problem', 'O', 'O', 'O', 'O', 'O', 'O', 'O', 'O', 'O', 'O', 'O', 'O', 'O', 'B-test', 'B-test', 'I-test', 'O', 'B-problem', 'I-problem', 'I-problem', 'I-problem', 'I-problem', 'I-problem', 'I-problem', 'I-problem', 'I-problem', 'O', 'O', 'O', 'O', 'B-problem', 'B-problem', 'B-problem', 'B-problem', 'B-problem', 'O', 'B-test', 'B-test', 'B-test', 'I-test', 'O', 'O', 'O', 'O', 'B-problem', 'I-problem', 'I-problem', 'I-problem', 'I-problem', 'O', 'B-test', 'I-test', 'O', 'O', 'O', 'O', 'B-problem', 'B-problem', 'B-problem', 'B-problem', 'B-problem', 'I-problem', 'O', 'B-test', 'B-test', 'B-test', 'I-test', 'O', 'B-problem', 'I-problem', 'I-problem', 'I-problem', 'I-problem', 'O', 'O', 'O', 'B-problem', 'B-problem', 'B-problem', 'I-problem', 'O', 'B-test', 'B-test', 'B-test', 'B-test', 'I-test', 'I-test', 'O', 'O', 'O', 'O', 'B-problem', 'B-problem', 'B-problem', 'B-problem', 'I-problem', 'I-problem', 'O', 'B-test', 'I-test', 'I-test', 'I-test', 'I-test', 'I-test', 'I-test', 'I-test', 'I-test', 'I-test', 'O', 'O', 'O', 'O', 'B-problem', 'I-problem', 'O', 'B-test', 'I-test', 'I-test', 'I-test', 'I-test', 'O', 'O', 'O', 'O', 'B-problem', 'O', 'B-problem', 'O', 'B-test', 'I-test', 'I-test', 'I-test', 'I-test', 'I-test', 'I-test', 'O', 'O', 'O', 'O', 'B-problem', 'I-problem', 'O', 'B-test', 'I-test', 'I-test', 'I-test', 'I-test', 'O', 'B-problem', 'I-problem', 'I-problem', 'I-problem', 'I-problem', 'O', 'B-problem', 'B-problem', 'I-problem', 'O', 'B-test', 'B-test', 'B-test', 'I-test', 'I-test', 'I-test', 'I-test', 'I-test', 'I-test', 'O', 'O', 'O', 'O', 'O', 'O', 'O', 'O', 'B-problem', 'B-problem', 'B-problem', 'B-problem', 'I-problem', 'O', 'O', 'O', 'O', 'O', 'O', 'O', 'O', 'O', 'O', 'O', 'B-test', 'O', 'O', 'O', 'O', 'O', 'O', 'B-test', 'I-test', 'I-test', 'O', 'O', 'O', 'O', 'B-test', 'B-test', 'B-test', 'B-test', 'O', 'O', 'O', 'O', 'B-test', 'B-test', 'B-test', 'B-test', 'O', 'O', 'O', 'O', 'B-test', 'B-test', 'I-test', 'O', 'O', 'O', 'O', 'B-test', 'O', 'O', 'B-test', 'O', 'O', 'O', 'O', 'B-test', 'O', 'O', 'B-test', 'B-test', 'B-test', 'B-test', 'O', 'O', 'B-test', 'B-test', 'O', 'O', 'B-test', 'B-test', 'B-test', 'B-test', 'O', 'O', 'O', 'O', 'B-test', 'O', 'O', 'B-test', 'O', 'O', 'O', 'O', 'B-test', 'B-test', 'O', 'O', 'O', 'O', 'B-test', 'B-test', 'O', 'O', 'O', 'O', 'B-test', 'B-test', 'B-test', 'O', 'O', 'B-test', 'B-test', 'I-test', 'I-test', 'O', 'O', 'O', 'O', 'O', 'O', 'O', 'O', 'O', 'O', 'O', 'O', 'O', 'B-test', 'B-test', 'B-test', 'O', 'O', 'O', 'O', 'O', 'O', 'O', 'O', 'B-test', 'I-test', 'I-test', 'O', 'B-test', 'B-test', 'B-test', 'I-test', 'O', 'O', 'O', 'O', 'O', 'O', 'O', 'O', 'O', 'O', 'O', 'O', 'O', 'O', 'O', 'O', 'O', 'O', 'O', 'O', 'O', 'O', 'O', 'O', 'O', 'O', 'O', 'O', 'O', 'O', 'O', 'O', 'O', 'B-treatment', 'B-treatment', 'B-treatment', 'O', 'O', 'O', 'B-treatment', 'I-treatment', 'I-treatment', 'I-treatment', 'O', 'O', 'O', 'O', 'O', 'O', 'O', 'O', 'O', 'O', 'O', 'O', 'O', 'O', 'B-test', 'I-test', 'O', 'O', 'O', 'B-problem', 'O', 'O', 'B-problem', 'I-problem', 'I-problem', 'I-problem', 'I-problem', 'O', 'B-problem', 'I-problem', 'I-problem', 'I-problem', 'I-problem', 'O', 'B-problem', 'I-problem', 'I-problem', 'O', 'B-problem', 'I-problem', 'I-problem', 'I-problem', 'I-problem', 'O', 'O', 'B-problem', 'I-problem', 'I-problem', 'I-problem', 'O', 'O', 'O', 'O', 'O', 'O', 'O', 'O', 'O', 'O', 'O', 'O', 'O', 'O', 'O', 'O', 'O', 'O', 'O', 'O', 'O', 'O', 'O', 'O', 'O', 'O', 'O', 'O', 'B-problem', 'I-problem', 'I-problem', 'I-problem', 'I-problem', 'I-problem', 'I-problem', 'I-problem', 'I-problem', 'O', 'B-test', 'I-test', 'I-test', 'I-test', 'I-test', 'I-test', 'I-test', 'I-test', 'I-test', 'I-test', 'I-test', 'O', 'O', 'O', 'O', 'O', 'O', 'O', 'O', 'O', 'O', 'O', 'O', 'O', 'B-problem', 'I-problem', 'I-problem', 'I-problem', 'I-problem', 'I-problem', 'I-problem', 'O', 'O', 'O', 'O', 'O', 'O', 'O', 'O', 'O', 'O', 'O', 'O', 'O', 'O', 'O', 'O', 'O', 'O', 'O', 'O', 'O', 'O', 'O', 'O', 'B-treatment', 'I-treatment', 'I-treatment', 'I-treatment', 'I-treatment', 'O', 'O', 'O', 'O', 'O', 'O', 'O', 'O', 'O', 'O', 'O', 'O', 'O', 'O', 'O', 'O', 'O', 'O', 'O', 'O', 'O', 'O', 'O', 'O', 'O', 'O', 'O', 'O', 'O', 'O', 'O', 'O', 'O', 'O', 'O', 'O', 'O', 'O', 'O', 'O', 'O', 'O', 'O', 'O', 'B-treatment', 'I-treatment', 'I-treatment', 'I-treatment', 'I-treatment', 'I-treatment', 'O', 'B-treatment', 'I-treatment', 'I-treatment', 'I-treatment', 'O', 'O', 'O', 'O', 'O', 'B-treatment', 'I-treatment', 'O', 'O', 'O', 'B-test', 'I-test', 'I-test', 'I-test', 'I-test', 'I-test', 'I-test', 'I-test', 'O', 'O', 'O', 'O', 'O', 'O', 'O', 'O', 'B-problem', 'I-problem', 'I-problem', 'I-problem', 'I-problem', 'I-problem', 'I-problem', 'I-problem', 'O', 'O', 'O', 'O', 'O', 'O', 'O', 'O', 'O', 'O', 'O', 'O', 'O', 'O', 'O', 'O', 'O', 'O', 'O', 'O', 'O', 'O', 'O', 'O', 'O', 'O', 'B-treatment', 'B-treatment', 'B-treatment', 'I-treatment', 'O', 'O', 'O', 'B-problem', 'I-problem', 'I-problem', 'I-problem', 'I-problem', 'I-problem', 'I-problem', 'I-problem', 'I-problem', 'O', 'O', 'O', 'O', 'O', 'O', 'O', 'O', 'O', 'O', 'O', 'O', 'O', 'O', 'O', 'O', 'O', 'O', 'O', 'O', 'O', 'O', 'O', 'O', 'O', 'O', 'O', 'O', 'O', 'O', 'O', 'O', 'O', 'O', 'O', 'O', 'O', 'O', 'O', 'O', 'B-treatment', 'I-treatment', 'I-treatment', 'I-treatment', 'I-treatment', 'O', 'B-problem', 'I-problem', 'I-problem', 'I-problem', 'I-problem', 'I-problem', 'I-problem', 'I-problem', 'O', 'O', 'O', 'O', 'O', 'O', 'O', 'O', 'B-treatment', 'I-treatment', 'I-treatment', 'O', 'O', 'O', 'O', 'B-problem', 'B-problem', 'B-problem', 'B-problem', 'O', 'B-problem', 'B-problem', 'B-problem', 'B-problem', 'O', 'O', 'O', 'O', 'O', 'O', 'O', 'O', 'O', 'O', 'B-problem', 'I-problem', 'I-problem', 'I-problem', 'I-problem', 'I-problem', 'O', 'O', 'B-test', 'I-test', 'O', 'B-problem', 'I-problem', 'I-problem', 'I-problem', 'O', 'B-problem', 'I-problem', 'I-problem', 'O', 'B-test', 'B-test', 'B-test', 'O', 'O', 'B-test', 'I-test', 'O', 'B-treatment', 'I-treatment', 'I-treatment', 'I-treatment', 'O', 'O', 'O', 'O', 'O', 'O', 'O', 'O', 'O', 'O', 'O', 'O', 'O', 'O', 'O', 'B-problem', 'B-problem', 'O', 'O', 'O', 'O', 'O', 'O', 'O', 'O', 'O', 'O', 'O', 'O', 'O', 'O', 'O', 'O', 'O', 'O', 'O', 'O', 'O', 'O', 'O', 'O', 'O', 'O', 'O', 'O', 'O', 'O', 'O', 'O', 'O', 'O', 'B-problem', 'B-problem', 'I-problem', 'O', 'O', 'O', 'O', 'O', 'O', 'O', 'O', 'O', 'O', 'O', 'O', 'O', 'O', 'O', 'O', 'O', 'O', 'O', 'O', 'O', 'O', 'O', 'O', 'O', 'O', 'O', 'O', 'O', 'O', 'O', 'O', 'O', 'B-test', 'B-test', 'B-test', 'I-test', 'I-test', 'O', 'O', 'O', 'O', 'O', 'B-problem', 'I-problem', 'I-problem', 'I-problem', 'I-problem', 'I-problem', 'I-problem', 'I-problem', 'I-problem', 'I-problem', 'O', 'O', 'O', 'O', 'O', 'O', 'O', 'O', 'O', 'O', 'O', 'B-treatment', 'B-treatment', 'O', 'O', 'O', 'B-problem', 'B-problem', 'B-problem', 'B-problem', 'O', 'B-problem', 'B-problem', 'B-problem', 'B-problem', 'O', 'O', 'O', 'O', 'O', 'O', 'O', 'O', 'O', 'O', 'O', 'O', 'O', 'O', 'O', 'O', 'O', 'O', 'O', 'O', 'B-treatment', 'I-treatment', 'I-treatment', 'I-treatment', 'I-treatment', 'I-treatment', 'I-treatment', 'I-treatment', 'I-treatment', 'O', 'O', 'O', 'O', 'O', 'O', 'B-treatment', 'I-treatment', 'O', 'B-treatment', 'I-treatment', 'I-treatment', 'I-treatment', 'O', 'O', 'O', 'B-treatment', 'I-treatment', 'O', 'O', 'O', 'O', 'O', 'O', 'O', 'O', 'O', 'O', 'B-treatment', 'I-treatment', 'I-treatment', 'I-treatment', 'I-treatment', 'I-treatment', 'I-treatment', 'I-treatment', 'I-treatment', 'I-treatment', 'I-treatment', 'I-treatment', 'O', 'O', 'O', 'O', 'O', 'O', 'O', 'O', 'O', 'O', 'O', 'O', 'O', 'O', 'O', 'O', 'O', 'O', 'O', 'O', 'O', 'O', 'O', 'O', 'O', 'O', 'O', 'O', 'O', 'O', 'O', 'O', 'O', 'O', 'O', 'O', 'O', 'O', 'O', 'O', 'O', 'O', 'O', 'O', 'O', 'O', 'O', 'O', 'O', 'O', 'O', 'O', 'O', 'O', 'O', 'O', 'O', 'O', 'O', 'O', 'O', 'O', 'O', 'O', 'O', 'O', 'O', 'O', 'O', 'O', 'O', 'O', 'O', 'O', 'O', 'B-problem', 'I-problem', 'I-problem', 'I-problem', 'I-problem', 'I-problem', 'O', 'B-problem', 'B-problem', 'I-problem', 'O', 'O', 'B-treatment', 'I-treatment', 'I-treatment', 'I-treatment', 'O', 'B-treatment', 'I-treatment', 'I-treatment', 'O', 'O', 'O', 'B-problem', 'I-problem', 'I-problem', 'I-problem', 'I-problem', 'I-problem', 'O', 'O', 'O', 'O', 'O', 'O', 'O', 'O', 'B-problem', 'B-problem', 'B-problem', 'B-problem', 'I-problem', 'I-problem', 'I-problem', 'O', 'O', 'O', 'B-problem', 'I-problem', 'I-problem', 'I-problem', 'I-problem', 'I-problem', 'I-problem', 'O', 'O', 'O', 'O', 'O', 'O', 'O', 'O', 'O', 'O', 'O', 'O', 'O', 'B-treatment', 'B-treatment', 'B-treatment', 'B-treatment', 'O', 'O', 'O', 'O', 'O', 'O', 'O', 'O', 'O', 'O', 'O', 'O', 'O', 'O', 'O', 'O', 'O', 'O', 'O', 'O', 'O', 'B-problem', 'O', 'O', 'O', 'O', 'O', 'O', 'O', 'O', 'O', 'O', 'O', 'O', 'O', 'O', 'O', 'O', 'O', 'O', 'O', 'O', 'O', 'O', 'O', 'O', 'O', 'O', 'O', 'O', 'O', 'O', 'O', 'O', 'O', 'O', 'B-treatment', 'I-treatment', 'I-treatment', 'I-treatment', 'I-treatment', 'I-treatment', 'I-treatment', 'I-treatment', 'I-treatment', 'I-treatment', 'I-treatment', 'I-treatment', 'O', 'B-treatment', 'I-treatment', 'I-treatment', 'I-treatment', 'I-treatment', 'I-treatment', 'O', 'O', 'O', 'O', 'O', 'O', 'O', 'O', 'B-problem', 'I-problem', 'I-problem', 'I-problem', 'I-problem', 'I-problem', 'I-problem', 'I-problem', 'O', 'O', 'O', 'O', 'O', 'O', 'O', 'B-treatment', 'I-treatment', 'I-treatment', 'O', 'B-treatment', 'I-treatment', 'I-treatment', 'I-treatment', 'O', 'O', 'O', 'O', 'B-problem', 'B-problem', 'B-problem', 'I-problem', 'I-problem', 'O', 'O', 'O', 'O', 'O', 'O', 'O', 'O', 'O', 'O', 'O', 'O', 'O', 'O', 'O', 'O', 'O', 'O', 'O', 'O', 'O', 'O', 'B-treatment', 'B-treatment', 'B-treatment', 'B-treatment', 'O', 'B-problem', 'O', 'O', 'O', 'O', 'O', 'O', 'O', 'O', 'O', 'O', 'O', 'O', 'O', 'O', 'O', 'O', 'O', 'O', 'O', 'O', 'O', 'O', 'O', 'O', 'O', 'O', 'B-test', 'I-test', 'I-test', 'I-test', 'I-test', 'I-test', 'I-test', 'I-test', 'O', 'O', 'O', 'O', 'B-treatment', 'I-treatment', 'I-treatment', 'I-treatment', 'I-treatment', 'I-treatment', 'I-treatment', 'I-treatment', 'I-treatment', 'I-treatment', 'O', 'B-treatment', 'B-treatment', 'O', 'O', 'O', 'O', 'O', 'O', 'O', 'O', 'O', 'O', 'O', 'O', 'O', 'O', 'O', 'O', 'O', 'O', 'O', 'O', 'O', 'O', 'O', 'O', 'O', 'O', 'O', 'O', 'O', 'O', 'O', 'O', 'O', 'O', 'O', 'O', 'O', 'O', 'O', 'O', 'O', 'O', 'O', 'O', 'O', 'O', 'O', 'O', 'O', 'O', 'O', 'O', 'O', 'O', 'O', 'O', 'O', 'O', 'O', 'O', 'O', 'O', 'O', 'O', 'O', 'O', 'O', 'O', 'O', 'O', 'O', 'O', 'O', 'O', 'O', 'O', 'O', 'O', 'O', 'O', 'O', 'O', 'O', 'O', 'O', 'O', 'O', 'O', 'O', 'O', 'O', 'O', 'O', 'O', 'O', 'O', 'O', 'O', 'O', 'O', 'O', 'O', 'O', 'O', 'O', 'O', 'O', 'O', 'O', 'O', 'O', 'O', 'O', 'O', 'O', 'O', 'O', 'O', 'O', 'O', 'O', 'O', 'O', 'O', 'O', 'O', 'O', 'O', 'O', -100]\n"
          ]
        }
      ],
      "id": "DruIoKq1z3Hh"
    },
    {
      "cell_type": "code",
      "source": [
        "for i,label in enumerate(aligned_labels):\n",
        "  if i == 20:\n",
        "    break\n",
        "  print(tokens[i],':',label)"
      ],
      "metadata": {
        "id": "cN-rsanam4ig",
        "colab": {
          "base_uri": "https://localhost:8080/"
        },
        "outputId": "e95f73c2-b975-405c-d7c4-06754dfca45e"
      },
      "execution_count": null,
      "outputs": [
        {
          "output_type": "stream",
          "name": "stdout",
          "text": [
            "[CLS] : -100\n",
            "01 : O\n",
            "##90 : O\n",
            "##9 : O\n",
            "##60 : O\n",
            "##7 : O\n",
            "Ad : O\n",
            "##mission : O\n",
            "Date : O\n",
            ": : O\n",
            "2010 : O\n",
            "- : O\n",
            "06 : O\n",
            "- : O\n",
            "28 : O\n",
            "Disc : O\n",
            "##har : O\n",
            "##ge : O\n",
            "Date : O\n",
            ": : O\n"
          ]
        }
      ],
      "id": "cN-rsanam4ig"
    },
    {
      "cell_type": "code",
      "source": [
        "\n",
        "def tokenize_and_align_labels(examples):\n",
        "    tokenized_inputs = tokenizer(examples[\"tokens\"], truncation=True, is_split_into_words=True, max_length=512,\n",
        "                                stride=3, return_overflowing_tokens=True\n",
        "                                 )\n",
        "\n",
        "    sample_map = tokenized_inputs.pop(\"overflow_to_sample_mapping\")\n",
        "    for key, values in examples.items():\n",
        "        tokenized_inputs[key] = [values[i] for i in sample_map]\n",
        "\n",
        "    labels = []\n",
        "    for i, label in enumerate(tokenized_inputs[\"ner_tags\"]):\n",
        "        word_ids = tokenized_inputs.word_ids(batch_index=i)\n",
        "\n",
        "        previous_word_idx = None\n",
        "        label_ids = []\n",
        "        for word_idx in word_ids:\n",
        "            # Special tokens have a word id that is None. We set the label to -100 so they are automatically\n",
        "            # ignored in the loss function.\n",
        "            if word_idx is None:\n",
        "                label_ids.append(-100)\n",
        "            # We set the label for the first token of each word.\n",
        "            elif word_idx != previous_word_idx:\n",
        "                label_ids.append(label[word_idx])\n",
        "            # For the other tokens in a word, we set the label to either the current label or -100, depending on\n",
        "            # the label_all_tokens flag.\n",
        "            else:\n",
        "                label_ids.append(-100)\n",
        "            previous_word_idx = word_idx\n",
        "\n",
        "        labels.append(label_ids)\n",
        "\n",
        "    tokenized_inputs[\"labels\"] = labels\n",
        "    return tokenized_inputs"
      ],
      "metadata": {
        "id": "HaReNkxem4ye"
      },
      "execution_count": null,
      "outputs": [],
      "id": "HaReNkxem4ye"
    },
    {
      "cell_type": "code",
      "source": [
        "tokenized_datasets = dataset.map(tokenize_and_align_labels,batched=True)"
      ],
      "metadata": {
        "id": "TkmzH0_QrCcQ",
        "colab": {
          "base_uri": "https://localhost:8080/",
          "height": 49,
          "referenced_widgets": [
            "f011b4747528441fa0b915501ca87da4",
            "e68dbba395c948e4be6b4f780c481353",
            "46d80284fdd34fd3affb94f7e6896be3",
            "8e77c86f4228492a918b5861e0532f11",
            "bfb145a93c4f4439a34a4a80b0c50e6c",
            "4347ced9f92249888a1f9568f844f225",
            "fff3bf39a35e45a09d198e594c48c9bb",
            "9a1731ef57174e34816b15332c8284a1",
            "cee4e1bf71a8410e9287d67f174f710c",
            "239b20bf6c8f4477be9c5894168b599a",
            "15a6dbdc568a4408a14902e713488272"
          ]
        },
        "outputId": "956905c8-18d7-4385-a309-ddd0aef445c3"
      },
      "id": "TkmzH0_QrCcQ",
      "execution_count": null,
      "outputs": [
        {
          "output_type": "display_data",
          "data": {
            "text/plain": [
              "Map:   0%|          | 0/426 [00:00<?, ? examples/s]"
            ],
            "application/vnd.jupyter.widget-view+json": {
              "version_major": 2,
              "version_minor": 0,
              "model_id": "f011b4747528441fa0b915501ca87da4"
            }
          },
          "metadata": {}
        }
      ]
    },
    {
      "cell_type": "code",
      "source": [
        "words = tokenized_datasets[20]['tokens']\n",
        "labels = tokenized_datasets[20]['ner_tags']\n",
        "\n",
        "ner_feature = tokenized_datasets.features[\"ner_tags\"]\n",
        "label_names = ner_feature.feature.names\n",
        "\n",
        "line1 = \"\"\n",
        "line2 = \"\"\n",
        "for word, label in zip(words, labels):\n",
        "    full_label = label_names[label]\n",
        "    max_length = max(len(word), len(full_label))\n",
        "    line1 += word + \" \" * (max_length - len(word) + 1)\n",
        "    line2 += full_label + \" \" * (max_length - len(full_label) + 1)\n",
        "\n",
        "print(line1)\n",
        "print(line2)"
      ],
      "metadata": {
        "id": "wkTZij9RrDcA",
        "colab": {
          "base_uri": "https://localhost:8080/"
        },
        "outputId": "ca8da7dd-7601-425b-a6a9-6242bb1d3e80"
      },
      "id": "wkTZij9RrDcA",
      "execution_count": null,
      "outputs": [
        {
          "output_type": "stream",
          "name": "stdout",
          "text": [
            "Admission Date : 2016-12-30 Discharge Date : 2017-01-13 Date of Birth : 1960-09-05 Sex : M Service : HISTORY OF PRESENT ILLNESS : This is a 56 year old man with history of hypercholesterolemia and type      II        diabetes  mellitus  . He has a recent history of dyspnea   on exertion on exertional chest     pain      which has increased over the last several weeks and is relieved by sublingual  nitroglycerin . On 2016-06-26 , he had a         positive  exercise  tolerance test      . Cardiac catheterization at the end of October revealed a         dilated   aortic    root      to 4.4 cm and 80%       stenosis  of        the       mid       left      anterior  descending at the bifurcation involving the diagonal branch , 70%       stenoses  of        the       left      circumflex and       oblique   marginal  artery    and 90%       stenosis  of        the       posterior descending artery    . His    atrioventricular valve  gradient was 27 with an     AV     surface area   of .91 . REVIEW OF SYSTEMS : Review of     systems shows that the patient denies any       orthopnea , paroxysmal nocturnal dyspnea   . He has no bleeding  or clotting  problems  . Juanita does not feel any       palpitations . He does not have wheezing  , claudication or gastrointestinal bleeding  . Nor does he have any history of stroke    like      symptoms  . PAST MEDICAL HISTORY : Hypercholesterolemia . Type      II        diabetes  . Recent    pneumonia . Remote tobacco use . Recent    weight    loss      associated with the       pneumonia . Gastroesophageal reflux    disease   . ALLERGIES : No known     drug      allergies . MEDICATIONS ON ADMISSION : One aspirin     a day . Nexium      40 mg a day . Carvedilol  6.125 mg a day . Glucophage  25 mg once a day . Lipitor     10 mg once a day . SOCIAL HISTORY : He lives with his wife and works as a drug representative for Carvedilol . PHYSICAL EXAMINATION : On physical examination , the patient is afebrile  . Weight is 82 kilograms . Blood  pressure 126/66 . General : Active , well-developed , well-nourished male . Head   and    neck   examination : No bruits    appreciated . Lungs are clear to auscultation bilaterally . Heart was regular rate and rhythm . S1 and S2 . 3/6       systolic  ejection  murmur    throughout his precordium . His abdomen is soft , nontender , nondistended . No hepatosplenomegaly and no CVA       tenderness . Extremities are warm , well perfused , no cyanosis  , clubbing  or edema     . Palpable dorsalis pedis pulses . No varicosities noted . The patient was also noted to be right handed . HOSPITAL COURSE : He was admitted to the cardiac surgery service for an          elected     Bental      procedure   with homograft   and coronary    artery      bypass      graft       . Once consent and preoperative evaluation was complete , he was taken to the operating room . Please refer to the previously dictated operative note of 2016-12-30 by Dr. Lawrence . Briefly , the patient was taken to the operating room to repair      his       critical  aortic    stenosis  , his       coronary  artery    disease   and his       significantly dilated   ascending aortic    aneurysm  . The         procedure   was an          aortic      valve       replacement with a           tissue      valve       , a           coronary    artery      bypass      graft       procedure   where five        grafts      were performed . The left internal mammary artery was connected to the proximal left anterior descending and saphenous   vein        grafts      were connected to the posterior descending artery , diagonal branch , obtuse marginal and distal left anterior descending . Finally , a           super       coronary    arch        graft       was implanted . This was a           .................... graft       . Cardiopulmonary bypass      time was 234 minutes . His aorta was cross       clamped     for 168 minutes . He had pharmacologic circulatory arrest      for 18 minutes . The patient tolerated the         procedure   well and was transferred to the unit , intubated   on Milrinone   , Levophed    and Propofol    drips       . The rest of the hospital stay can be discussed in terms of system based approach . Pulmonary : The patient remained intubated   until postoperative day number five . After that , the patient had no major     problems  with      his       lungs     . His    oxygen saturations remained good and he did not require supplemental oxygen      more than a couple of days after his extubation . He was sent to the floor from the cardiac surgery recovery unit on postoperative day number seven . After an extended stay for hemodynamic monitoring and pressor     support     to maintain his perfusion . Neurologic : The       major     neurologic event     of this hospital course was that the patient was slow      to        awake     after his         Propofol    drip        was discontinued . Because of his       confusion , a neurology consult was obtained and subsequent radiographic imaging revealed chronic   appearing infarcts  in        the       right     occipital lobe      as well as both cerebellar hemispheres , suggestive of more      chronic   infarcts  , as well as an area in the left corona radiata , adjacent to the left lateral ventricle which may or may not be an        acute     infarct   . This was seen on the    CAT    scan   on postoperative day number one , 12-31 . As the patient became more awake , he still remained somewhat  confused  and a         little    bit       out       of        it        . In addition , he was noted to have a         right     sided     hemiplegia . Over his postoperative course , Mr. Douglass has gradually been able to utilize more and more of his right side and with the assistance of physical    therapy     and occupational therapy     , he has 4 to 5 + strength in his right hand and arm and about 4 + strength in his right leg . He is able to walk about the floor on the days prior to discharge , with the assistance of the physical therapist and nurses . In addition , Mr. Douglass is given Trazodone   to help him sleep at night . A psychiatric consult was also obtained due to his mental status and confusion postoperatively but his       psychiatric issues    are mostly related to his       neurologic insults   and he has no distinctive psychiatric disorder  , except for perhaps postoperative delirium  . Cardiovascularly , the patient did extremely well following the         surgery     . The         Levophed    drip        was continued until postoperative day number one . Milrinone   was continued until postoperative day number three , at which point he was having good enough cardiac output that he did not need these       drips       to help maintain his    blood  pressure anymore . He has remained without any       chest     pain      following this        procedure   and his       sternal   wound     is clean , dry and intact at the end of the         procedure   . In addition , he has hypertension , for which he receives Metoprolol  and he has hypercholesterolemia , for which he receives nothing at this time . Pulmonary : The patient remained intubated   until postoperative day number five . He was diuresed and was soon saturating very well on room air . Gastrointestinal : The patient has gastroesophageal reflux    disease   , for which he has been receiving Zantac      as an inpatient . We will put him back on his         Nexium      . In addition , over the last couple of days prior to discharge , the patient did appear a         little    bit       icteric   . Liver  function tests  were obtained and they were slightly  elevated  liver     function  tests     and ALT    was 44 , AST    was 34 ; alkaline phosphatase was 199 , within normal limits . Total  bilirubin was 2.8 . Amylase was 108 and lipase was 213 . A      right  upper  quadrant ultrasound did not reveal any       gallstones or common    bile      duct      dilatation indicative of cholecystitis or cholelithiasis . In addition , the patient did have slightly  elevated  blood     sugars    over the last couple of days and has required an          insulin     sliding     scale       and basal       insulin     to maintain his    blood  sugars at a more appropriate level . The ideal blood sugar levels for Mr. Douglass in this postoperative period should be less than 140 . Please stay on top of the         sliding     scale       so that the patient can keep a euglycemic level . Hematologic : The patient , during this admission , required transfusion of three units of packed      red         blood       cells       to maintain adequate hematocrit . At the time of discharge , Mr. Norman hematocrit is at 40.7 . Fluids , electrolytes and nutrition : The patient did receive a significant amount of diuresis    postoperatively and is well below his baseline with weight , most likely because of his       inability to        eat       because of his       stroke    . Once he was coherent enough , the patient was evaluated by the swallow team who declared him at first an        aspiration risk      . As Mr. Douglass has improved from his       initial   stroke    , he has become more lucid and is less of an        aspiration risk      . On 01-12 , one day prior to discharge , he was cleared by the swallow team to eat a diet as he wishes . He is going out on a           cardiac     healthy     ,           diabetic    diet        , as tolerated with Boost       supplements . Infectious disease : The patient had positive  blood     and       urine     cultures  on 01-05 for history of Methicillin resistant Staphylococcus aureus    , which was pan    sensitive . He was started on Oct. 25 for this      bug       . On 01-08 , the         patient     's          central     venous      line        was discontinued . The    catheterization tip    also grew out Serratia  . On the 16th , a      urine  culture was obtained and did grow out greater than 100,000 colonies of E.        coli      which was intermittently resistant to Ciprofloxacin . He was started on Bactrim     for that . Please continue Mr. David Montero for one month to fight his       blood     borne     infection , to prevent seeding of his         aortic      graft       and continue Bactrim     for ten days after discharge to treat the       E.        coli      in        his       urine     . DISPOSITION : Mr. Douglass is being discharged on 2017-01-13 to a rehabilitation facility in good condition . FOLLOW-UP : One to two weeks with his primary care physician and two to three weeks with his cardiologist and at one month with Dr. Costello . DISCHARGE DIAGNOSES : Coronary  artery    disease   , status post coronary    artery      bypass      graft       . Critical  aortic    stenosis  , status post aortic      valve       replacement . Aortic    arch      aneurysm  , status post aortic      arch        graft       . Acute     postoperative delirium  . Perioperative stroke    . Chronic   blood     loss      anemia    and chronic     RBC         transfusion . Urinary   tract     infection . Hypercholesterolemia . Type      II        diabetes  . Gastroesophageal reflux    disease   . DISCHARGE MEDICATIONS : Metoprolol  75 mg p.o. twice a day . Captopril   12.5 mg p.o. three times a day . Aspirin     81 mg p.o. q. day . Plavix      75 mg p.o. q. day . Heparin     5000 units subcutaneous twice a day . Metformin   1000 mg extended release p.o. q. day . Humalog     Max         75/25 , 20 units subcutaneous once a day in the morning . Levofloxacin 500 mg p.o. q. day . Bactrim     DS          tabs        , one tablet p.o. q. day for ten days . Colace      100 mg p.o. twice a day . Hold for loose     stools    . Nexium      40 mg p.o. q. day . Trazodone   25 mg p.o. q h.s. as needed for sleep . Lasix       20 mg p.o. q. day for one week . KCl         20 mg p.o. q. day for one week . Dolly V Blevins , M.D. 04-100 Dictated By : Kenneth O. Hogan , M.D. MEDQUIST36 D : 2017-01-12 11:35 T : 2017-01-13 05:30 JOB #: 92344 Signed electronically by : DR. Dolly D.F. Sipes on: Roxane 2017-02-21 11:52 AM ( End of Report ) \n",
            "O         O    O O          O         O    O O          O    O  O     O O          O   O O O       O O       O  O       O       O O    O  O O  O    O   O   O    O       O  B-problem            O   B-problem I-problem I-problem I-problem O O  O   O O      O       O  B-problem O  O        O  B-problem  I-problem I-problem O     O   O         O    O   O    O       O     O   O  O        O  B-treatment I-treatment   O O  O          O O  O   B-problem I-problem I-problem I-problem I-problem O B-test  I-test          O  O   O   O  O       O        B-problem I-problem I-problem I-problem O  O   O  O   B-problem I-problem I-problem I-problem I-problem I-problem I-problem I-problem  O  O   O           O         O   O        O      O B-problem I-problem I-problem I-problem I-problem I-problem  I-problem I-problem I-problem I-problem O   B-problem I-problem I-problem I-problem I-problem I-problem  I-problem O B-test I-test           I-test I-test   O   O  O    B-test I-test I-test  I-test O  O   O O      O  O       O B-test I-test I-test  O     O    O   O       O      B-problem I-problem O B-problem  I-problem I-problem O O  O   O  B-problem O  B-problem I-problem O O       O    O   O    B-problem I-problem    O O  O    O   O    B-problem O B-problem    O  B-problem        I-problem O O   O    O  O    O   O       O  B-problem I-problem I-problem O O    O       O       O B-problem            O B-problem I-problem I-problem O B-problem I-problem O O      O       O   O B-problem I-problem I-problem O          O    B-problem I-problem O B-problem        I-problem I-problem O O         O O  B-problem I-problem I-problem O O           O  O         O O   B-treatment O O   O B-treatment O  O  O O   O B-treatment O     O  O O   O B-treatment O  O  O    O O   O B-treatment O  O  O    O O   O O      O       O O  O     O    O   O    O   O     O  O O    O              O   O          O O        O           O O  B-test   I-test      O O   O       O  B-problem O B-test O  O  O         O B-test I-test   O      O O       O O      O O              O O              O    O B-test I-test I-test I-test      O O  B-problem O           O O     O   O     O  B-test       O           O O     O   O       O    O   O      O O  O   O  O B-problem I-problem I-problem I-problem O          O   O          O O   O       O  O    O B-problem O B-problem    O O  B-problem          O   O  B-problem I-problem  O O           O   O    O O    O        O O  B-problem O B-problem O  B-problem O O        O        O     O      O O  B-problem    O     O O   O       O   O    O     O  O  O     O      O O        O      O O  O   O        O  O   O       O       O       O   B-treatment I-treatment I-treatment I-treatment O    B-treatment O   B-treatment I-treatment I-treatment I-treatment O O    O       O   B-test       I-test     O   O        O O  O   O     O  O   O         O    O O      O     O  O   O          O        O         O    O  O          O  O   O        O O       O O   O       O   O     O  O   O         O    O  B-treatment B-problem I-problem I-problem I-problem O B-problem I-problem I-problem I-problem O   B-problem I-problem     I-problem I-problem I-problem I-problem O B-treatment I-treatment O   B-treatment I-treatment I-treatment I-treatment O    B-treatment I-treatment I-treatment O B-treatment I-treatment I-treatment I-treatment I-treatment I-treatment O     B-treatment I-treatment O    O         O O   O    O        O       O      O   O         O  O   O        O    O        O          O   B-treatment I-treatment I-treatment O    O         O  O   O         O          O      O O        O      O O      O        O   O      O    O        O          O O       O B-treatment I-treatment I-treatment I-treatment I-treatment O   O         O O    O   B-treatment I-treatment          I-treatment O B-treatment     I-treatment O    O   O   O       O O   O     O   B-treatment I-treatment O   O   O       O O  O   B-treatment   I-treatment I-treatment O   O  O       O O   O       O         B-treatment I-treatment O    O   O   O           O  O   O    O B-treatment O  B-treatment O B-treatment O   B-treatment I-treatment O O   O    O  O   O        O    O   O  O         O  O     O  O      O     O        O O         O O   O       O        B-treatment O     O             O   O      O    O O     O    O O   O       O   O  B-problem I-problem I-problem I-problem I-problem O B-test I-test I-test      O        O    O   O  O   O   O       B-treatment  I-treatment O    O    O O      O  O    O     O   O          O O  O   O    O  O   O     O    O   O       O       O        O    O  O             O   O      O     O O     O  O        O    O   B-test      I-test     O   B-treatment I-treatment O  O        O   O         O O          O B-problem I-problem I-problem  I-problem O  O    O        O      O   O    O   O       O   B-problem I-problem I-problem O     B-treatment I-treatment I-treatment O   O            O O       O  B-problem I-problem O O O         O       O   O        O   B-test     I-test       I-test  O        B-problem I-problem I-problem I-problem I-problem I-problem I-problem I-problem O  O    O  O    O          O           O O          O  B-problem I-problem I-problem O O  O    O  O  O    O  O   O    O      O       O O        O  O   O    O       O         O     O   O  O   O   O  B-problem I-problem I-problem O O    O   O    O  B-test I-test I-test O  O             O   O      O   O O     O O  O   O       O      O    O     O O  O     O        B-problem I-problem O   B-problem I-problem I-problem I-problem I-problem I-problem O O  O        O O  O   O     O  O    B-problem I-problem I-problem I-problem  O O    O   O             O      O O   O        O   O         O    O    O  O       O    O   O    O  O   O     O    O   O    O   O          O  B-treatment I-treatment O   B-treatment  I-treatment O O  O   O O  O O O        O  O   O     O    O   O   O   O     O O O        O  O   O     O   O O  O  O    O  O    O     O   O     O  O   O    O     O  O         O O    O   O          O  O   O        O         O   O      O O  O        O O   O        O  O     B-treatment O  O    O   O     O  O     O O O           O       O   O    O        O   O  O   O      O      O   B-problem O               O   B-problem I-problem   I-problem O   O      O       O  B-problem I-problem  I-problem O   O  O   O  B-problem   I-problem   I-problem O O      O   O       B-problem     I-problem O O                O O   O       O   O         O    O         B-treatment I-treatment O B-treatment I-treatment I-treatment O   O         O     O             O   O      O   O B-treatment O   O         O     O             O   O      O     O O  O     O     O  O   O      O    O      O       O      O    O  O   O   O    B-treatment I-treatment O  O    O        B-test I-test I-test   O       O O  O   O        O       B-problem I-problem I-problem O         B-treatment I-treatment O   B-problem I-problem I-problem O  O     O O   O   O      O  O   O   O  B-treatment I-treatment O O  O        O O  O   B-problem    O O   O     O  O        B-treatment O   O  O   B-problem            O O   O     O  O        O       O  O    O    O O         O O   O       O        B-treatment O     O             O   O      O    O O  O   O        O   O   O    O          O    O    O  O    O   O O                O O   O       O   B-problem        I-problem I-problem O O   O     O  O   O    O         B-treatment O  O  O         O O  O    O   O   O    O  B-treatment I-treatment O O  O        O O    O   O    O      O  O    O     O  O         O O   O       O   O      B-problem I-problem I-problem I-problem O B-test I-test   I-test O    O        O   O    O    B-problem I-problem I-problem I-problem I-problem O   B-test O   O  O B-test O   O  O B-test   I-test      O   O   O O      O      O      O B-test I-test    O   O   O B-test  O   O   O   B-test O   O   O B-test I-test I-test I-test   I-test     O   O   O      B-problem I-problem  O  B-problem I-problem I-problem I-problem  O          O  B-problem     O  B-problem      O O  O        O O   O       O   O    B-problem I-problem I-problem I-problem O    O   O    O      O  O    O   O   O        B-treatment I-treatment I-treatment I-treatment O   B-treatment I-treatment O  O        B-test I-test I-test O  O O    O           O     O O   O     O     O     O      O   O   O        O  O    O             O      O      O  O    O    O   O O      O    O  O   O  B-treatment I-treatment I-treatment O  O    O   O       O   O    O O          O     O O           O O   O       O O      O    O         O O        O           O  O     O     O  B-treatment I-treatment I-treatment I-treatment O  O        O        O          O O  O   O    O  O         O O   O      B-test     O  O  O    O O      O O            O   O         O O   O       O   O       O O           O      O  B-treatment O               O   O  O    O     O   O        O    B-test O O    O      O       O  B-problem I-problem I-problem I-problem O       O  B-problem I-problem O O    O  O   O        O      O O   O       O   O         O  O   O       O    O   O        O   O  O     B-problem I-problem  I-problem O O  O   O        O   O        O    B-problem I-problem I-problem O O  O   O      O    O     O   O  O    O  B-problem I-problem  I-problem O O  O     O O   O   O     O  O         O O  O   O       O  O   O       O    O  O   O O    O  O  O      O O  O  O     O   O  B-treatment I-treatment I-treatment I-treatment I-treatment I-treatment O O  O         O    B-treatment I-treatment O O          O       O O   O       O   B-problem I-problem I-problem I-problem I-problem O  O     O   O       O  B-problem   I-problem I-problem      I-problem O O     O   B-test I-test    O O  O   O       O  O    O  O   B-problem I-problem O O  O     O B-treatment I-treatment I-treatment I-treatment I-treatment I-treatment O   O            O B-test I-test          I-test O    O    O   B-problem O O  O   O    O B-test I-test I-test  O   O        O   O   O    O   O       O    O       O        O  B-problem I-problem O     O   B-problem      I-problem O  B-treatment   O O  O   O       O  B-treatment O   O    O O      O        O   O     O       O   O   O     O  O     B-problem I-problem I-problem I-problem O O  O       O       O  B-treatment I-treatment I-treatment O   O        B-treatment O   O   O    O     O         O  O     B-problem I-problem I-problem I-problem I-problem I-problem O O           O O   O        O  O     O          O  O          O  O O              O        O  O    O         O O         O O   O  O   O     O    O   O       O    O         O   O   O  O     O     O    O   O            O   O  O   O     O    O   O        O O         O         O B-problem I-problem I-problem O O      O    B-treatment I-treatment I-treatment I-treatment O B-problem I-problem I-problem O O      O    B-treatment I-treatment I-treatment O B-problem I-problem I-problem O O      O    B-treatment I-treatment I-treatment O B-problem I-problem     I-problem O B-problem     I-problem O B-problem I-problem I-problem I-problem O   B-treatment I-treatment I-treatment O B-problem I-problem I-problem O B-problem            O B-problem I-problem I-problem O B-problem        I-problem I-problem O O         O           O B-treatment O  O  O    O     O O   O B-treatment O    O  O    O     O     O O   O B-treatment O  O  O    O  O   O B-treatment O  O  O    O  O   O B-treatment O    O     O            O     O O   O B-treatment O    O  O        O       O    O  O   O B-treatment I-treatment O     O O  O     O            O    O O   O  O   O       O B-treatment  O   O  O    O  O   O B-treatment I-treatment I-treatment O O   O      O    O  O   O   O   O    O B-treatment O   O  O    O     O O   O O    O   B-problem I-problem O B-treatment O  O  O    O  O   O B-treatment O  O  O    O O    O  O      O   O     O B-treatment O  O  O    O  O   O   O   O    O B-treatment O  O  O    O  O   O   O   O    O O     O O       O O    O      O        O  O O       O  O     O O    O          O O O          O     O O O          O     O   O  O     O      O              O  O O   O     O    O     O   O      O          O     O  O O   O  O      O \n"
          ]
        }
      ]
    },
    {
      "cell_type": "code",
      "execution_count": null,
      "id": "a7bf55ac",
      "metadata": {
        "id": "a7bf55ac"
      },
      "outputs": [],
      "source": [
        "my_dataset = tokenized_datasets.train_test_split(test_size=0.2,seed=42)"
      ]
    },
    {
      "cell_type": "code",
      "execution_count": null,
      "id": "90a01fbd",
      "metadata": {
        "id": "90a01fbd"
      },
      "outputs": [],
      "source": [
        "my_dataset2 = my_dataset['test'].train_test_split(test_size=0.5,seed=42)"
      ]
    },
    {
      "cell_type": "code",
      "execution_count": null,
      "id": "4079638d",
      "metadata": {
        "colab": {
          "base_uri": "https://localhost:8080/"
        },
        "id": "4079638d",
        "outputId": "8f837ab1-d372-45c7-b884-586b34f8596d"
      },
      "outputs": [
        {
          "output_type": "execute_result",
          "data": {
            "text/plain": [
              "DatasetDict({\n",
              "    train: Dataset({\n",
              "        features: ['id', 'tokens', 'ner_tags', 'input_ids', 'token_type_ids', 'attention_mask', 'labels'],\n",
              "        num_rows: 1227\n",
              "    })\n",
              "    test: Dataset({\n",
              "        features: ['id', 'tokens', 'ner_tags', 'input_ids', 'token_type_ids', 'attention_mask', 'labels'],\n",
              "        num_rows: 307\n",
              "    })\n",
              "})"
            ]
          },
          "metadata": {},
          "execution_count": 26
        }
      ],
      "source": [
        "my_dataset"
      ]
    },
    {
      "cell_type": "code",
      "execution_count": null,
      "id": "19d3d30a",
      "metadata": {
        "id": "19d3d30a"
      },
      "outputs": [],
      "source": [
        "from datasets import DatasetDict\n",
        "final_dataset = DatasetDict({\n",
        "    'train': my_dataset['train'],\n",
        "    'validation':my_dataset2['train'],\n",
        "    'test':my_dataset2['test']\n",
        "})"
      ]
    },
    {
      "cell_type": "code",
      "execution_count": null,
      "id": "4b2269d7",
      "metadata": {
        "id": "4b2269d7",
        "colab": {
          "base_uri": "https://localhost:8080/"
        },
        "outputId": "f5857163-626b-432e-e950-7e50ad10fe1f"
      },
      "outputs": [
        {
          "output_type": "execute_result",
          "data": {
            "text/plain": [
              "DatasetDict({\n",
              "    train: Dataset({\n",
              "        features: ['id', 'tokens', 'ner_tags', 'input_ids', 'token_type_ids', 'attention_mask', 'labels'],\n",
              "        num_rows: 1227\n",
              "    })\n",
              "    validation: Dataset({\n",
              "        features: ['id', 'tokens', 'ner_tags', 'input_ids', 'token_type_ids', 'attention_mask', 'labels'],\n",
              "        num_rows: 153\n",
              "    })\n",
              "    test: Dataset({\n",
              "        features: ['id', 'tokens', 'ner_tags', 'input_ids', 'token_type_ids', 'attention_mask', 'labels'],\n",
              "        num_rows: 154\n",
              "    })\n",
              "})"
            ]
          },
          "metadata": {},
          "execution_count": 28
        }
      ],
      "source": [
        "final_dataset"
      ]
    },
    {
      "cell_type": "code",
      "execution_count": null,
      "id": "a09ac33d",
      "metadata": {
        "id": "a09ac33d"
      },
      "outputs": [],
      "source": [
        "ner_feature = final_dataset[\"train\"].features[\"ner_tags\"]"
      ]
    },
    {
      "cell_type": "code",
      "execution_count": null,
      "id": "3c5721bd",
      "metadata": {
        "id": "3c5721bd"
      },
      "outputs": [],
      "source": [
        "label_names = ner_feature.feature.names"
      ]
    },
    {
      "cell_type": "code",
      "execution_count": null,
      "id": "845380a6",
      "metadata": {
        "id": "845380a6"
      },
      "outputs": [],
      "source": [
        "from transformers import DataCollatorForTokenClassification\n",
        "\n",
        "data_collator = DataCollatorForTokenClassification(tokenizer=tokenizer,return_tensors='pt')"
      ]
    },
    {
      "cell_type": "code",
      "source": [
        "!pip install evaluate"
      ],
      "metadata": {
        "colab": {
          "base_uri": "https://localhost:8080/"
        },
        "id": "yWGk40lWdadJ",
        "outputId": "fef27103-b9e5-4d1b-eb2a-88544dff6ffe"
      },
      "id": "yWGk40lWdadJ",
      "execution_count": null,
      "outputs": [
        {
          "output_type": "stream",
          "name": "stdout",
          "text": [
            "Collecting evaluate\n",
            "  Downloading evaluate-0.4.1-py3-none-any.whl (84 kB)\n",
            "\u001b[?25l     \u001b[90m━━━━━━━━━━━━━━━━━━━━━━━━━━━━━━━━━━━━━━━━\u001b[0m \u001b[32m0.0/84.1 kB\u001b[0m \u001b[31m?\u001b[0m eta \u001b[36m-:--:--\u001b[0m\r\u001b[2K     \u001b[90m━━━━━━━━━━━━━━━━━━━━━━━━━━━━━━━━━━━━━━━━\u001b[0m \u001b[32m84.1/84.1 kB\u001b[0m \u001b[31m2.9 MB/s\u001b[0m eta \u001b[36m0:00:00\u001b[0m\n",
            "\u001b[?25hRequirement already satisfied: datasets>=2.0.0 in /usr/local/lib/python3.10/dist-packages (from evaluate) (2.18.0)\n",
            "Requirement already satisfied: numpy>=1.17 in /usr/local/lib/python3.10/dist-packages (from evaluate) (1.25.2)\n",
            "Requirement already satisfied: dill in /usr/local/lib/python3.10/dist-packages (from evaluate) (0.3.8)\n",
            "Requirement already satisfied: pandas in /usr/local/lib/python3.10/dist-packages (from evaluate) (2.0.3)\n",
            "Requirement already satisfied: requests>=2.19.0 in /usr/local/lib/python3.10/dist-packages (from evaluate) (2.31.0)\n",
            "Requirement already satisfied: tqdm>=4.62.1 in /usr/local/lib/python3.10/dist-packages (from evaluate) (4.66.2)\n",
            "Requirement already satisfied: xxhash in /usr/local/lib/python3.10/dist-packages (from evaluate) (3.4.1)\n",
            "Requirement already satisfied: multiprocess in /usr/local/lib/python3.10/dist-packages (from evaluate) (0.70.16)\n",
            "Requirement already satisfied: fsspec[http]>=2021.05.0 in /usr/local/lib/python3.10/dist-packages (from evaluate) (2023.6.0)\n",
            "Requirement already satisfied: huggingface-hub>=0.7.0 in /usr/local/lib/python3.10/dist-packages (from evaluate) (0.20.3)\n",
            "Requirement already satisfied: packaging in /usr/local/lib/python3.10/dist-packages (from evaluate) (24.0)\n",
            "Collecting responses<0.19 (from evaluate)\n",
            "  Downloading responses-0.18.0-py3-none-any.whl (38 kB)\n",
            "Requirement already satisfied: filelock in /usr/local/lib/python3.10/dist-packages (from datasets>=2.0.0->evaluate) (3.13.3)\n",
            "Requirement already satisfied: pyarrow>=12.0.0 in /usr/local/lib/python3.10/dist-packages (from datasets>=2.0.0->evaluate) (14.0.2)\n",
            "Requirement already satisfied: pyarrow-hotfix in /usr/local/lib/python3.10/dist-packages (from datasets>=2.0.0->evaluate) (0.6)\n",
            "Requirement already satisfied: aiohttp in /usr/local/lib/python3.10/dist-packages (from datasets>=2.0.0->evaluate) (3.9.3)\n",
            "Requirement already satisfied: pyyaml>=5.1 in /usr/local/lib/python3.10/dist-packages (from datasets>=2.0.0->evaluate) (6.0.1)\n",
            "Requirement already satisfied: typing-extensions>=3.7.4.3 in /usr/local/lib/python3.10/dist-packages (from huggingface-hub>=0.7.0->evaluate) (4.10.0)\n",
            "Requirement already satisfied: charset-normalizer<4,>=2 in /usr/local/lib/python3.10/dist-packages (from requests>=2.19.0->evaluate) (3.3.2)\n",
            "Requirement already satisfied: idna<4,>=2.5 in /usr/local/lib/python3.10/dist-packages (from requests>=2.19.0->evaluate) (3.6)\n",
            "Requirement already satisfied: urllib3<3,>=1.21.1 in /usr/local/lib/python3.10/dist-packages (from requests>=2.19.0->evaluate) (2.0.7)\n",
            "Requirement already satisfied: certifi>=2017.4.17 in /usr/local/lib/python3.10/dist-packages (from requests>=2.19.0->evaluate) (2024.2.2)\n",
            "Requirement already satisfied: python-dateutil>=2.8.2 in /usr/local/lib/python3.10/dist-packages (from pandas->evaluate) (2.8.2)\n",
            "Requirement already satisfied: pytz>=2020.1 in /usr/local/lib/python3.10/dist-packages (from pandas->evaluate) (2023.4)\n",
            "Requirement already satisfied: tzdata>=2022.1 in /usr/local/lib/python3.10/dist-packages (from pandas->evaluate) (2024.1)\n",
            "Requirement already satisfied: aiosignal>=1.1.2 in /usr/local/lib/python3.10/dist-packages (from aiohttp->datasets>=2.0.0->evaluate) (1.3.1)\n",
            "Requirement already satisfied: attrs>=17.3.0 in /usr/local/lib/python3.10/dist-packages (from aiohttp->datasets>=2.0.0->evaluate) (23.2.0)\n",
            "Requirement already satisfied: frozenlist>=1.1.1 in /usr/local/lib/python3.10/dist-packages (from aiohttp->datasets>=2.0.0->evaluate) (1.4.1)\n",
            "Requirement already satisfied: multidict<7.0,>=4.5 in /usr/local/lib/python3.10/dist-packages (from aiohttp->datasets>=2.0.0->evaluate) (6.0.5)\n",
            "Requirement already satisfied: yarl<2.0,>=1.0 in /usr/local/lib/python3.10/dist-packages (from aiohttp->datasets>=2.0.0->evaluate) (1.9.4)\n",
            "Requirement already satisfied: async-timeout<5.0,>=4.0 in /usr/local/lib/python3.10/dist-packages (from aiohttp->datasets>=2.0.0->evaluate) (4.0.3)\n",
            "Requirement already satisfied: six>=1.5 in /usr/local/lib/python3.10/dist-packages (from python-dateutil>=2.8.2->pandas->evaluate) (1.16.0)\n",
            "Installing collected packages: responses, evaluate\n",
            "Successfully installed evaluate-0.4.1 responses-0.18.0\n"
          ]
        }
      ]
    },
    {
      "cell_type": "code",
      "source": [
        "!pip install seqeval"
      ],
      "metadata": {
        "colab": {
          "base_uri": "https://localhost:8080/"
        },
        "id": "iuNaGBqjdcZV",
        "outputId": "031ad3d2-3da1-4585-c2b5-63fe6eb65754"
      },
      "id": "iuNaGBqjdcZV",
      "execution_count": null,
      "outputs": [
        {
          "output_type": "stream",
          "name": "stdout",
          "text": [
            "Collecting seqeval\n",
            "  Downloading seqeval-1.2.2.tar.gz (43 kB)\n",
            "\u001b[?25l     \u001b[90m━━━━━━━━━━━━━━━━━━━━━━━━━━━━━━━━━━━━━━━━\u001b[0m \u001b[32m0.0/43.6 kB\u001b[0m \u001b[31m?\u001b[0m eta \u001b[36m-:--:--\u001b[0m\r\u001b[2K     \u001b[91m━━━━━━━━━━━━━━━━━━━━━━━━━━━━━━━━━━━━━\u001b[0m\u001b[91m╸\u001b[0m\u001b[90m━━\u001b[0m \u001b[32m41.0/43.6 kB\u001b[0m \u001b[31m1.0 MB/s\u001b[0m eta \u001b[36m0:00:01\u001b[0m\r\u001b[2K     \u001b[90m━━━━━━━━━━━━━━━━━━━━━━━━━━━━━━━━━━━━━━━━\u001b[0m \u001b[32m43.6/43.6 kB\u001b[0m \u001b[31m784.7 kB/s\u001b[0m eta \u001b[36m0:00:00\u001b[0m\n",
            "\u001b[?25h  Preparing metadata (setup.py) ... \u001b[?25l\u001b[?25hdone\n",
            "Requirement already satisfied: numpy>=1.14.0 in /usr/local/lib/python3.10/dist-packages (from seqeval) (1.25.2)\n",
            "Requirement already satisfied: scikit-learn>=0.21.3 in /usr/local/lib/python3.10/dist-packages (from seqeval) (1.2.2)\n",
            "Requirement already satisfied: scipy>=1.3.2 in /usr/local/lib/python3.10/dist-packages (from scikit-learn>=0.21.3->seqeval) (1.11.4)\n",
            "Requirement already satisfied: joblib>=1.1.1 in /usr/local/lib/python3.10/dist-packages (from scikit-learn>=0.21.3->seqeval) (1.3.2)\n",
            "Requirement already satisfied: threadpoolctl>=2.0.0 in /usr/local/lib/python3.10/dist-packages (from scikit-learn>=0.21.3->seqeval) (3.4.0)\n",
            "Building wheels for collected packages: seqeval\n",
            "  Building wheel for seqeval (setup.py) ... \u001b[?25l\u001b[?25hdone\n",
            "  Created wheel for seqeval: filename=seqeval-1.2.2-py3-none-any.whl size=16161 sha256=9dffde0e5df1af904834c775438714e12c4c421e76d01f610f52ee17ef414258\n",
            "  Stored in directory: /root/.cache/pip/wheels/1a/67/4a/ad4082dd7dfc30f2abfe4d80a2ed5926a506eb8a972b4767fa\n",
            "Successfully built seqeval\n",
            "Installing collected packages: seqeval\n",
            "Successfully installed seqeval-1.2.2\n"
          ]
        }
      ]
    },
    {
      "cell_type": "code",
      "execution_count": null,
      "id": "5dd1d66b",
      "metadata": {
        "id": "5dd1d66b",
        "colab": {
          "base_uri": "https://localhost:8080/",
          "height": 49,
          "referenced_widgets": [
            "1b6def7473b04ef5893b05e7a35e141c",
            "2613b72ffc3a4604bc091fa948e6b63c",
            "cd2c825a9cc442e29cf0571cf38f7df1",
            "a669eef75dd4407d945e94b10ed4e4ef",
            "5e9c21ac9b93403794e20f3948980cc6",
            "53df5a3db3e840b2b96e9106b39bf0a5",
            "4579b254440e4352a52dddf5813e7aea",
            "ad794e9578034be0a6606e4aa5505690",
            "b58896099c1f4bff8b5923e8d4ffcde9",
            "767a0d9470b844e5834cf824989adcae",
            "d9b703812e1049068a56d2f489e9227c"
          ]
        },
        "outputId": "10c0bcfa-fcab-407c-ed24-691c99c14f8a"
      },
      "outputs": [
        {
          "output_type": "display_data",
          "data": {
            "text/plain": [
              "Downloading builder script:   0%|          | 0.00/6.34k [00:00<?, ?B/s]"
            ],
            "application/vnd.jupyter.widget-view+json": {
              "version_major": 2,
              "version_minor": 0,
              "model_id": "1b6def7473b04ef5893b05e7a35e141c"
            }
          },
          "metadata": {}
        }
      ],
      "source": [
        "import evaluate\n",
        "\n",
        "metric = evaluate.load('seqeval')"
      ]
    },
    {
      "cell_type": "code",
      "execution_count": null,
      "id": "eb69d45c",
      "metadata": {
        "id": "eb69d45c"
      },
      "outputs": [],
      "source": [
        "labels = final_dataset[\"train\"][0][\"ner_tags\"]\n",
        "labels = [label_names[i] for i in labels]"
      ]
    },
    {
      "cell_type": "code",
      "execution_count": null,
      "id": "ade2fd06",
      "metadata": {
        "id": "ade2fd06"
      },
      "outputs": [],
      "source": [
        "import numpy as np\n",
        "from sklearn.metrics import classification_report\n",
        "# from sklearn.preprocessing import MultiLabelBinarizer\n",
        "\n",
        "def compute_metrics(eval_preds):\n",
        "    logits, labels = eval_preds\n",
        "    predictions = np.argmax(logits, axis=-1)\n",
        "\n",
        "    # Remove ignored index (special tokens) and convert to labels\n",
        "    true_labels = [[label_names[l] for l in label if l != -100] for label in labels]\n",
        "    true_predictions = [\n",
        "        [label_names[p] for (p, l) in zip(prediction, label) if l != -100]\n",
        "        for prediction, label in zip(predictions, labels)\n",
        "    ]\n",
        "    #cr = classification_report(MultiLabelBinarizer().fit_transform(true_labels),MultiLabelBinarizer().fit_transform(true_predictions))\n",
        "    all_metrics = metric.compute(predictions=true_predictions, references=true_labels)\n",
        "    return {\n",
        "        \"precision\": all_metrics[\"overall_precision\"],\n",
        "        \"recall\": all_metrics[\"overall_recall\"],\n",
        "        \"f1\": all_metrics[\"overall_f1\"],\n",
        "        \"accuracy\": all_metrics[\"overall_accuracy\"]\n",
        "    }"
      ]
    },
    {
      "cell_type": "code",
      "execution_count": null,
      "id": "9df6d506",
      "metadata": {
        "id": "9df6d506"
      },
      "outputs": [],
      "source": [
        "id2label = {i: label for i, label in enumerate(label_names)}\n",
        "label2id = {v: k for k, v in id2label.items()}"
      ]
    },
    {
      "cell_type": "code",
      "execution_count": null,
      "id": "67bbc155",
      "metadata": {
        "colab": {
          "base_uri": "https://localhost:8080/",
          "height": 84,
          "referenced_widgets": [
            "3f4fbcfc96794118aaaf2846ebdfab9a",
            "a196c98c0aa249baa1df6ddca8b0e74e",
            "b5c1268a612d4592b4b2cb885b631819",
            "e012c89148524246b4ca2da02bac4c2f",
            "cb1b4f8db7294666a12ae733d1e442f0",
            "1145f9cc7caf404bb71dd098bc675e5a",
            "9c6685f509e14f6ab12697e9c6b2a8d2",
            "f16e1497991d4ef8b39dfee2cd519195",
            "f49d207a6b22442b91bd17f655ec3737",
            "ffc4a775ca414236a8e5c90c08b6bef6",
            "8f05aa08ed2942fbb0e24b0a0a1af251"
          ]
        },
        "id": "67bbc155",
        "outputId": "12133012-94dd-45c3-ea1c-38c576af6732"
      },
      "outputs": [
        {
          "output_type": "display_data",
          "data": {
            "text/plain": [
              "pytorch_model.bin:   0%|          | 0.00/433M [00:00<?, ?B/s]"
            ],
            "application/vnd.jupyter.widget-view+json": {
              "version_major": 2,
              "version_minor": 0,
              "model_id": "3f4fbcfc96794118aaaf2846ebdfab9a"
            }
          },
          "metadata": {}
        },
        {
          "output_type": "stream",
          "name": "stderr",
          "text": [
            "Some weights of BertForTokenClassification were not initialized from the model checkpoint at dmis-lab/biobert-v1.1 and are newly initialized: ['classifier.bias', 'classifier.weight']\n",
            "You should probably TRAIN this model on a down-stream task to be able to use it for predictions and inference.\n"
          ]
        }
      ],
      "source": [
        "#\n",
        "from transformers import AutoModelForTokenClassification\n",
        "\n",
        "model = AutoModelForTokenClassification.from_pretrained(\n",
        "    checkpoint,\n",
        "    id2label=id2label,\n",
        "    label2id=label2id,\n",
        ")"
      ]
    },
    {
      "cell_type": "code",
      "execution_count": null,
      "id": "eba3e49d",
      "metadata": {
        "colab": {
          "base_uri": "https://localhost:8080/"
        },
        "id": "eba3e49d",
        "outputId": "088ee60e-6d6d-4850-a303-5e5852797d07"
      },
      "outputs": [
        {
          "output_type": "stream",
          "name": "stdout",
          "text": [
            "Requirement already satisfied: transformers[torch] in /usr/local/lib/python3.10/dist-packages (4.39.3)\n",
            "Requirement already satisfied: filelock in /usr/local/lib/python3.10/dist-packages (from transformers[torch]) (3.13.3)\n",
            "Requirement already satisfied: huggingface-hub<1.0,>=0.19.3 in /usr/local/lib/python3.10/dist-packages (from transformers[torch]) (0.20.3)\n",
            "Requirement already satisfied: numpy>=1.17 in /usr/local/lib/python3.10/dist-packages (from transformers[torch]) (1.25.2)\n",
            "Requirement already satisfied: packaging>=20.0 in /usr/local/lib/python3.10/dist-packages (from transformers[torch]) (24.0)\n",
            "Requirement already satisfied: pyyaml>=5.1 in /usr/local/lib/python3.10/dist-packages (from transformers[torch]) (6.0.1)\n",
            "Requirement already satisfied: regex!=2019.12.17 in /usr/local/lib/python3.10/dist-packages (from transformers[torch]) (2023.12.25)\n",
            "Requirement already satisfied: requests in /usr/local/lib/python3.10/dist-packages (from transformers[torch]) (2.31.0)\n",
            "Requirement already satisfied: tokenizers<0.19,>=0.14 in /usr/local/lib/python3.10/dist-packages (from transformers[torch]) (0.15.2)\n",
            "Requirement already satisfied: safetensors>=0.4.1 in /usr/local/lib/python3.10/dist-packages (from transformers[torch]) (0.4.2)\n",
            "Requirement already satisfied: tqdm>=4.27 in /usr/local/lib/python3.10/dist-packages (from transformers[torch]) (4.66.2)\n",
            "Requirement already satisfied: torch in /usr/local/lib/python3.10/dist-packages (from transformers[torch]) (2.2.1+cu121)\n",
            "Requirement already satisfied: accelerate>=0.21.0 in /usr/local/lib/python3.10/dist-packages (from transformers[torch]) (0.29.1)\n",
            "Requirement already satisfied: psutil in /usr/local/lib/python3.10/dist-packages (from accelerate>=0.21.0->transformers[torch]) (5.9.5)\n",
            "Requirement already satisfied: fsspec>=2023.5.0 in /usr/local/lib/python3.10/dist-packages (from huggingface-hub<1.0,>=0.19.3->transformers[torch]) (2023.6.0)\n",
            "Requirement already satisfied: typing-extensions>=3.7.4.3 in /usr/local/lib/python3.10/dist-packages (from huggingface-hub<1.0,>=0.19.3->transformers[torch]) (4.10.0)\n",
            "Requirement already satisfied: sympy in /usr/local/lib/python3.10/dist-packages (from torch->transformers[torch]) (1.12)\n",
            "Requirement already satisfied: networkx in /usr/local/lib/python3.10/dist-packages (from torch->transformers[torch]) (3.2.1)\n",
            "Requirement already satisfied: jinja2 in /usr/local/lib/python3.10/dist-packages (from torch->transformers[torch]) (3.1.3)\n",
            "Requirement already satisfied: nvidia-cuda-nvrtc-cu12==12.1.105 in /usr/local/lib/python3.10/dist-packages (from torch->transformers[torch]) (12.1.105)\n",
            "Requirement already satisfied: nvidia-cuda-runtime-cu12==12.1.105 in /usr/local/lib/python3.10/dist-packages (from torch->transformers[torch]) (12.1.105)\n",
            "Requirement already satisfied: nvidia-cuda-cupti-cu12==12.1.105 in /usr/local/lib/python3.10/dist-packages (from torch->transformers[torch]) (12.1.105)\n",
            "Requirement already satisfied: nvidia-cudnn-cu12==8.9.2.26 in /usr/local/lib/python3.10/dist-packages (from torch->transformers[torch]) (8.9.2.26)\n",
            "Requirement already satisfied: nvidia-cublas-cu12==12.1.3.1 in /usr/local/lib/python3.10/dist-packages (from torch->transformers[torch]) (12.1.3.1)\n",
            "Requirement already satisfied: nvidia-cufft-cu12==11.0.2.54 in /usr/local/lib/python3.10/dist-packages (from torch->transformers[torch]) (11.0.2.54)\n",
            "Requirement already satisfied: nvidia-curand-cu12==10.3.2.106 in /usr/local/lib/python3.10/dist-packages (from torch->transformers[torch]) (10.3.2.106)\n",
            "Requirement already satisfied: nvidia-cusolver-cu12==11.4.5.107 in /usr/local/lib/python3.10/dist-packages (from torch->transformers[torch]) (11.4.5.107)\n",
            "Requirement already satisfied: nvidia-cusparse-cu12==12.1.0.106 in /usr/local/lib/python3.10/dist-packages (from torch->transformers[torch]) (12.1.0.106)\n",
            "Requirement already satisfied: nvidia-nccl-cu12==2.19.3 in /usr/local/lib/python3.10/dist-packages (from torch->transformers[torch]) (2.19.3)\n",
            "Requirement already satisfied: nvidia-nvtx-cu12==12.1.105 in /usr/local/lib/python3.10/dist-packages (from torch->transformers[torch]) (12.1.105)\n",
            "Requirement already satisfied: triton==2.2.0 in /usr/local/lib/python3.10/dist-packages (from torch->transformers[torch]) (2.2.0)\n",
            "Requirement already satisfied: nvidia-nvjitlink-cu12 in /usr/local/lib/python3.10/dist-packages (from nvidia-cusolver-cu12==11.4.5.107->torch->transformers[torch]) (12.4.127)\n",
            "Requirement already satisfied: charset-normalizer<4,>=2 in /usr/local/lib/python3.10/dist-packages (from requests->transformers[torch]) (3.3.2)\n",
            "Requirement already satisfied: idna<4,>=2.5 in /usr/local/lib/python3.10/dist-packages (from requests->transformers[torch]) (3.6)\n",
            "Requirement already satisfied: urllib3<3,>=1.21.1 in /usr/local/lib/python3.10/dist-packages (from requests->transformers[torch]) (2.0.7)\n",
            "Requirement already satisfied: certifi>=2017.4.17 in /usr/local/lib/python3.10/dist-packages (from requests->transformers[torch]) (2024.2.2)\n",
            "Requirement already satisfied: MarkupSafe>=2.0 in /usr/local/lib/python3.10/dist-packages (from jinja2->torch->transformers[torch]) (2.1.5)\n",
            "Requirement already satisfied: mpmath>=0.19 in /usr/local/lib/python3.10/dist-packages (from sympy->torch->transformers[torch]) (1.3.0)\n"
          ]
        }
      ],
      "source": [
        "!pip install transformers[torch]"
      ]
    },
    {
      "cell_type": "code",
      "source": [
        "!pip install accelerate -U"
      ],
      "metadata": {
        "colab": {
          "base_uri": "https://localhost:8080/"
        },
        "id": "-W16WusOeo3X",
        "outputId": "d44a595f-e9ec-4327-cd86-4b02d6377286"
      },
      "id": "-W16WusOeo3X",
      "execution_count": null,
      "outputs": [
        {
          "output_type": "stream",
          "name": "stdout",
          "text": [
            "Requirement already satisfied: accelerate in /usr/local/lib/python3.10/dist-packages (0.29.1)\n",
            "Requirement already satisfied: numpy>=1.17 in /usr/local/lib/python3.10/dist-packages (from accelerate) (1.25.2)\n",
            "Requirement already satisfied: packaging>=20.0 in /usr/local/lib/python3.10/dist-packages (from accelerate) (24.0)\n",
            "Requirement already satisfied: psutil in /usr/local/lib/python3.10/dist-packages (from accelerate) (5.9.5)\n",
            "Requirement already satisfied: pyyaml in /usr/local/lib/python3.10/dist-packages (from accelerate) (6.0.1)\n",
            "Requirement already satisfied: torch>=1.10.0 in /usr/local/lib/python3.10/dist-packages (from accelerate) (2.2.1+cu121)\n",
            "Requirement already satisfied: huggingface-hub in /usr/local/lib/python3.10/dist-packages (from accelerate) (0.20.3)\n",
            "Requirement already satisfied: safetensors>=0.3.1 in /usr/local/lib/python3.10/dist-packages (from accelerate) (0.4.2)\n",
            "Requirement already satisfied: filelock in /usr/local/lib/python3.10/dist-packages (from torch>=1.10.0->accelerate) (3.13.3)\n",
            "Requirement already satisfied: typing-extensions>=4.8.0 in /usr/local/lib/python3.10/dist-packages (from torch>=1.10.0->accelerate) (4.10.0)\n",
            "Requirement already satisfied: sympy in /usr/local/lib/python3.10/dist-packages (from torch>=1.10.0->accelerate) (1.12)\n",
            "Requirement already satisfied: networkx in /usr/local/lib/python3.10/dist-packages (from torch>=1.10.0->accelerate) (3.2.1)\n",
            "Requirement already satisfied: jinja2 in /usr/local/lib/python3.10/dist-packages (from torch>=1.10.0->accelerate) (3.1.3)\n",
            "Requirement already satisfied: fsspec in /usr/local/lib/python3.10/dist-packages (from torch>=1.10.0->accelerate) (2023.6.0)\n",
            "Requirement already satisfied: nvidia-cuda-nvrtc-cu12==12.1.105 in /usr/local/lib/python3.10/dist-packages (from torch>=1.10.0->accelerate) (12.1.105)\n",
            "Requirement already satisfied: nvidia-cuda-runtime-cu12==12.1.105 in /usr/local/lib/python3.10/dist-packages (from torch>=1.10.0->accelerate) (12.1.105)\n",
            "Requirement already satisfied: nvidia-cuda-cupti-cu12==12.1.105 in /usr/local/lib/python3.10/dist-packages (from torch>=1.10.0->accelerate) (12.1.105)\n",
            "Requirement already satisfied: nvidia-cudnn-cu12==8.9.2.26 in /usr/local/lib/python3.10/dist-packages (from torch>=1.10.0->accelerate) (8.9.2.26)\n",
            "Requirement already satisfied: nvidia-cublas-cu12==12.1.3.1 in /usr/local/lib/python3.10/dist-packages (from torch>=1.10.0->accelerate) (12.1.3.1)\n",
            "Requirement already satisfied: nvidia-cufft-cu12==11.0.2.54 in /usr/local/lib/python3.10/dist-packages (from torch>=1.10.0->accelerate) (11.0.2.54)\n",
            "Requirement already satisfied: nvidia-curand-cu12==10.3.2.106 in /usr/local/lib/python3.10/dist-packages (from torch>=1.10.0->accelerate) (10.3.2.106)\n",
            "Requirement already satisfied: nvidia-cusolver-cu12==11.4.5.107 in /usr/local/lib/python3.10/dist-packages (from torch>=1.10.0->accelerate) (11.4.5.107)\n",
            "Requirement already satisfied: nvidia-cusparse-cu12==12.1.0.106 in /usr/local/lib/python3.10/dist-packages (from torch>=1.10.0->accelerate) (12.1.0.106)\n",
            "Requirement already satisfied: nvidia-nccl-cu12==2.19.3 in /usr/local/lib/python3.10/dist-packages (from torch>=1.10.0->accelerate) (2.19.3)\n",
            "Requirement already satisfied: nvidia-nvtx-cu12==12.1.105 in /usr/local/lib/python3.10/dist-packages (from torch>=1.10.0->accelerate) (12.1.105)\n",
            "Requirement already satisfied: triton==2.2.0 in /usr/local/lib/python3.10/dist-packages (from torch>=1.10.0->accelerate) (2.2.0)\n",
            "Requirement already satisfied: nvidia-nvjitlink-cu12 in /usr/local/lib/python3.10/dist-packages (from nvidia-cusolver-cu12==11.4.5.107->torch>=1.10.0->accelerate) (12.4.127)\n",
            "Requirement already satisfied: requests in /usr/local/lib/python3.10/dist-packages (from huggingface-hub->accelerate) (2.31.0)\n",
            "Requirement already satisfied: tqdm>=4.42.1 in /usr/local/lib/python3.10/dist-packages (from huggingface-hub->accelerate) (4.66.2)\n",
            "Requirement already satisfied: MarkupSafe>=2.0 in /usr/local/lib/python3.10/dist-packages (from jinja2->torch>=1.10.0->accelerate) (2.1.5)\n",
            "Requirement already satisfied: charset-normalizer<4,>=2 in /usr/local/lib/python3.10/dist-packages (from requests->huggingface-hub->accelerate) (3.3.2)\n",
            "Requirement already satisfied: idna<4,>=2.5 in /usr/local/lib/python3.10/dist-packages (from requests->huggingface-hub->accelerate) (3.6)\n",
            "Requirement already satisfied: urllib3<3,>=1.21.1 in /usr/local/lib/python3.10/dist-packages (from requests->huggingface-hub->accelerate) (2.0.7)\n",
            "Requirement already satisfied: certifi>=2017.4.17 in /usr/local/lib/python3.10/dist-packages (from requests->huggingface-hub->accelerate) (2024.2.2)\n",
            "Requirement already satisfied: mpmath>=0.19 in /usr/local/lib/python3.10/dist-packages (from sympy->torch>=1.10.0->accelerate) (1.3.0)\n"
          ]
        }
      ]
    },
    {
      "cell_type": "code",
      "execution_count": null,
      "id": "dc1f5f0c",
      "metadata": {
        "id": "dc1f5f0c"
      },
      "outputs": [],
      "source": [
        "# hyperparameters: optimizer, weight_decay, learning_rate, batch_size\n",
        "from transformers import TrainingArguments\n",
        "from transformers import EarlyStoppingCallback, IntervalStrategy\n",
        "\n",
        "args = TrainingArguments(\n",
        "    checkpoint,\n",
        "    evaluation_strategy=IntervalStrategy.STEPS,\n",
        "    eval_steps = 50,\n",
        "    save_total_limit = 5,\n",
        "    learning_rate=2e-5,\n",
        "    num_train_epochs=20,\n",
        "    weight_decay=0.01,\n",
        "    logging_steps=1,\n",
        "    metric_for_best_model = 'f1',\n",
        "    load_best_model_at_end=True,\n",
        "    seed = 42\n",
        ")"
      ]
    },
    {
      "cell_type": "code",
      "execution_count": null,
      "id": "1e3424fe",
      "metadata": {
        "id": "1e3424fe",
        "colab": {
          "base_uri": "https://localhost:8080/",
          "height": 835
        },
        "outputId": "896c7132-08ba-460e-f1c7-19709c4747a0"
      },
      "outputs": [
        {
          "output_type": "stream",
          "name": "stderr",
          "text": [
            "/usr/local/lib/python3.10/dist-packages/accelerate/accelerator.py:436: FutureWarning: Passing the following arguments to `Accelerator` is deprecated and will be removed in version 1.0 of Accelerate: dict_keys(['dispatch_batches', 'split_batches', 'even_batches', 'use_seedable_sampler']). Please pass an `accelerate.DataLoaderConfiguration` instead: \n",
            "dataloader_config = DataLoaderConfiguration(dispatch_batches=None, split_batches=False, even_batches=True, use_seedable_sampler=True)\n",
            "  warnings.warn(\n"
          ]
        },
        {
          "output_type": "display_data",
          "data": {
            "text/plain": [
              "<IPython.core.display.HTML object>"
            ],
            "text/html": [
              "\n",
              "    <div>\n",
              "      \n",
              "      <progress value='1100' max='3080' style='width:300px; height:20px; vertical-align: middle;'></progress>\n",
              "      [1100/3080 19:02 < 34:19, 0.96 it/s, Epoch 7/20]\n",
              "    </div>\n",
              "    <table border=\"1\" class=\"dataframe\">\n",
              "  <thead>\n",
              " <tr style=\"text-align: left;\">\n",
              "      <th>Step</th>\n",
              "      <th>Training Loss</th>\n",
              "      <th>Validation Loss</th>\n",
              "      <th>Precision</th>\n",
              "      <th>Recall</th>\n",
              "      <th>F1</th>\n",
              "      <th>Accuracy</th>\n",
              "    </tr>\n",
              "  </thead>\n",
              "  <tbody>\n",
              "    <tr>\n",
              "      <td>50</td>\n",
              "      <td>0.441000</td>\n",
              "      <td>0.355896</td>\n",
              "      <td>0.528769</td>\n",
              "      <td>0.632013</td>\n",
              "      <td>0.575799</td>\n",
              "      <td>0.889670</td>\n",
              "    </tr>\n",
              "    <tr>\n",
              "      <td>100</td>\n",
              "      <td>0.167100</td>\n",
              "      <td>0.200964</td>\n",
              "      <td>0.739242</td>\n",
              "      <td>0.808365</td>\n",
              "      <td>0.772260</td>\n",
              "      <td>0.935856</td>\n",
              "    </tr>\n",
              "    <tr>\n",
              "      <td>150</td>\n",
              "      <td>0.179300</td>\n",
              "      <td>0.170844</td>\n",
              "      <td>0.777421</td>\n",
              "      <td>0.826664</td>\n",
              "      <td>0.801286</td>\n",
              "      <td>0.945627</td>\n",
              "    </tr>\n",
              "    <tr>\n",
              "      <td>200</td>\n",
              "      <td>0.150600</td>\n",
              "      <td>0.156000</td>\n",
              "      <td>0.798867</td>\n",
              "      <td>0.850593</td>\n",
              "      <td>0.823919</td>\n",
              "      <td>0.950786</td>\n",
              "    </tr>\n",
              "    <tr>\n",
              "      <td>250</td>\n",
              "      <td>0.113100</td>\n",
              "      <td>0.149179</td>\n",
              "      <td>0.811559</td>\n",
              "      <td>0.866881</td>\n",
              "      <td>0.838308</td>\n",
              "      <td>0.952300</td>\n",
              "    </tr>\n",
              "    <tr>\n",
              "      <td>300</td>\n",
              "      <td>0.115400</td>\n",
              "      <td>0.142287</td>\n",
              "      <td>0.821918</td>\n",
              "      <td>0.856626</td>\n",
              "      <td>0.838913</td>\n",
              "      <td>0.953601</td>\n",
              "    </tr>\n",
              "    <tr>\n",
              "      <td>350</td>\n",
              "      <td>0.088800</td>\n",
              "      <td>0.147801</td>\n",
              "      <td>0.796895</td>\n",
              "      <td>0.867082</td>\n",
              "      <td>0.830508</td>\n",
              "      <td>0.951637</td>\n",
              "    </tr>\n",
              "    <tr>\n",
              "      <td>400</td>\n",
              "      <td>0.104200</td>\n",
              "      <td>0.137208</td>\n",
              "      <td>0.850268</td>\n",
              "      <td>0.859843</td>\n",
              "      <td>0.855029</td>\n",
              "      <td>0.957553</td>\n",
              "    </tr>\n",
              "    <tr>\n",
              "      <td>450</td>\n",
              "      <td>0.075700</td>\n",
              "      <td>0.134740</td>\n",
              "      <td>0.833333</td>\n",
              "      <td>0.861653</td>\n",
              "      <td>0.847257</td>\n",
              "      <td>0.956772</td>\n",
              "    </tr>\n",
              "    <tr>\n",
              "      <td>500</td>\n",
              "      <td>0.061600</td>\n",
              "      <td>0.141585</td>\n",
              "      <td>0.826585</td>\n",
              "      <td>0.870300</td>\n",
              "      <td>0.847879</td>\n",
              "      <td>0.956511</td>\n",
              "    </tr>\n",
              "    <tr>\n",
              "      <td>550</td>\n",
              "      <td>0.078800</td>\n",
              "      <td>0.142381</td>\n",
              "      <td>0.818233</td>\n",
              "      <td>0.878946</td>\n",
              "      <td>0.847504</td>\n",
              "      <td>0.955849</td>\n",
              "    </tr>\n",
              "    <tr>\n",
              "      <td>600</td>\n",
              "      <td>0.086900</td>\n",
              "      <td>0.141148</td>\n",
              "      <td>0.825873</td>\n",
              "      <td>0.875528</td>\n",
              "      <td>0.849976</td>\n",
              "      <td>0.956701</td>\n",
              "    </tr>\n",
              "    <tr>\n",
              "      <td>650</td>\n",
              "      <td>0.047700</td>\n",
              "      <td>0.149579</td>\n",
              "      <td>0.828414</td>\n",
              "      <td>0.874724</td>\n",
              "      <td>0.850939</td>\n",
              "      <td>0.955612</td>\n",
              "    </tr>\n",
              "    <tr>\n",
              "      <td>700</td>\n",
              "      <td>0.069500</td>\n",
              "      <td>0.143493</td>\n",
              "      <td>0.836269</td>\n",
              "      <td>0.868892</td>\n",
              "      <td>0.852268</td>\n",
              "      <td>0.956322</td>\n",
              "    </tr>\n",
              "    <tr>\n",
              "      <td>750</td>\n",
              "      <td>0.073900</td>\n",
              "      <td>0.144896</td>\n",
              "      <td>0.836420</td>\n",
              "      <td>0.871908</td>\n",
              "      <td>0.853795</td>\n",
              "      <td>0.957718</td>\n",
              "    </tr>\n",
              "    <tr>\n",
              "      <td>800</td>\n",
              "      <td>0.047000</td>\n",
              "      <td>0.153946</td>\n",
              "      <td>0.841354</td>\n",
              "      <td>0.864870</td>\n",
              "      <td>0.852950</td>\n",
              "      <td>0.956464</td>\n",
              "    </tr>\n",
              "    <tr>\n",
              "      <td>850</td>\n",
              "      <td>0.084200</td>\n",
              "      <td>0.156015</td>\n",
              "      <td>0.834608</td>\n",
              "      <td>0.877740</td>\n",
              "      <td>0.855631</td>\n",
              "      <td>0.956204</td>\n",
              "    </tr>\n",
              "    <tr>\n",
              "      <td>900</td>\n",
              "      <td>0.035500</td>\n",
              "      <td>0.152068</td>\n",
              "      <td>0.846108</td>\n",
              "      <td>0.865675</td>\n",
              "      <td>0.855780</td>\n",
              "      <td>0.957955</td>\n",
              "    </tr>\n",
              "    <tr>\n",
              "      <td>950</td>\n",
              "      <td>0.036000</td>\n",
              "      <td>0.163935</td>\n",
              "      <td>0.839656</td>\n",
              "      <td>0.863463</td>\n",
              "      <td>0.851393</td>\n",
              "      <td>0.955399</td>\n",
              "    </tr>\n",
              "    <tr>\n",
              "      <td>1000</td>\n",
              "      <td>0.040100</td>\n",
              "      <td>0.158234</td>\n",
              "      <td>0.849342</td>\n",
              "      <td>0.869495</td>\n",
              "      <td>0.859300</td>\n",
              "      <td>0.957505</td>\n",
              "    </tr>\n",
              "    <tr>\n",
              "      <td>1050</td>\n",
              "      <td>0.023800</td>\n",
              "      <td>0.156820</td>\n",
              "      <td>0.834290</td>\n",
              "      <td>0.876734</td>\n",
              "      <td>0.854986</td>\n",
              "      <td>0.957127</td>\n",
              "    </tr>\n",
              "    <tr>\n",
              "      <td>1100</td>\n",
              "      <td>0.032100</td>\n",
              "      <td>0.157632</td>\n",
              "      <td>0.839745</td>\n",
              "      <td>0.873517</td>\n",
              "      <td>0.856298</td>\n",
              "      <td>0.956748</td>\n",
              "    </tr>\n",
              "  </tbody>\n",
              "</table><p>"
            ]
          },
          "metadata": {}
        },
        {
          "output_type": "execute_result",
          "data": {
            "text/plain": [
              "TrainOutput(global_step=1100, training_loss=0.11177783026359975, metrics={'train_runtime': 1145.4358, 'train_samples_per_second': 21.424, 'train_steps_per_second': 2.689, 'total_flos': 2290369603568640.0, 'train_loss': 0.11177783026359975, 'epoch': 7.14})"
            ]
          },
          "metadata": {},
          "execution_count": 42
        }
      ],
      "source": [
        "from transformers import Trainer\n",
        "\n",
        "trainer = Trainer(\n",
        "    model=model,\n",
        "    args=args,\n",
        "    train_dataset=final_dataset[\"train\"],\n",
        "    eval_dataset=final_dataset[\"validation\"],\n",
        "    data_collator=data_collator,\n",
        "    compute_metrics=compute_metrics,\n",
        "    tokenizer=tokenizer,\n",
        "    callbacks = [EarlyStoppingCallback(early_stopping_patience=2)]\n",
        ")\n",
        "trainer.train()"
      ]
    },
    {
      "cell_type": "code",
      "execution_count": null,
      "id": "016125b0",
      "metadata": {
        "id": "016125b0"
      },
      "outputs": [],
      "source": [
        "loss = []\n",
        "learning_rate = []\n",
        "epoch = []\n",
        "val_loss = []\n",
        "history = trainer.state.log_history\n",
        "f1 = []\n",
        "for step in history:\n",
        "  if 'learning_rate' in step.keys() and step['step'] % 50 == 0:\n",
        "    epoch.append(step['epoch'])\n",
        "    learning_rate.append(step['learning_rate'])\n",
        "    loss.append(step['loss'])\n",
        "  elif 'eval_loss' in step.keys() and step['step'] % 50 == 0:\n",
        "    val_loss.append(step['eval_loss'])\n",
        "    f1.append(step['eval_f1'])\n",
        "  else:\n",
        "    continue"
      ]
    },
    {
      "cell_type": "code",
      "source": [
        "import matplotlib.pyplot as plt\n",
        "\n",
        "plt.plot(epoch,loss,label='loss')\n",
        "plt.plot(epoch,val_loss,label='val loss')\n",
        "#plt.plot(epoch,list(map(lambda x: x/val_loss[0],learning_rate)),label='learning rate')\n",
        "plt.plot(epoch,f1,label='F1')\n",
        "plt.legend(loc='center right')\n",
        "plt.title('Training History of ClinicalBERT Trained for 20 Epochs (Learning Rate Scaled for Visualization Purposes)')\n",
        "plt.xlabel('Epoch')"
      ],
      "metadata": {
        "id": "jcaIAPGWWikj",
        "colab": {
          "base_uri": "https://localhost:8080/",
          "height": 489
        },
        "outputId": "75662a36-d18a-4efd-eb5a-446b71f06405"
      },
      "id": "jcaIAPGWWikj",
      "execution_count": null,
      "outputs": [
        {
          "output_type": "execute_result",
          "data": {
            "text/plain": [
              "Text(0.5, 0, 'Epoch')"
            ]
          },
          "metadata": {},
          "execution_count": 46
        },
        {
          "output_type": "display_data",
          "data": {
            "text/plain": [
              "<Figure size 640x480 with 1 Axes>"
            ],
            "image/png": "[encoded data removed]"
          },
          "metadata": {}
        }
      ]
    },
    {
      "cell_type": "code",
      "execution_count": null,
      "id": "b6af4e8a",
      "metadata": {
        "id": "b6af4e8a"
      },
      "outputs": [],
      "source": [
        "trainer.save_model('model_biobert_20240406')"
      ]
    },
    {
      "cell_type": "code",
      "source": [
        "!zip -r /content/file.zip /content/model_biobert_20240406/"
      ],
      "metadata": {
        "id": "H8mNy0qK8Zay",
        "colab": {
          "base_uri": "https://localhost:8080/"
        },
        "outputId": "2a4c3fc4-d9e6-4068-ff3c-0a9c466c5aec"
      },
      "id": "H8mNy0qK8Zay",
      "execution_count": null,
      "outputs": [
        {
          "output_type": "stream",
          "name": "stdout",
          "text": [
            "  adding: content/model_biobert_20240406/ (stored 0%)\n",
            "  adding: content/model_biobert_20240406/config.json (deflated 53%)\n",
            "  adding: content/model_biobert_20240406/training_args.bin (deflated 51%)\n",
            "  adding: content/model_biobert_20240406/tokenizer.json (deflated 70%)\n",
            "  adding: content/model_biobert_20240406/special_tokens_map.json (deflated 42%)\n",
            "  adding: content/model_biobert_20240406/vocab.txt (deflated 49%)\n",
            "  adding: content/model_biobert_20240406/model.safetensors (deflated 7%)\n",
            "  adding: content/model_biobert_20240406/tokenizer_config.json (deflated 75%)\n"
          ]
        }
      ]
    },
    {
      "cell_type": "code",
      "source": [
        "from google.colab import files\n",
        "files.download(\"/content/file.zip\")"
      ],
      "metadata": {
        "id": "T0ZMSsy1-ylH",
        "colab": {
          "base_uri": "https://localhost:8080/",
          "height": 34
        },
        "outputId": "cd8fecec-4290-4f41-f13b-1bc83171c6ac"
      },
      "id": "T0ZMSsy1-ylH",
      "execution_count": null,
      "outputs": [
        {
          "output_type": "display_data",
          "data": {
            "text/plain": [
              "<IPython.core.display.Javascript object>"
            ],
            "application/javascript": [
              "\n",
              "    async function download(id, filename, size) {\n",
              "      if (!google.colab.kernel.accessAllowed) {\n",
              "        return;\n",
              "      }\n",
              "      const div = document.createElement('div');\n",
              "      const label = document.createElement('label');\n",
              "      label.textContent = `Downloading \"${filename}\": `;\n",
              "      div.appendChild(label);\n",
              "      const progress = document.createElement('progress');\n",
              "      progress.max = size;\n",
              "      div.appendChild(progress);\n",
              "      document.body.appendChild(div);\n",
              "\n",
              "      const buffers = [];\n",
              "      let downloaded = 0;\n",
              "\n",
              "      const channel = await google.colab.kernel.comms.open(id);\n",
              "      // Send a message to notify the kernel that we're ready.\n",
              "      channel.send({})\n",
              "\n",
              "      for await (const message of channel.messages) {\n",
              "        // Send a message to notify the kernel that we're ready.\n",
              "        channel.send({})\n",
              "        if (message.buffers) {\n",
              "          for (const buffer of message.buffers) {\n",
              "            buffers.push(buffer);\n",
              "            downloaded += buffer.byteLength;\n",
              "            progress.value = downloaded;\n",
              "          }\n",
              "        }\n",
              "      }\n",
              "      const blob = new Blob(buffers, {type: 'application/binary'});\n",
              "      const a = document.createElement('a');\n",
              "      a.href = window.URL.createObjectURL(blob);\n",
              "      a.download = filename;\n",
              "      div.appendChild(a);\n",
              "      a.click();\n",
              "      div.remove();\n",
              "    }\n",
              "  "
            ]
          },
          "metadata": {}
        },
        {
          "output_type": "display_data",
          "data": {
            "text/plain": [
              "<IPython.core.display.Javascript object>"
            ],
            "application/javascript": [
              "download(\"download_2583d488-bd98-468e-ac37-c6b008a091f5\", \"file.zip\", 399355471)"
            ]
          },
          "metadata": {}
        }
      ]
    },
    {
      "cell_type": "code",
      "source": [
        "trainer.evaluate(final_dataset['test'])"
      ],
      "metadata": {
        "colab": {
          "base_uri": "https://localhost:8080/",
          "height": 193
        },
        "id": "AhiE4R048H7S",
        "outputId": "28ec4d49-ba81-4add-fafb-17b403c1a88b"
      },
      "execution_count": null,
      "outputs": [
        {
          "output_type": "display_data",
          "data": {
            "text/plain": [
              "<IPython.core.display.HTML object>"
            ],
            "text/html": [
              "\n",
              "    <div>\n",
              "      \n",
              "      <progress value='20' max='20' style='width:300px; height:20px; vertical-align: middle;'></progress>\n",
              "      [20/20 00:11]\n",
              "    </div>\n",
              "    "
            ]
          },
          "metadata": {}
        },
        {
          "output_type": "execute_result",
          "data": {
            "text/plain": [
              "{'eval_loss': 0.1511160135269165,\n",
              " 'eval_precision': 0.8583674990682072,\n",
              " 'eval_recall': 0.8793432607865598,\n",
              " 'eval_f1': 0.8687287815918522,\n",
              " 'eval_accuracy': 0.9608603667136812,\n",
              " 'eval_runtime': 15.3222,\n",
              " 'eval_samples_per_second': 10.051,\n",
              " 'eval_steps_per_second': 1.305,\n",
              " 'epoch': 7.14}"
            ]
          },
          "metadata": {},
          "execution_count": 57
        }
      ],
      "id": "AhiE4R048H7S"
    }
  ],
  "metadata": {
    "kernelspec": {
      "display_name": "nlp_env2",
      "language": "python",
      "name": "nlp_env2"
    },
    "language_info": {
      "codemirror_mode": {
        "name": "ipython",
        "version": 3
      },
      "file_extension": ".py",
      "mimetype": "text/x-python",
      "name": "python",
      "nbconvert_exporter": "python",
      "pygments_lexer": "ipython3",
      "version": "3.10.8"
    },
    "colab": {
      "provenance": [],
      "gpuType": "T4"
    },
    "accelerator": "GPU",
    "widgets": {
      "application/vnd.jupyter.widget-state+json": {
        "0e68ea116ae54546a76b57684ffba193": {
          "model_module": "@jupyter-widgets/controls",
          "model_name": "HBoxModel",
          "model_module_version": "1.5.0",
          "state": {
            "_dom_classes": [],
            "_model_module": "@jupyter-widgets/controls",
            "_model_module_version": "1.5.0",
            "_model_name": "HBoxModel",
            "_view_count": null,
            "_view_module": "@jupyter-widgets/controls",
            "_view_module_version": "1.5.0",
            "_view_name": "HBoxView",
            "box_style": "",
            "children": [
              "IPY_MODEL_fa81a938f6e64d1f84aea1b94b6e878e",
              "IPY_MODEL_c806219e057e4e818118b15fcce3f56f",
              "IPY_MODEL_fb9f3892c4ae4979a68d57ad561fa390"
            ],
            "layout": "IPY_MODEL_7b98442ee7cc4aee8ad6396a1d7fab08"
          }
        },
        "fa81a938f6e64d1f84aea1b94b6e878e": {
          "model_module": "@jupyter-widgets/controls",
          "model_name": "HTMLModel",
          "model_module_version": "1.5.0",
          "state": {
            "_dom_classes": [],
            "_model_module": "@jupyter-widgets/controls",
            "_model_module_version": "1.5.0",
            "_model_name": "HTMLModel",
            "_view_count": null,
            "_view_module": "@jupyter-widgets/controls",
            "_view_module_version": "1.5.0",
            "_view_name": "HTMLView",
            "description": "",
            "description_tooltip": null,
            "layout": "IPY_MODEL_16236d918c174c1f808d78529a303706",
            "placeholder": "​",
            "style": "IPY_MODEL_b53328d4e372446b8ddb58b2b24534d6",
            "value": "Casting the dataset: 100%"
          }
        },
        "c806219e057e4e818118b15fcce3f56f": {
          "model_module": "@jupyter-widgets/controls",
          "model_name": "FloatProgressModel",
          "model_module_version": "1.5.0",
          "state": {
            "_dom_classes": [],
            "_model_module": "@jupyter-widgets/controls",
            "_model_module_version": "1.5.0",
            "_model_name": "FloatProgressModel",
            "_view_count": null,
            "_view_module": "@jupyter-widgets/controls",
            "_view_module_version": "1.5.0",
            "_view_name": "ProgressView",
            "bar_style": "success",
            "description": "",
            "description_tooltip": null,
            "layout": "IPY_MODEL_65675ba224cb43f28c34db277cde80a4",
            "max": 426,
            "min": 0,
            "orientation": "horizontal",
            "style": "IPY_MODEL_d04af428a7464048a7062fb781b34955",
            "value": 426
          }
        },
        "fb9f3892c4ae4979a68d57ad561fa390": {
          "model_module": "@jupyter-widgets/controls",
          "model_name": "HTMLModel",
          "model_module_version": "1.5.0",
          "state": {
            "_dom_classes": [],
            "_model_module": "@jupyter-widgets/controls",
            "_model_module_version": "1.5.0",
            "_model_name": "HTMLModel",
            "_view_count": null,
            "_view_module": "@jupyter-widgets/controls",
            "_view_module_version": "1.5.0",
            "_view_name": "HTMLView",
            "description": "",
            "description_tooltip": null,
            "layout": "IPY_MODEL_24b1c470c7304474bd7f81c5bad18200",
            "placeholder": "​",
            "style": "IPY_MODEL_5ee6237dc0da4458a5938392d8af2aef",
            "value": " 426/426 [00:00&lt;00:00, 828.86 examples/s]"
          }
        },
        "7b98442ee7cc4aee8ad6396a1d7fab08": {
          "model_module": "@jupyter-widgets/base",
          "model_name": "LayoutModel",
          "model_module_version": "1.2.0",
          "state": {
            "_model_module": "@jupyter-widgets/base",
            "_model_module_version": "1.2.0",
            "_model_name": "LayoutModel",
            "_view_count": null,
            "_view_module": "@jupyter-widgets/base",
            "_view_module_version": "1.2.0",
            "_view_name": "LayoutView",
            "align_content": null,
            "align_items": null,
            "align_self": null,
            "border": null,
            "bottom": null,
            "display": null,
            "flex": null,
            "flex_flow": null,
            "grid_area": null,
            "grid_auto_columns": null,
            "grid_auto_flow": null,
            "grid_auto_rows": null,
            "grid_column": null,
            "grid_gap": null,
            "grid_row": null,
            "grid_template_areas": null,
            "grid_template_columns": null,
            "grid_template_rows": null,
            "height": null,
            "justify_content": null,
            "justify_items": null,
            "left": null,
            "margin": null,
            "max_height": null,
            "max_width": null,
            "min_height": null,
            "min_width": null,
            "object_fit": null,
            "object_position": null,
            "order": null,
            "overflow": null,
            "overflow_x": null,
            "overflow_y": null,
            "padding": null,
            "right": null,
            "top": null,
            "visibility": null,
            "width": null
          }
        },
        "16236d918c174c1f808d78529a303706": {
          "model_module": "@jupyter-widgets/base",
          "model_name": "LayoutModel",
          "model_module_version": "1.2.0",
          "state": {
            "_model_module": "@jupyter-widgets/base",
            "_model_module_version": "1.2.0",
            "_model_name": "LayoutModel",
            "_view_count": null,
            "_view_module": "@jupyter-widgets/base",
            "_view_module_version": "1.2.0",
            "_view_name": "LayoutView",
            "align_content": null,
            "align_items": null,
            "align_self": null,
            "border": null,
            "bottom": null,
            "display": null,
            "flex": null,
            "flex_flow": null,
            "grid_area": null,
            "grid_auto_columns": null,
            "grid_auto_flow": null,
            "grid_auto_rows": null,
            "grid_column": null,
            "grid_gap": null,
            "grid_row": null,
            "grid_template_areas": null,
            "grid_template_columns": null,
            "grid_template_rows": null,
            "height": null,
            "justify_content": null,
            "justify_items": null,
            "left": null,
            "margin": null,
            "max_height": null,
            "max_width": null,
            "min_height": null,
            "min_width": null,
            "object_fit": null,
            "object_position": null,
            "order": null,
            "overflow": null,
            "overflow_x": null,
            "overflow_y": null,
            "padding": null,
            "right": null,
            "top": null,
            "visibility": null,
            "width": null
          }
        },
        "b53328d4e372446b8ddb58b2b24534d6": {
          "model_module": "@jupyter-widgets/controls",
          "model_name": "DescriptionStyleModel",
          "model_module_version": "1.5.0",
          "state": {
            "_model_module": "@jupyter-widgets/controls",
            "_model_module_version": "1.5.0",
            "_model_name": "DescriptionStyleModel",
            "_view_count": null,
            "_view_module": "@jupyter-widgets/base",
            "_view_module_version": "1.2.0",
            "_view_name": "StyleView",
            "description_width": ""
          }
        },
        "65675ba224cb43f28c34db277cde80a4": {
          "model_module": "@jupyter-widgets/base",
          "model_name": "LayoutModel",
          "model_module_version": "1.2.0",
          "state": {
            "_model_module": "@jupyter-widgets/base",
            "_model_module_version": "1.2.0",
            "_model_name": "LayoutModel",
            "_view_count": null,
            "_view_module": "@jupyter-widgets/base",
            "_view_module_version": "1.2.0",
            "_view_name": "LayoutView",
            "align_content": null,
            "align_items": null,
            "align_self": null,
            "border": null,
            "bottom": null,
            "display": null,
            "flex": null,
            "flex_flow": null,
            "grid_area": null,
            "grid_auto_columns": null,
            "grid_auto_flow": null,
            "grid_auto_rows": null,
            "grid_column": null,
            "grid_gap": null,
            "grid_row": null,
            "grid_template_areas": null,
            "grid_template_columns": null,
            "grid_template_rows": null,
            "height": null,
            "justify_content": null,
            "justify_items": null,
            "left": null,
            "margin": null,
            "max_height": null,
            "max_width": null,
            "min_height": null,
            "min_width": null,
            "object_fit": null,
            "object_position": null,
            "order": null,
            "overflow": null,
            "overflow_x": null,
            "overflow_y": null,
            "padding": null,
            "right": null,
            "top": null,
            "visibility": null,
            "width": null
          }
        },
        "d04af428a7464048a7062fb781b34955": {
          "model_module": "@jupyter-widgets/controls",
          "model_name": "ProgressStyleModel",
          "model_module_version": "1.5.0",
          "state": {
            "_model_module": "@jupyter-widgets/controls",
            "_model_module_version": "1.5.0",
            "_model_name": "ProgressStyleModel",
            "_view_count": null,
            "_view_module": "@jupyter-widgets/base",
            "_view_module_version": "1.2.0",
            "_view_name": "StyleView",
            "bar_color": null,
            "description_width": ""
          }
        },
        "24b1c470c7304474bd7f81c5bad18200": {
          "model_module": "@jupyter-widgets/base",
          "model_name": "LayoutModel",
          "model_module_version": "1.2.0",
          "state": {
            "_model_module": "@jupyter-widgets/base",
            "_model_module_version": "1.2.0",
            "_model_name": "LayoutModel",
            "_view_count": null,
            "_view_module": "@jupyter-widgets/base",
            "_view_module_version": "1.2.0",
            "_view_name": "LayoutView",
            "align_content": null,
            "align_items": null,
            "align_self": null,
            "border": null,
            "bottom": null,
            "display": null,
            "flex": null,
            "flex_flow": null,
            "grid_area": null,
            "grid_auto_columns": null,
            "grid_auto_flow": null,
            "grid_auto_rows": null,
            "grid_column": null,
            "grid_gap": null,
            "grid_row": null,
            "grid_template_areas": null,
            "grid_template_columns": null,
            "grid_template_rows": null,
            "height": null,
            "justify_content": null,
            "justify_items": null,
            "left": null,
            "margin": null,
            "max_height": null,
            "max_width": null,
            "min_height": null,
            "min_width": null,
            "object_fit": null,
            "object_position": null,
            "order": null,
            "overflow": null,
            "overflow_x": null,
            "overflow_y": null,
            "padding": null,
            "right": null,
            "top": null,
            "visibility": null,
            "width": null
          }
        },
        "5ee6237dc0da4458a5938392d8af2aef": {
          "model_module": "@jupyter-widgets/controls",
          "model_name": "DescriptionStyleModel",
          "model_module_version": "1.5.0",
          "state": {
            "_model_module": "@jupyter-widgets/controls",
            "_model_module_version": "1.5.0",
            "_model_name": "DescriptionStyleModel",
            "_view_count": null,
            "_view_module": "@jupyter-widgets/base",
            "_view_module_version": "1.2.0",
            "_view_name": "StyleView",
            "description_width": ""
          }
        },
        "3b5f30863d35417d8987d6316c097bc1": {
          "model_module": "@jupyter-widgets/controls",
          "model_name": "HBoxModel",
          "model_module_version": "1.5.0",
          "state": {
            "_dom_classes": [],
            "_model_module": "@jupyter-widgets/controls",
            "_model_module_version": "1.5.0",
            "_model_name": "HBoxModel",
            "_view_count": null,
            "_view_module": "@jupyter-widgets/controls",
            "_view_module_version": "1.5.0",
            "_view_name": "HBoxView",
            "box_style": "",
            "children": [
              "IPY_MODEL_1cfeace82c9849ad840d291df3b00726",
              "IPY_MODEL_97d1afcb8d5842318525b824bcfa7cc3",
              "IPY_MODEL_091090889b4e4b40bea1f03d60232d0c"
            ],
            "layout": "IPY_MODEL_79d228af501e44b484c851f0f78c5fa3"
          }
        },
        "1cfeace82c9849ad840d291df3b00726": {
          "model_module": "@jupyter-widgets/controls",
          "model_name": "HTMLModel",
          "model_module_version": "1.5.0",
          "state": {
            "_dom_classes": [],
            "_model_module": "@jupyter-widgets/controls",
            "_model_module_version": "1.5.0",
            "_model_name": "HTMLModel",
            "_view_count": null,
            "_view_module": "@jupyter-widgets/controls",
            "_view_module_version": "1.5.0",
            "_view_name": "HTMLView",
            "description": "",
            "description_tooltip": null,
            "layout": "IPY_MODEL_03f3ec60a63a4cd8ad5ee4225cae2d4f",
            "placeholder": "​",
            "style": "IPY_MODEL_5d670e11597242c386a9ab491e77d94e",
            "value": "tokenizer_config.json: 100%"
          }
        },
        "97d1afcb8d5842318525b824bcfa7cc3": {
          "model_module": "@jupyter-widgets/controls",
          "model_name": "FloatProgressModel",
          "model_module_version": "1.5.0",
          "state": {
            "_dom_classes": [],
            "_model_module": "@jupyter-widgets/controls",
            "_model_module_version": "1.5.0",
            "_model_name": "FloatProgressModel",
            "_view_count": null,
            "_view_module": "@jupyter-widgets/controls",
            "_view_module_version": "1.5.0",
            "_view_name": "ProgressView",
            "bar_style": "success",
            "description": "",
            "description_tooltip": null,
            "layout": "IPY_MODEL_c1e7cbc233534850b508f671636b401c",
            "max": 49,
            "min": 0,
            "orientation": "horizontal",
            "style": "IPY_MODEL_5a16976fe267458fa66236ad0359ac61",
            "value": 49
          }
        },
        "091090889b4e4b40bea1f03d60232d0c": {
          "model_module": "@jupyter-widgets/controls",
          "model_name": "HTMLModel",
          "model_module_version": "1.5.0",
          "state": {
            "_dom_classes": [],
            "_model_module": "@jupyter-widgets/controls",
            "_model_module_version": "1.5.0",
            "_model_name": "HTMLModel",
            "_view_count": null,
            "_view_module": "@jupyter-widgets/controls",
            "_view_module_version": "1.5.0",
            "_view_name": "HTMLView",
            "description": "",
            "description_tooltip": null,
            "layout": "IPY_MODEL_51d7d053b8704096a00158b6d004706c",
            "placeholder": "​",
            "style": "IPY_MODEL_ae8ea80b37b9445e92ce53a8cee8f89e",
            "value": " 49.0/49.0 [00:00&lt;00:00, 1.60kB/s]"
          }
        },
        "79d228af501e44b484c851f0f78c5fa3": {
          "model_module": "@jupyter-widgets/base",
          "model_name": "LayoutModel",
          "model_module_version": "1.2.0",
          "state": {
            "_model_module": "@jupyter-widgets/base",
            "_model_module_version": "1.2.0",
            "_model_name": "LayoutModel",
            "_view_count": null,
            "_view_module": "@jupyter-widgets/base",
            "_view_module_version": "1.2.0",
            "_view_name": "LayoutView",
            "align_content": null,
            "align_items": null,
            "align_self": null,
            "border": null,
            "bottom": null,
            "display": null,
            "flex": null,
            "flex_flow": null,
            "grid_area": null,
            "grid_auto_columns": null,
            "grid_auto_flow": null,
            "grid_auto_rows": null,
            "grid_column": null,
            "grid_gap": null,
            "grid_row": null,
            "grid_template_areas": null,
            "grid_template_columns": null,
            "grid_template_rows": null,
            "height": null,
            "justify_content": null,
            "justify_items": null,
            "left": null,
            "margin": null,
            "max_height": null,
            "max_width": null,
            "min_height": null,
            "min_width": null,
            "object_fit": null,
            "object_position": null,
            "order": null,
            "overflow": null,
            "overflow_x": null,
            "overflow_y": null,
            "padding": null,
            "right": null,
            "top": null,
            "visibility": null,
            "width": null
          }
        },
        "03f3ec60a63a4cd8ad5ee4225cae2d4f": {
          "model_module": "@jupyter-widgets/base",
          "model_name": "LayoutModel",
          "model_module_version": "1.2.0",
          "state": {
            "_model_module": "@jupyter-widgets/base",
            "_model_module_version": "1.2.0",
            "_model_name": "LayoutModel",
            "_view_count": null,
            "_view_module": "@jupyter-widgets/base",
            "_view_module_version": "1.2.0",
            "_view_name": "LayoutView",
            "align_content": null,
            "align_items": null,
            "align_self": null,
            "border": null,
            "bottom": null,
            "display": null,
            "flex": null,
            "flex_flow": null,
            "grid_area": null,
            "grid_auto_columns": null,
            "grid_auto_flow": null,
            "grid_auto_rows": null,
            "grid_column": null,
            "grid_gap": null,
            "grid_row": null,
            "grid_template_areas": null,
            "grid_template_columns": null,
            "grid_template_rows": null,
            "height": null,
            "justify_content": null,
            "justify_items": null,
            "left": null,
            "margin": null,
            "max_height": null,
            "max_width": null,
            "min_height": null,
            "min_width": null,
            "object_fit": null,
            "object_position": null,
            "order": null,
            "overflow": null,
            "overflow_x": null,
            "overflow_y": null,
            "padding": null,
            "right": null,
            "top": null,
            "visibility": null,
            "width": null
          }
        },
        "5d670e11597242c386a9ab491e77d94e": {
          "model_module": "@jupyter-widgets/controls",
          "model_name": "DescriptionStyleModel",
          "model_module_version": "1.5.0",
          "state": {
            "_model_module": "@jupyter-widgets/controls",
            "_model_module_version": "1.5.0",
            "_model_name": "DescriptionStyleModel",
            "_view_count": null,
            "_view_module": "@jupyter-widgets/base",
            "_view_module_version": "1.2.0",
            "_view_name": "StyleView",
            "description_width": ""
          }
        },
        "c1e7cbc233534850b508f671636b401c": {
          "model_module": "@jupyter-widgets/base",
          "model_name": "LayoutModel",
          "model_module_version": "1.2.0",
          "state": {
            "_model_module": "@jupyter-widgets/base",
            "_model_module_version": "1.2.0",
            "_model_name": "LayoutModel",
            "_view_count": null,
            "_view_module": "@jupyter-widgets/base",
            "_view_module_version": "1.2.0",
            "_view_name": "LayoutView",
            "align_content": null,
            "align_items": null,
            "align_self": null,
            "border": null,
            "bottom": null,
            "display": null,
            "flex": null,
            "flex_flow": null,
            "grid_area": null,
            "grid_auto_columns": null,
            "grid_auto_flow": null,
            "grid_auto_rows": null,
            "grid_column": null,
            "grid_gap": null,
            "grid_row": null,
            "grid_template_areas": null,
            "grid_template_columns": null,
            "grid_template_rows": null,
            "height": null,
            "justify_content": null,
            "justify_items": null,
            "left": null,
            "margin": null,
            "max_height": null,
            "max_width": null,
            "min_height": null,
            "min_width": null,
            "object_fit": null,
            "object_position": null,
            "order": null,
            "overflow": null,
            "overflow_x": null,
            "overflow_y": null,
            "padding": null,
            "right": null,
            "top": null,
            "visibility": null,
            "width": null
          }
        },
        "5a16976fe267458fa66236ad0359ac61": {
          "model_module": "@jupyter-widgets/controls",
          "model_name": "ProgressStyleModel",
          "model_module_version": "1.5.0",
          "state": {
            "_model_module": "@jupyter-widgets/controls",
            "_model_module_version": "1.5.0",
            "_model_name": "ProgressStyleModel",
            "_view_count": null,
            "_view_module": "@jupyter-widgets/base",
            "_view_module_version": "1.2.0",
            "_view_name": "StyleView",
            "bar_color": null,
            "description_width": ""
          }
        },
        "51d7d053b8704096a00158b6d004706c": {
          "model_module": "@jupyter-widgets/base",
          "model_name": "LayoutModel",
          "model_module_version": "1.2.0",
          "state": {
            "_model_module": "@jupyter-widgets/base",
            "_model_module_version": "1.2.0",
            "_model_name": "LayoutModel",
            "_view_count": null,
            "_view_module": "@jupyter-widgets/base",
            "_view_module_version": "1.2.0",
            "_view_name": "LayoutView",
            "align_content": null,
            "align_items": null,
            "align_self": null,
            "border": null,
            "bottom": null,
            "display": null,
            "flex": null,
            "flex_flow": null,
            "grid_area": null,
            "grid_auto_columns": null,
            "grid_auto_flow": null,
            "grid_auto_rows": null,
            "grid_column": null,
            "grid_gap": null,
            "grid_row": null,
            "grid_template_areas": null,
            "grid_template_columns": null,
            "grid_template_rows": null,
            "height": null,
            "justify_content": null,
            "justify_items": null,
            "left": null,
            "margin": null,
            "max_height": null,
            "max_width": null,
            "min_height": null,
            "min_width": null,
            "object_fit": null,
            "object_position": null,
            "order": null,
            "overflow": null,
            "overflow_x": null,
            "overflow_y": null,
            "padding": null,
            "right": null,
            "top": null,
            "visibility": null,
            "width": null
          }
        },
        "ae8ea80b37b9445e92ce53a8cee8f89e": {
          "model_module": "@jupyter-widgets/controls",
          "model_name": "DescriptionStyleModel",
          "model_module_version": "1.5.0",
          "state": {
            "_model_module": "@jupyter-widgets/controls",
            "_model_module_version": "1.5.0",
            "_model_name": "DescriptionStyleModel",
            "_view_count": null,
            "_view_module": "@jupyter-widgets/base",
            "_view_module_version": "1.2.0",
            "_view_name": "StyleView",
            "description_width": ""
          }
        },
        "dc1b3e5e50414e169a93de1b626a9572": {
          "model_module": "@jupyter-widgets/controls",
          "model_name": "HBoxModel",
          "model_module_version": "1.5.0",
          "state": {
            "_dom_classes": [],
            "_model_module": "@jupyter-widgets/controls",
            "_model_module_version": "1.5.0",
            "_model_name": "HBoxModel",
            "_view_count": null,
            "_view_module": "@jupyter-widgets/controls",
            "_view_module_version": "1.5.0",
            "_view_name": "HBoxView",
            "box_style": "",
            "children": [
              "IPY_MODEL_461c76f5e60342c1bdea5f6661b15f1a",
              "IPY_MODEL_cab8768ff89844f6af6bca63fc68f428",
              "IPY_MODEL_b5c43c077ea14285ad7be27c61d61be7"
            ],
            "layout": "IPY_MODEL_43dd320a8729454a91dc2165e186adc4"
          }
        },
        "461c76f5e60342c1bdea5f6661b15f1a": {
          "model_module": "@jupyter-widgets/controls",
          "model_name": "HTMLModel",
          "model_module_version": "1.5.0",
          "state": {
            "_dom_classes": [],
            "_model_module": "@jupyter-widgets/controls",
            "_model_module_version": "1.5.0",
            "_model_name": "HTMLModel",
            "_view_count": null,
            "_view_module": "@jupyter-widgets/controls",
            "_view_module_version": "1.5.0",
            "_view_name": "HTMLView",
            "description": "",
            "description_tooltip": null,
            "layout": "IPY_MODEL_f73b84872ebb435d9f73a1e7ffa88a99",
            "placeholder": "​",
            "style": "IPY_MODEL_33ec36d2f96b4fe8962ea221999255b0",
            "value": "config.json: 100%"
          }
        },
        "cab8768ff89844f6af6bca63fc68f428": {
          "model_module": "@jupyter-widgets/controls",
          "model_name": "FloatProgressModel",
          "model_module_version": "1.5.0",
          "state": {
            "_dom_classes": [],
            "_model_module": "@jupyter-widgets/controls",
            "_model_module_version": "1.5.0",
            "_model_name": "FloatProgressModel",
            "_view_count": null,
            "_view_module": "@jupyter-widgets/controls",
            "_view_module_version": "1.5.0",
            "_view_name": "ProgressView",
            "bar_style": "success",
            "description": "",
            "description_tooltip": null,
            "layout": "IPY_MODEL_7e96ad134b404e95b539a3a3f3fc37a7",
            "max": 462,
            "min": 0,
            "orientation": "horizontal",
            "style": "IPY_MODEL_373d4e92dd684021a4ae6e1cdf00d1f4",
            "value": 462
          }
        },
        "b5c43c077ea14285ad7be27c61d61be7": {
          "model_module": "@jupyter-widgets/controls",
          "model_name": "HTMLModel",
          "model_module_version": "1.5.0",
          "state": {
            "_dom_classes": [],
            "_model_module": "@jupyter-widgets/controls",
            "_model_module_version": "1.5.0",
            "_model_name": "HTMLModel",
            "_view_count": null,
            "_view_module": "@jupyter-widgets/controls",
            "_view_module_version": "1.5.0",
            "_view_name": "HTMLView",
            "description": "",
            "description_tooltip": null,
            "layout": "IPY_MODEL_b815736a2f6d40e09206de60e5082c69",
            "placeholder": "​",
            "style": "IPY_MODEL_24b533ff31694d2fa979c3c526342305",
            "value": " 462/462 [00:00&lt;00:00, 15.3kB/s]"
          }
        },
        "43dd320a8729454a91dc2165e186adc4": {
          "model_module": "@jupyter-widgets/base",
          "model_name": "LayoutModel",
          "model_module_version": "1.2.0",
          "state": {
            "_model_module": "@jupyter-widgets/base",
            "_model_module_version": "1.2.0",
            "_model_name": "LayoutModel",
            "_view_count": null,
            "_view_module": "@jupyter-widgets/base",
            "_view_module_version": "1.2.0",
            "_view_name": "LayoutView",
            "align_content": null,
            "align_items": null,
            "align_self": null,
            "border": null,
            "bottom": null,
            "display": null,
            "flex": null,
            "flex_flow": null,
            "grid_area": null,
            "grid_auto_columns": null,
            "grid_auto_flow": null,
            "grid_auto_rows": null,
            "grid_column": null,
            "grid_gap": null,
            "grid_row": null,
            "grid_template_areas": null,
            "grid_template_columns": null,
            "grid_template_rows": null,
            "height": null,
            "justify_content": null,
            "justify_items": null,
            "left": null,
            "margin": null,
            "max_height": null,
            "max_width": null,
            "min_height": null,
            "min_width": null,
            "object_fit": null,
            "object_position": null,
            "order": null,
            "overflow": null,
            "overflow_x": null,
            "overflow_y": null,
            "padding": null,
            "right": null,
            "top": null,
            "visibility": null,
            "width": null
          }
        },
        "f73b84872ebb435d9f73a1e7ffa88a99": {
          "model_module": "@jupyter-widgets/base",
          "model_name": "LayoutModel",
          "model_module_version": "1.2.0",
          "state": {
            "_model_module": "@jupyter-widgets/base",
            "_model_module_version": "1.2.0",
            "_model_name": "LayoutModel",
            "_view_count": null,
            "_view_module": "@jupyter-widgets/base",
            "_view_module_version": "1.2.0",
            "_view_name": "LayoutView",
            "align_content": null,
            "align_items": null,
            "align_self": null,
            "border": null,
            "bottom": null,
            "display": null,
            "flex": null,
            "flex_flow": null,
            "grid_area": null,
            "grid_auto_columns": null,
            "grid_auto_flow": null,
            "grid_auto_rows": null,
            "grid_column": null,
            "grid_gap": null,
            "grid_row": null,
            "grid_template_areas": null,
            "grid_template_columns": null,
            "grid_template_rows": null,
            "height": null,
            "justify_content": null,
            "justify_items": null,
            "left": null,
            "margin": null,
            "max_height": null,
            "max_width": null,
            "min_height": null,
            "min_width": null,
            "object_fit": null,
            "object_position": null,
            "order": null,
            "overflow": null,
            "overflow_x": null,
            "overflow_y": null,
            "padding": null,
            "right": null,
            "top": null,
            "visibility": null,
            "width": null
          }
        },
        "33ec36d2f96b4fe8962ea221999255b0": {
          "model_module": "@jupyter-widgets/controls",
          "model_name": "DescriptionStyleModel",
          "model_module_version": "1.5.0",
          "state": {
            "_model_module": "@jupyter-widgets/controls",
            "_model_module_version": "1.5.0",
            "_model_name": "DescriptionStyleModel",
            "_view_count": null,
            "_view_module": "@jupyter-widgets/base",
            "_view_module_version": "1.2.0",
            "_view_name": "StyleView",
            "description_width": ""
          }
        },
        "7e96ad134b404e95b539a3a3f3fc37a7": {
          "model_module": "@jupyter-widgets/base",
          "model_name": "LayoutModel",
          "model_module_version": "1.2.0",
          "state": {
            "_model_module": "@jupyter-widgets/base",
            "_model_module_version": "1.2.0",
            "_model_name": "LayoutModel",
            "_view_count": null,
            "_view_module": "@jupyter-widgets/base",
            "_view_module_version": "1.2.0",
            "_view_name": "LayoutView",
            "align_content": null,
            "align_items": null,
            "align_self": null,
            "border": null,
            "bottom": null,
            "display": null,
            "flex": null,
            "flex_flow": null,
            "grid_area": null,
            "grid_auto_columns": null,
            "grid_auto_flow": null,
            "grid_auto_rows": null,
            "grid_column": null,
            "grid_gap": null,
            "grid_row": null,
            "grid_template_areas": null,
            "grid_template_columns": null,
            "grid_template_rows": null,
            "height": null,
            "justify_content": null,
            "justify_items": null,
            "left": null,
            "margin": null,
            "max_height": null,
            "max_width": null,
            "min_height": null,
            "min_width": null,
            "object_fit": null,
            "object_position": null,
            "order": null,
            "overflow": null,
            "overflow_x": null,
            "overflow_y": null,
            "padding": null,
            "right": null,
            "top": null,
            "visibility": null,
            "width": null
          }
        },
        "373d4e92dd684021a4ae6e1cdf00d1f4": {
          "model_module": "@jupyter-widgets/controls",
          "model_name": "ProgressStyleModel",
          "model_module_version": "1.5.0",
          "state": {
            "_model_module": "@jupyter-widgets/controls",
            "_model_module_version": "1.5.0",
            "_model_name": "ProgressStyleModel",
            "_view_count": null,
            "_view_module": "@jupyter-widgets/base",
            "_view_module_version": "1.2.0",
            "_view_name": "StyleView",
            "bar_color": null,
            "description_width": ""
          }
        },
        "b815736a2f6d40e09206de60e5082c69": {
          "model_module": "@jupyter-widgets/base",
          "model_name": "LayoutModel",
          "model_module_version": "1.2.0",
          "state": {
            "_model_module": "@jupyter-widgets/base",
            "_model_module_version": "1.2.0",
            "_model_name": "LayoutModel",
            "_view_count": null,
            "_view_module": "@jupyter-widgets/base",
            "_view_module_version": "1.2.0",
            "_view_name": "LayoutView",
            "align_content": null,
            "align_items": null,
            "align_self": null,
            "border": null,
            "bottom": null,
            "display": null,
            "flex": null,
            "flex_flow": null,
            "grid_area": null,
            "grid_auto_columns": null,
            "grid_auto_flow": null,
            "grid_auto_rows": null,
            "grid_column": null,
            "grid_gap": null,
            "grid_row": null,
            "grid_template_areas": null,
            "grid_template_columns": null,
            "grid_template_rows": null,
            "height": null,
            "justify_content": null,
            "justify_items": null,
            "left": null,
            "margin": null,
            "max_height": null,
            "max_width": null,
            "min_height": null,
            "min_width": null,
            "object_fit": null,
            "object_position": null,
            "order": null,
            "overflow": null,
            "overflow_x": null,
            "overflow_y": null,
            "padding": null,
            "right": null,
            "top": null,
            "visibility": null,
            "width": null
          }
        },
        "24b533ff31694d2fa979c3c526342305": {
          "model_module": "@jupyter-widgets/controls",
          "model_name": "DescriptionStyleModel",
          "model_module_version": "1.5.0",
          "state": {
            "_model_module": "@jupyter-widgets/controls",
            "_model_module_version": "1.5.0",
            "_model_name": "DescriptionStyleModel",
            "_view_count": null,
            "_view_module": "@jupyter-widgets/base",
            "_view_module_version": "1.2.0",
            "_view_name": "StyleView",
            "description_width": ""
          }
        },
        "18fede9894e347afaa4dd5cacfcb1a6f": {
          "model_module": "@jupyter-widgets/controls",
          "model_name": "HBoxModel",
          "model_module_version": "1.5.0",
          "state": {
            "_dom_classes": [],
            "_model_module": "@jupyter-widgets/controls",
            "_model_module_version": "1.5.0",
            "_model_name": "HBoxModel",
            "_view_count": null,
            "_view_module": "@jupyter-widgets/controls",
            "_view_module_version": "1.5.0",
            "_view_name": "HBoxView",
            "box_style": "",
            "children": [
              "IPY_MODEL_b2c95f47dbed4cd598ab4f37ff0d42a8",
              "IPY_MODEL_dbc1fe3d7ee74904b6e9e23d5161c596",
              "IPY_MODEL_c56eb77f4d6f46f0a244322d3f560337"
            ],
            "layout": "IPY_MODEL_30c7f8f1920943acbee4f3bfd37f3855"
          }
        },
        "b2c95f47dbed4cd598ab4f37ff0d42a8": {
          "model_module": "@jupyter-widgets/controls",
          "model_name": "HTMLModel",
          "model_module_version": "1.5.0",
          "state": {
            "_dom_classes": [],
            "_model_module": "@jupyter-widgets/controls",
            "_model_module_version": "1.5.0",
            "_model_name": "HTMLModel",
            "_view_count": null,
            "_view_module": "@jupyter-widgets/controls",
            "_view_module_version": "1.5.0",
            "_view_name": "HTMLView",
            "description": "",
            "description_tooltip": null,
            "layout": "IPY_MODEL_3130666749aa4d54ae3a50d7f66931b2",
            "placeholder": "​",
            "style": "IPY_MODEL_02fc4dfc1ea040d59d34d146ff2caba3",
            "value": "vocab.txt: 100%"
          }
        },
        "dbc1fe3d7ee74904b6e9e23d5161c596": {
          "model_module": "@jupyter-widgets/controls",
          "model_name": "FloatProgressModel",
          "model_module_version": "1.5.0",
          "state": {
            "_dom_classes": [],
            "_model_module": "@jupyter-widgets/controls",
            "_model_module_version": "1.5.0",
            "_model_name": "FloatProgressModel",
            "_view_count": null,
            "_view_module": "@jupyter-widgets/controls",
            "_view_module_version": "1.5.0",
            "_view_name": "ProgressView",
            "bar_style": "success",
            "description": "",
            "description_tooltip": null,
            "layout": "IPY_MODEL_29091c3b68e649e597bcce01d3b95752",
            "max": 213450,
            "min": 0,
            "orientation": "horizontal",
            "style": "IPY_MODEL_976bddd568a04b9ba86535ad58edbb8f",
            "value": 213450
          }
        },
        "c56eb77f4d6f46f0a244322d3f560337": {
          "model_module": "@jupyter-widgets/controls",
          "model_name": "HTMLModel",
          "model_module_version": "1.5.0",
          "state": {
            "_dom_classes": [],
            "_model_module": "@jupyter-widgets/controls",
            "_model_module_version": "1.5.0",
            "_model_name": "HTMLModel",
            "_view_count": null,
            "_view_module": "@jupyter-widgets/controls",
            "_view_module_version": "1.5.0",
            "_view_name": "HTMLView",
            "description": "",
            "description_tooltip": null,
            "layout": "IPY_MODEL_3855c99a854c46a7b090f8f78e617f56",
            "placeholder": "​",
            "style": "IPY_MODEL_bd7ef560788747939029048c4a5de6f6",
            "value": " 213k/213k [00:00&lt;00:00, 3.73MB/s]"
          }
        },
        "30c7f8f1920943acbee4f3bfd37f3855": {
          "model_module": "@jupyter-widgets/base",
          "model_name": "LayoutModel",
          "model_module_version": "1.2.0",
          "state": {
            "_model_module": "@jupyter-widgets/base",
            "_model_module_version": "1.2.0",
            "_model_name": "LayoutModel",
            "_view_count": null,
            "_view_module": "@jupyter-widgets/base",
            "_view_module_version": "1.2.0",
            "_view_name": "LayoutView",
            "align_content": null,
            "align_items": null,
            "align_self": null,
            "border": null,
            "bottom": null,
            "display": null,
            "flex": null,
            "flex_flow": null,
            "grid_area": null,
            "grid_auto_columns": null,
            "grid_auto_flow": null,
            "grid_auto_rows": null,
            "grid_column": null,
            "grid_gap": null,
            "grid_row": null,
            "grid_template_areas": null,
            "grid_template_columns": null,
            "grid_template_rows": null,
            "height": null,
            "justify_content": null,
            "justify_items": null,
            "left": null,
            "margin": null,
            "max_height": null,
            "max_width": null,
            "min_height": null,
            "min_width": null,
            "object_fit": null,
            "object_position": null,
            "order": null,
            "overflow": null,
            "overflow_x": null,
            "overflow_y": null,
            "padding": null,
            "right": null,
            "top": null,
            "visibility": null,
            "width": null
          }
        },
        "3130666749aa4d54ae3a50d7f66931b2": {
          "model_module": "@jupyter-widgets/base",
          "model_name": "LayoutModel",
          "model_module_version": "1.2.0",
          "state": {
            "_model_module": "@jupyter-widgets/base",
            "_model_module_version": "1.2.0",
            "_model_name": "LayoutModel",
            "_view_count": null,
            "_view_module": "@jupyter-widgets/base",
            "_view_module_version": "1.2.0",
            "_view_name": "LayoutView",
            "align_content": null,
            "align_items": null,
            "align_self": null,
            "border": null,
            "bottom": null,
            "display": null,
            "flex": null,
            "flex_flow": null,
            "grid_area": null,
            "grid_auto_columns": null,
            "grid_auto_flow": null,
            "grid_auto_rows": null,
            "grid_column": null,
            "grid_gap": null,
            "grid_row": null,
            "grid_template_areas": null,
            "grid_template_columns": null,
            "grid_template_rows": null,
            "height": null,
            "justify_content": null,
            "justify_items": null,
            "left": null,
            "margin": null,
            "max_height": null,
            "max_width": null,
            "min_height": null,
            "min_width": null,
            "object_fit": null,
            "object_position": null,
            "order": null,
            "overflow": null,
            "overflow_x": null,
            "overflow_y": null,
            "padding": null,
            "right": null,
            "top": null,
            "visibility": null,
            "width": null
          }
        },
        "02fc4dfc1ea040d59d34d146ff2caba3": {
          "model_module": "@jupyter-widgets/controls",
          "model_name": "DescriptionStyleModel",
          "model_module_version": "1.5.0",
          "state": {
            "_model_module": "@jupyter-widgets/controls",
            "_model_module_version": "1.5.0",
            "_model_name": "DescriptionStyleModel",
            "_view_count": null,
            "_view_module": "@jupyter-widgets/base",
            "_view_module_version": "1.2.0",
            "_view_name": "StyleView",
            "description_width": ""
          }
        },
        "29091c3b68e649e597bcce01d3b95752": {
          "model_module": "@jupyter-widgets/base",
          "model_name": "LayoutModel",
          "model_module_version": "1.2.0",
          "state": {
            "_model_module": "@jupyter-widgets/base",
            "_model_module_version": "1.2.0",
            "_model_name": "LayoutModel",
            "_view_count": null,
            "_view_module": "@jupyter-widgets/base",
            "_view_module_version": "1.2.0",
            "_view_name": "LayoutView",
            "align_content": null,
            "align_items": null,
            "align_self": null,
            "border": null,
            "bottom": null,
            "display": null,
            "flex": null,
            "flex_flow": null,
            "grid_area": null,
            "grid_auto_columns": null,
            "grid_auto_flow": null,
            "grid_auto_rows": null,
            "grid_column": null,
            "grid_gap": null,
            "grid_row": null,
            "grid_template_areas": null,
            "grid_template_columns": null,
            "grid_template_rows": null,
            "height": null,
            "justify_content": null,
            "justify_items": null,
            "left": null,
            "margin": null,
            "max_height": null,
            "max_width": null,
            "min_height": null,
            "min_width": null,
            "object_fit": null,
            "object_position": null,
            "order": null,
            "overflow": null,
            "overflow_x": null,
            "overflow_y": null,
            "padding": null,
            "right": null,
            "top": null,
            "visibility": null,
            "width": null
          }
        },
        "976bddd568a04b9ba86535ad58edbb8f": {
          "model_module": "@jupyter-widgets/controls",
          "model_name": "ProgressStyleModel",
          "model_module_version": "1.5.0",
          "state": {
            "_model_module": "@jupyter-widgets/controls",
            "_model_module_version": "1.5.0",
            "_model_name": "ProgressStyleModel",
            "_view_count": null,
            "_view_module": "@jupyter-widgets/base",
            "_view_module_version": "1.2.0",
            "_view_name": "StyleView",
            "bar_color": null,
            "description_width": ""
          }
        },
        "3855c99a854c46a7b090f8f78e617f56": {
          "model_module": "@jupyter-widgets/base",
          "model_name": "LayoutModel",
          "model_module_version": "1.2.0",
          "state": {
            "_model_module": "@jupyter-widgets/base",
            "_model_module_version": "1.2.0",
            "_model_name": "LayoutModel",
            "_view_count": null,
            "_view_module": "@jupyter-widgets/base",
            "_view_module_version": "1.2.0",
            "_view_name": "LayoutView",
            "align_content": null,
            "align_items": null,
            "align_self": null,
            "border": null,
            "bottom": null,
            "display": null,
            "flex": null,
            "flex_flow": null,
            "grid_area": null,
            "grid_auto_columns": null,
            "grid_auto_flow": null,
            "grid_auto_rows": null,
            "grid_column": null,
            "grid_gap": null,
            "grid_row": null,
            "grid_template_areas": null,
            "grid_template_columns": null,
            "grid_template_rows": null,
            "height": null,
            "justify_content": null,
            "justify_items": null,
            "left": null,
            "margin": null,
            "max_height": null,
            "max_width": null,
            "min_height": null,
            "min_width": null,
            "object_fit": null,
            "object_position": null,
            "order": null,
            "overflow": null,
            "overflow_x": null,
            "overflow_y": null,
            "padding": null,
            "right": null,
            "top": null,
            "visibility": null,
            "width": null
          }
        },
        "bd7ef560788747939029048c4a5de6f6": {
          "model_module": "@jupyter-widgets/controls",
          "model_name": "DescriptionStyleModel",
          "model_module_version": "1.5.0",
          "state": {
            "_model_module": "@jupyter-widgets/controls",
            "_model_module_version": "1.5.0",
            "_model_name": "DescriptionStyleModel",
            "_view_count": null,
            "_view_module": "@jupyter-widgets/base",
            "_view_module_version": "1.2.0",
            "_view_name": "StyleView",
            "description_width": ""
          }
        },
        "e4ebf717fe9b4e4ebdbb9d319f39a34b": {
          "model_module": "@jupyter-widgets/controls",
          "model_name": "HBoxModel",
          "model_module_version": "1.5.0",
          "state": {
            "_dom_classes": [],
            "_model_module": "@jupyter-widgets/controls",
            "_model_module_version": "1.5.0",
            "_model_name": "HBoxModel",
            "_view_count": null,
            "_view_module": "@jupyter-widgets/controls",
            "_view_module_version": "1.5.0",
            "_view_name": "HBoxView",
            "box_style": "",
            "children": [
              "IPY_MODEL_c296e8980c3443e899a6acbb365bffdb",
              "IPY_MODEL_ae7288fc02bd4e22a6911e9d910364f6",
              "IPY_MODEL_4121ab75f3e64c23bfa630843dc53e20"
            ],
            "layout": "IPY_MODEL_a40f2d7056cf4a5e84c8dcc2997632c5"
          }
        },
        "c296e8980c3443e899a6acbb365bffdb": {
          "model_module": "@jupyter-widgets/controls",
          "model_name": "HTMLModel",
          "model_module_version": "1.5.0",
          "state": {
            "_dom_classes": [],
            "_model_module": "@jupyter-widgets/controls",
            "_model_module_version": "1.5.0",
            "_model_name": "HTMLModel",
            "_view_count": null,
            "_view_module": "@jupyter-widgets/controls",
            "_view_module_version": "1.5.0",
            "_view_name": "HTMLView",
            "description": "",
            "description_tooltip": null,
            "layout": "IPY_MODEL_ba0723b96d1c473c95c311cd1950667a",
            "placeholder": "​",
            "style": "IPY_MODEL_7676db07263d460aaeb590b391dd40c6",
            "value": "special_tokens_map.json: 100%"
          }
        },
        "ae7288fc02bd4e22a6911e9d910364f6": {
          "model_module": "@jupyter-widgets/controls",
          "model_name": "FloatProgressModel",
          "model_module_version": "1.5.0",
          "state": {
            "_dom_classes": [],
            "_model_module": "@jupyter-widgets/controls",
            "_model_module_version": "1.5.0",
            "_model_name": "FloatProgressModel",
            "_view_count": null,
            "_view_module": "@jupyter-widgets/controls",
            "_view_module_version": "1.5.0",
            "_view_name": "ProgressView",
            "bar_style": "success",
            "description": "",
            "description_tooltip": null,
            "layout": "IPY_MODEL_eb46e6b6075248cbb98fe04302deb306",
            "max": 112,
            "min": 0,
            "orientation": "horizontal",
            "style": "IPY_MODEL_2636c0b0d4ba4d328f1a5699707251d3",
            "value": 112
          }
        },
        "4121ab75f3e64c23bfa630843dc53e20": {
          "model_module": "@jupyter-widgets/controls",
          "model_name": "HTMLModel",
          "model_module_version": "1.5.0",
          "state": {
            "_dom_classes": [],
            "_model_module": "@jupyter-widgets/controls",
            "_model_module_version": "1.5.0",
            "_model_name": "HTMLModel",
            "_view_count": null,
            "_view_module": "@jupyter-widgets/controls",
            "_view_module_version": "1.5.0",
            "_view_name": "HTMLView",
            "description": "",
            "description_tooltip": null,
            "layout": "IPY_MODEL_373aa1b870464082a168ecfa33af2ecf",
            "placeholder": "​",
            "style": "IPY_MODEL_ce9cc548c31f425c955c1df925ce013d",
            "value": " 112/112 [00:00&lt;00:00, 3.30kB/s]"
          }
        },
        "a40f2d7056cf4a5e84c8dcc2997632c5": {
          "model_module": "@jupyter-widgets/base",
          "model_name": "LayoutModel",
          "model_module_version": "1.2.0",
          "state": {
            "_model_module": "@jupyter-widgets/base",
            "_model_module_version": "1.2.0",
            "_model_name": "LayoutModel",
            "_view_count": null,
            "_view_module": "@jupyter-widgets/base",
            "_view_module_version": "1.2.0",
            "_view_name": "LayoutView",
            "align_content": null,
            "align_items": null,
            "align_self": null,
            "border": null,
            "bottom": null,
            "display": null,
            "flex": null,
            "flex_flow": null,
            "grid_area": null,
            "grid_auto_columns": null,
            "grid_auto_flow": null,
            "grid_auto_rows": null,
            "grid_column": null,
            "grid_gap": null,
            "grid_row": null,
            "grid_template_areas": null,
            "grid_template_columns": null,
            "grid_template_rows": null,
            "height": null,
            "justify_content": null,
            "justify_items": null,
            "left": null,
            "margin": null,
            "max_height": null,
            "max_width": null,
            "min_height": null,
            "min_width": null,
            "object_fit": null,
            "object_position": null,
            "order": null,
            "overflow": null,
            "overflow_x": null,
            "overflow_y": null,
            "padding": null,
            "right": null,
            "top": null,
            "visibility": null,
            "width": null
          }
        },
        "ba0723b96d1c473c95c311cd1950667a": {
          "model_module": "@jupyter-widgets/base",
          "model_name": "LayoutModel",
          "model_module_version": "1.2.0",
          "state": {
            "_model_module": "@jupyter-widgets/base",
            "_model_module_version": "1.2.0",
            "_model_name": "LayoutModel",
            "_view_count": null,
            "_view_module": "@jupyter-widgets/base",
            "_view_module_version": "1.2.0",
            "_view_name": "LayoutView",
            "align_content": null,
            "align_items": null,
            "align_self": null,
            "border": null,
            "bottom": null,
            "display": null,
            "flex": null,
            "flex_flow": null,
            "grid_area": null,
            "grid_auto_columns": null,
            "grid_auto_flow": null,
            "grid_auto_rows": null,
            "grid_column": null,
            "grid_gap": null,
            "grid_row": null,
            "grid_template_areas": null,
            "grid_template_columns": null,
            "grid_template_rows": null,
            "height": null,
            "justify_content": null,
            "justify_items": null,
            "left": null,
            "margin": null,
            "max_height": null,
            "max_width": null,
            "min_height": null,
            "min_width": null,
            "object_fit": null,
            "object_position": null,
            "order": null,
            "overflow": null,
            "overflow_x": null,
            "overflow_y": null,
            "padding": null,
            "right": null,
            "top": null,
            "visibility": null,
            "width": null
          }
        },
        "7676db07263d460aaeb590b391dd40c6": {
          "model_module": "@jupyter-widgets/controls",
          "model_name": "DescriptionStyleModel",
          "model_module_version": "1.5.0",
          "state": {
            "_model_module": "@jupyter-widgets/controls",
            "_model_module_version": "1.5.0",
            "_model_name": "DescriptionStyleModel",
            "_view_count": null,
            "_view_module": "@jupyter-widgets/base",
            "_view_module_version": "1.2.0",
            "_view_name": "StyleView",
            "description_width": ""
          }
        },
        "eb46e6b6075248cbb98fe04302deb306": {
          "model_module": "@jupyter-widgets/base",
          "model_name": "LayoutModel",
          "model_module_version": "1.2.0",
          "state": {
            "_model_module": "@jupyter-widgets/base",
            "_model_module_version": "1.2.0",
            "_model_name": "LayoutModel",
            "_view_count": null,
            "_view_module": "@jupyter-widgets/base",
            "_view_module_version": "1.2.0",
            "_view_name": "LayoutView",
            "align_content": null,
            "align_items": null,
            "align_self": null,
            "border": null,
            "bottom": null,
            "display": null,
            "flex": null,
            "flex_flow": null,
            "grid_area": null,
            "grid_auto_columns": null,
            "grid_auto_flow": null,
            "grid_auto_rows": null,
            "grid_column": null,
            "grid_gap": null,
            "grid_row": null,
            "grid_template_areas": null,
            "grid_template_columns": null,
            "grid_template_rows": null,
            "height": null,
            "justify_content": null,
            "justify_items": null,
            "left": null,
            "margin": null,
            "max_height": null,
            "max_width": null,
            "min_height": null,
            "min_width": null,
            "object_fit": null,
            "object_position": null,
            "order": null,
            "overflow": null,
            "overflow_x": null,
            "overflow_y": null,
            "padding": null,
            "right": null,
            "top": null,
            "visibility": null,
            "width": null
          }
        },
        "2636c0b0d4ba4d328f1a5699707251d3": {
          "model_module": "@jupyter-widgets/controls",
          "model_name": "ProgressStyleModel",
          "model_module_version": "1.5.0",
          "state": {
            "_model_module": "@jupyter-widgets/controls",
            "_model_module_version": "1.5.0",
            "_model_name": "ProgressStyleModel",
            "_view_count": null,
            "_view_module": "@jupyter-widgets/base",
            "_view_module_version": "1.2.0",
            "_view_name": "StyleView",
            "bar_color": null,
            "description_width": ""
          }
        },
        "373aa1b870464082a168ecfa33af2ecf": {
          "model_module": "@jupyter-widgets/base",
          "model_name": "LayoutModel",
          "model_module_version": "1.2.0",
          "state": {
            "_model_module": "@jupyter-widgets/base",
            "_model_module_version": "1.2.0",
            "_model_name": "LayoutModel",
            "_view_count": null,
            "_view_module": "@jupyter-widgets/base",
            "_view_module_version": "1.2.0",
            "_view_name": "LayoutView",
            "align_content": null,
            "align_items": null,
            "align_self": null,
            "border": null,
            "bottom": null,
            "display": null,
            "flex": null,
            "flex_flow": null,
            "grid_area": null,
            "grid_auto_columns": null,
            "grid_auto_flow": null,
            "grid_auto_rows": null,
            "grid_column": null,
            "grid_gap": null,
            "grid_row": null,
            "grid_template_areas": null,
            "grid_template_columns": null,
            "grid_template_rows": null,
            "height": null,
            "justify_content": null,
            "justify_items": null,
            "left": null,
            "margin": null,
            "max_height": null,
            "max_width": null,
            "min_height": null,
            "min_width": null,
            "object_fit": null,
            "object_position": null,
            "order": null,
            "overflow": null,
            "overflow_x": null,
            "overflow_y": null,
            "padding": null,
            "right": null,
            "top": null,
            "visibility": null,
            "width": null
          }
        },
        "ce9cc548c31f425c955c1df925ce013d": {
          "model_module": "@jupyter-widgets/controls",
          "model_name": "DescriptionStyleModel",
          "model_module_version": "1.5.0",
          "state": {
            "_model_module": "@jupyter-widgets/controls",
            "_model_module_version": "1.5.0",
            "_model_name": "DescriptionStyleModel",
            "_view_count": null,
            "_view_module": "@jupyter-widgets/base",
            "_view_module_version": "1.2.0",
            "_view_name": "StyleView",
            "description_width": ""
          }
        },
        "f011b4747528441fa0b915501ca87da4": {
          "model_module": "@jupyter-widgets/controls",
          "model_name": "HBoxModel",
          "model_module_version": "1.5.0",
          "state": {
            "_dom_classes": [],
            "_model_module": "@jupyter-widgets/controls",
            "_model_module_version": "1.5.0",
            "_model_name": "HBoxModel",
            "_view_count": null,
            "_view_module": "@jupyter-widgets/controls",
            "_view_module_version": "1.5.0",
            "_view_name": "HBoxView",
            "box_style": "",
            "children": [
              "IPY_MODEL_e68dbba395c948e4be6b4f780c481353",
              "IPY_MODEL_46d80284fdd34fd3affb94f7e6896be3",
              "IPY_MODEL_8e77c86f4228492a918b5861e0532f11"
            ],
            "layout": "IPY_MODEL_bfb145a93c4f4439a34a4a80b0c50e6c"
          }
        },
        "e68dbba395c948e4be6b4f780c481353": {
          "model_module": "@jupyter-widgets/controls",
          "model_name": "HTMLModel",
          "model_module_version": "1.5.0",
          "state": {
            "_dom_classes": [],
            "_model_module": "@jupyter-widgets/controls",
            "_model_module_version": "1.5.0",
            "_model_name": "HTMLModel",
            "_view_count": null,
            "_view_module": "@jupyter-widgets/controls",
            "_view_module_version": "1.5.0",
            "_view_name": "HTMLView",
            "description": "",
            "description_tooltip": null,
            "layout": "IPY_MODEL_4347ced9f92249888a1f9568f844f225",
            "placeholder": "​",
            "style": "IPY_MODEL_fff3bf39a35e45a09d198e594c48c9bb",
            "value": "Map: 100%"
          }
        },
        "46d80284fdd34fd3affb94f7e6896be3": {
          "model_module": "@jupyter-widgets/controls",
          "model_name": "FloatProgressModel",
          "model_module_version": "1.5.0",
          "state": {
            "_dom_classes": [],
            "_model_module": "@jupyter-widgets/controls",
            "_model_module_version": "1.5.0",
            "_model_name": "FloatProgressModel",
            "_view_count": null,
            "_view_module": "@jupyter-widgets/controls",
            "_view_module_version": "1.5.0",
            "_view_name": "ProgressView",
            "bar_style": "success",
            "description": "",
            "description_tooltip": null,
            "layout": "IPY_MODEL_9a1731ef57174e34816b15332c8284a1",
            "max": 426,
            "min": 0,
            "orientation": "horizontal",
            "style": "IPY_MODEL_cee4e1bf71a8410e9287d67f174f710c",
            "value": 426
          }
        },
        "8e77c86f4228492a918b5861e0532f11": {
          "model_module": "@jupyter-widgets/controls",
          "model_name": "HTMLModel",
          "model_module_version": "1.5.0",
          "state": {
            "_dom_classes": [],
            "_model_module": "@jupyter-widgets/controls",
            "_model_module_version": "1.5.0",
            "_model_name": "HTMLModel",
            "_view_count": null,
            "_view_module": "@jupyter-widgets/controls",
            "_view_module_version": "1.5.0",
            "_view_name": "HTMLView",
            "description": "",
            "description_tooltip": null,
            "layout": "IPY_MODEL_239b20bf6c8f4477be9c5894168b599a",
            "placeholder": "​",
            "style": "IPY_MODEL_15a6dbdc568a4408a14902e713488272",
            "value": " 426/426 [00:09&lt;00:00, 43.56 examples/s]"
          }
        },
        "bfb145a93c4f4439a34a4a80b0c50e6c": {
          "model_module": "@jupyter-widgets/base",
          "model_name": "LayoutModel",
          "model_module_version": "1.2.0",
          "state": {
            "_model_module": "@jupyter-widgets/base",
            "_model_module_version": "1.2.0",
            "_model_name": "LayoutModel",
            "_view_count": null,
            "_view_module": "@jupyter-widgets/base",
            "_view_module_version": "1.2.0",
            "_view_name": "LayoutView",
            "align_content": null,
            "align_items": null,
            "align_self": null,
            "border": null,
            "bottom": null,
            "display": null,
            "flex": null,
            "flex_flow": null,
            "grid_area": null,
            "grid_auto_columns": null,
            "grid_auto_flow": null,
            "grid_auto_rows": null,
            "grid_column": null,
            "grid_gap": null,
            "grid_row": null,
            "grid_template_areas": null,
            "grid_template_columns": null,
            "grid_template_rows": null,
            "height": null,
            "justify_content": null,
            "justify_items": null,
            "left": null,
            "margin": null,
            "max_height": null,
            "max_width": null,
            "min_height": null,
            "min_width": null,
            "object_fit": null,
            "object_position": null,
            "order": null,
            "overflow": null,
            "overflow_x": null,
            "overflow_y": null,
            "padding": null,
            "right": null,
            "top": null,
            "visibility": null,
            "width": null
          }
        },
        "4347ced9f92249888a1f9568f844f225": {
          "model_module": "@jupyter-widgets/base",
          "model_name": "LayoutModel",
          "model_module_version": "1.2.0",
          "state": {
            "_model_module": "@jupyter-widgets/base",
            "_model_module_version": "1.2.0",
            "_model_name": "LayoutModel",
            "_view_count": null,
            "_view_module": "@jupyter-widgets/base",
            "_view_module_version": "1.2.0",
            "_view_name": "LayoutView",
            "align_content": null,
            "align_items": null,
            "align_self": null,
            "border": null,
            "bottom": null,
            "display": null,
            "flex": null,
            "flex_flow": null,
            "grid_area": null,
            "grid_auto_columns": null,
            "grid_auto_flow": null,
            "grid_auto_rows": null,
            "grid_column": null,
            "grid_gap": null,
            "grid_row": null,
            "grid_template_areas": null,
            "grid_template_columns": null,
            "grid_template_rows": null,
            "height": null,
            "justify_content": null,
            "justify_items": null,
            "left": null,
            "margin": null,
            "max_height": null,
            "max_width": null,
            "min_height": null,
            "min_width": null,
            "object_fit": null,
            "object_position": null,
            "order": null,
            "overflow": null,
            "overflow_x": null,
            "overflow_y": null,
            "padding": null,
            "right": null,
            "top": null,
            "visibility": null,
            "width": null
          }
        },
        "fff3bf39a35e45a09d198e594c48c9bb": {
          "model_module": "@jupyter-widgets/controls",
          "model_name": "DescriptionStyleModel",
          "model_module_version": "1.5.0",
          "state": {
            "_model_module": "@jupyter-widgets/controls",
            "_model_module_version": "1.5.0",
            "_model_name": "DescriptionStyleModel",
            "_view_count": null,
            "_view_module": "@jupyter-widgets/base",
            "_view_module_version": "1.2.0",
            "_view_name": "StyleView",
            "description_width": ""
          }
        },
        "9a1731ef57174e34816b15332c8284a1": {
          "model_module": "@jupyter-widgets/base",
          "model_name": "LayoutModel",
          "model_module_version": "1.2.0",
          "state": {
            "_model_module": "@jupyter-widgets/base",
            "_model_module_version": "1.2.0",
            "_model_name": "LayoutModel",
            "_view_count": null,
            "_view_module": "@jupyter-widgets/base",
            "_view_module_version": "1.2.0",
            "_view_name": "LayoutView",
            "align_content": null,
            "align_items": null,
            "align_self": null,
            "border": null,
            "bottom": null,
            "display": null,
            "flex": null,
            "flex_flow": null,
            "grid_area": null,
            "grid_auto_columns": null,
            "grid_auto_flow": null,
            "grid_auto_rows": null,
            "grid_column": null,
            "grid_gap": null,
            "grid_row": null,
            "grid_template_areas": null,
            "grid_template_columns": null,
            "grid_template_rows": null,
            "height": null,
            "justify_content": null,
            "justify_items": null,
            "left": null,
            "margin": null,
            "max_height": null,
            "max_width": null,
            "min_height": null,
            "min_width": null,
            "object_fit": null,
            "object_position": null,
            "order": null,
            "overflow": null,
            "overflow_x": null,
            "overflow_y": null,
            "padding": null,
            "right": null,
            "top": null,
            "visibility": null,
            "width": null
          }
        },
        "cee4e1bf71a8410e9287d67f174f710c": {
          "model_module": "@jupyter-widgets/controls",
          "model_name": "ProgressStyleModel",
          "model_module_version": "1.5.0",
          "state": {
            "_model_module": "@jupyter-widgets/controls",
            "_model_module_version": "1.5.0",
            "_model_name": "ProgressStyleModel",
            "_view_count": null,
            "_view_module": "@jupyter-widgets/base",
            "_view_module_version": "1.2.0",
            "_view_name": "StyleView",
            "bar_color": null,
            "description_width": ""
          }
        },
        "239b20bf6c8f4477be9c5894168b599a": {
          "model_module": "@jupyter-widgets/base",
          "model_name": "LayoutModel",
          "model_module_version": "1.2.0",
          "state": {
            "_model_module": "@jupyter-widgets/base",
            "_model_module_version": "1.2.0",
            "_model_name": "LayoutModel",
            "_view_count": null,
            "_view_module": "@jupyter-widgets/base",
            "_view_module_version": "1.2.0",
            "_view_name": "LayoutView",
            "align_content": null,
            "align_items": null,
            "align_self": null,
            "border": null,
            "bottom": null,
            "display": null,
            "flex": null,
            "flex_flow": null,
            "grid_area": null,
            "grid_auto_columns": null,
            "grid_auto_flow": null,
            "grid_auto_rows": null,
            "grid_column": null,
            "grid_gap": null,
            "grid_row": null,
            "grid_template_areas": null,
            "grid_template_columns": null,
            "grid_template_rows": null,
            "height": null,
            "justify_content": null,
            "justify_items": null,
            "left": null,
            "margin": null,
            "max_height": null,
            "max_width": null,
            "min_height": null,
            "min_width": null,
            "object_fit": null,
            "object_position": null,
            "order": null,
            "overflow": null,
            "overflow_x": null,
            "overflow_y": null,
            "padding": null,
            "right": null,
            "top": null,
            "visibility": null,
            "width": null
          }
        },
        "15a6dbdc568a4408a14902e713488272": {
          "model_module": "@jupyter-widgets/controls",
          "model_name": "DescriptionStyleModel",
          "model_module_version": "1.5.0",
          "state": {
            "_model_module": "@jupyter-widgets/controls",
            "_model_module_version": "1.5.0",
            "_model_name": "DescriptionStyleModel",
            "_view_count": null,
            "_view_module": "@jupyter-widgets/base",
            "_view_module_version": "1.2.0",
            "_view_name": "StyleView",
            "description_width": ""
          }
        },
        "1b6def7473b04ef5893b05e7a35e141c": {
          "model_module": "@jupyter-widgets/controls",
          "model_name": "HBoxModel",
          "model_module_version": "1.5.0",
          "state": {
            "_dom_classes": [],
            "_model_module": "@jupyter-widgets/controls",
            "_model_module_version": "1.5.0",
            "_model_name": "HBoxModel",
            "_view_count": null,
            "_view_module": "@jupyter-widgets/controls",
            "_view_module_version": "1.5.0",
            "_view_name": "HBoxView",
            "box_style": "",
            "children": [
              "IPY_MODEL_2613b72ffc3a4604bc091fa948e6b63c",
              "IPY_MODEL_cd2c825a9cc442e29cf0571cf38f7df1",
              "IPY_MODEL_a669eef75dd4407d945e94b10ed4e4ef"
            ],
            "layout": "IPY_MODEL_5e9c21ac9b93403794e20f3948980cc6"
          }
        },
        "2613b72ffc3a4604bc091fa948e6b63c": {
          "model_module": "@jupyter-widgets/controls",
          "model_name": "HTMLModel",
          "model_module_version": "1.5.0",
          "state": {
            "_dom_classes": [],
            "_model_module": "@jupyter-widgets/controls",
            "_model_module_version": "1.5.0",
            "_model_name": "HTMLModel",
            "_view_count": null,
            "_view_module": "@jupyter-widgets/controls",
            "_view_module_version": "1.5.0",
            "_view_name": "HTMLView",
            "description": "",
            "description_tooltip": null,
            "layout": "IPY_MODEL_53df5a3db3e840b2b96e9106b39bf0a5",
            "placeholder": "​",
            "style": "IPY_MODEL_4579b254440e4352a52dddf5813e7aea",
            "value": "Downloading builder script: 100%"
          }
        },
        "cd2c825a9cc442e29cf0571cf38f7df1": {
          "model_module": "@jupyter-widgets/controls",
          "model_name": "FloatProgressModel",
          "model_module_version": "1.5.0",
          "state": {
            "_dom_classes": [],
            "_model_module": "@jupyter-widgets/controls",
            "_model_module_version": "1.5.0",
            "_model_name": "FloatProgressModel",
            "_view_count": null,
            "_view_module": "@jupyter-widgets/controls",
            "_view_module_version": "1.5.0",
            "_view_name": "ProgressView",
            "bar_style": "success",
            "description": "",
            "description_tooltip": null,
            "layout": "IPY_MODEL_ad794e9578034be0a6606e4aa5505690",
            "max": 6338,
            "min": 0,
            "orientation": "horizontal",
            "style": "IPY_MODEL_b58896099c1f4bff8b5923e8d4ffcde9",
            "value": 6338
          }
        },
        "a669eef75dd4407d945e94b10ed4e4ef": {
          "model_module": "@jupyter-widgets/controls",
          "model_name": "HTMLModel",
          "model_module_version": "1.5.0",
          "state": {
            "_dom_classes": [],
            "_model_module": "@jupyter-widgets/controls",
            "_model_module_version": "1.5.0",
            "_model_name": "HTMLModel",
            "_view_count": null,
            "_view_module": "@jupyter-widgets/controls",
            "_view_module_version": "1.5.0",
            "_view_name": "HTMLView",
            "description": "",
            "description_tooltip": null,
            "layout": "IPY_MODEL_767a0d9470b844e5834cf824989adcae",
            "placeholder": "​",
            "style": "IPY_MODEL_d9b703812e1049068a56d2f489e9227c",
            "value": " 6.34k/6.34k [00:00&lt;00:00, 97.0kB/s]"
          }
        },
        "5e9c21ac9b93403794e20f3948980cc6": {
          "model_module": "@jupyter-widgets/base",
          "model_name": "LayoutModel",
          "model_module_version": "1.2.0",
          "state": {
            "_model_module": "@jupyter-widgets/base",
            "_model_module_version": "1.2.0",
            "_model_name": "LayoutModel",
            "_view_count": null,
            "_view_module": "@jupyter-widgets/base",
            "_view_module_version": "1.2.0",
            "_view_name": "LayoutView",
            "align_content": null,
            "align_items": null,
            "align_self": null,
            "border": null,
            "bottom": null,
            "display": null,
            "flex": null,
            "flex_flow": null,
            "grid_area": null,
            "grid_auto_columns": null,
            "grid_auto_flow": null,
            "grid_auto_rows": null,
            "grid_column": null,
            "grid_gap": null,
            "grid_row": null,
            "grid_template_areas": null,
            "grid_template_columns": null,
            "grid_template_rows": null,
            "height": null,
            "justify_content": null,
            "justify_items": null,
            "left": null,
            "margin": null,
            "max_height": null,
            "max_width": null,
            "min_height": null,
            "min_width": null,
            "object_fit": null,
            "object_position": null,
            "order": null,
            "overflow": null,
            "overflow_x": null,
            "overflow_y": null,
            "padding": null,
            "right": null,
            "top": null,
            "visibility": null,
            "width": null
          }
        },
        "53df5a3db3e840b2b96e9106b39bf0a5": {
          "model_module": "@jupyter-widgets/base",
          "model_name": "LayoutModel",
          "model_module_version": "1.2.0",
          "state": {
            "_model_module": "@jupyter-widgets/base",
            "_model_module_version": "1.2.0",
            "_model_name": "LayoutModel",
            "_view_count": null,
            "_view_module": "@jupyter-widgets/base",
            "_view_module_version": "1.2.0",
            "_view_name": "LayoutView",
            "align_content": null,
            "align_items": null,
            "align_self": null,
            "border": null,
            "bottom": null,
            "display": null,
            "flex": null,
            "flex_flow": null,
            "grid_area": null,
            "grid_auto_columns": null,
            "grid_auto_flow": null,
            "grid_auto_rows": null,
            "grid_column": null,
            "grid_gap": null,
            "grid_row": null,
            "grid_template_areas": null,
            "grid_template_columns": null,
            "grid_template_rows": null,
            "height": null,
            "justify_content": null,
            "justify_items": null,
            "left": null,
            "margin": null,
            "max_height": null,
            "max_width": null,
            "min_height": null,
            "min_width": null,
            "object_fit": null,
            "object_position": null,
            "order": null,
            "overflow": null,
            "overflow_x": null,
            "overflow_y": null,
            "padding": null,
            "right": null,
            "top": null,
            "visibility": null,
            "width": null
          }
        },
        "4579b254440e4352a52dddf5813e7aea": {
          "model_module": "@jupyter-widgets/controls",
          "model_name": "DescriptionStyleModel",
          "model_module_version": "1.5.0",
          "state": {
            "_model_module": "@jupyter-widgets/controls",
            "_model_module_version": "1.5.0",
            "_model_name": "DescriptionStyleModel",
            "_view_count": null,
            "_view_module": "@jupyter-widgets/base",
            "_view_module_version": "1.2.0",
            "_view_name": "StyleView",
            "description_width": ""
          }
        },
        "ad794e9578034be0a6606e4aa5505690": {
          "model_module": "@jupyter-widgets/base",
          "model_name": "LayoutModel",
          "model_module_version": "1.2.0",
          "state": {
            "_model_module": "@jupyter-widgets/base",
            "_model_module_version": "1.2.0",
            "_model_name": "LayoutModel",
            "_view_count": null,
            "_view_module": "@jupyter-widgets/base",
            "_view_module_version": "1.2.0",
            "_view_name": "LayoutView",
            "align_content": null,
            "align_items": null,
            "align_self": null,
            "border": null,
            "bottom": null,
            "display": null,
            "flex": null,
            "flex_flow": null,
            "grid_area": null,
            "grid_auto_columns": null,
            "grid_auto_flow": null,
            "grid_auto_rows": null,
            "grid_column": null,
            "grid_gap": null,
            "grid_row": null,
            "grid_template_areas": null,
            "grid_template_columns": null,
            "grid_template_rows": null,
            "height": null,
            "justify_content": null,
            "justify_items": null,
            "left": null,
            "margin": null,
            "max_height": null,
            "max_width": null,
            "min_height": null,
            "min_width": null,
            "object_fit": null,
            "object_position": null,
            "order": null,
            "overflow": null,
            "overflow_x": null,
            "overflow_y": null,
            "padding": null,
            "right": null,
            "top": null,
            "visibility": null,
            "width": null
          }
        },
        "b58896099c1f4bff8b5923e8d4ffcde9": {
          "model_module": "@jupyter-widgets/controls",
          "model_name": "ProgressStyleModel",
          "model_module_version": "1.5.0",
          "state": {
            "_model_module": "@jupyter-widgets/controls",
            "_model_module_version": "1.5.0",
            "_model_name": "ProgressStyleModel",
            "_view_count": null,
            "_view_module": "@jupyter-widgets/base",
            "_view_module_version": "1.2.0",
            "_view_name": "StyleView",
            "bar_color": null,
            "description_width": ""
          }
        },
        "767a0d9470b844e5834cf824989adcae": {
          "model_module": "@jupyter-widgets/base",
          "model_name": "LayoutModel",
          "model_module_version": "1.2.0",
          "state": {
            "_model_module": "@jupyter-widgets/base",
            "_model_module_version": "1.2.0",
            "_model_name": "LayoutModel",
            "_view_count": null,
            "_view_module": "@jupyter-widgets/base",
            "_view_module_version": "1.2.0",
            "_view_name": "LayoutView",
            "align_content": null,
            "align_items": null,
            "align_self": null,
            "border": null,
            "bottom": null,
            "display": null,
            "flex": null,
            "flex_flow": null,
            "grid_area": null,
            "grid_auto_columns": null,
            "grid_auto_flow": null,
            "grid_auto_rows": null,
            "grid_column": null,
            "grid_gap": null,
            "grid_row": null,
            "grid_template_areas": null,
            "grid_template_columns": null,
            "grid_template_rows": null,
            "height": null,
            "justify_content": null,
            "justify_items": null,
            "left": null,
            "margin": null,
            "max_height": null,
            "max_width": null,
            "min_height": null,
            "min_width": null,
            "object_fit": null,
            "object_position": null,
            "order": null,
            "overflow": null,
            "overflow_x": null,
            "overflow_y": null,
            "padding": null,
            "right": null,
            "top": null,
            "visibility": null,
            "width": null
          }
        },
        "d9b703812e1049068a56d2f489e9227c": {
          "model_module": "@jupyter-widgets/controls",
          "model_name": "DescriptionStyleModel",
          "model_module_version": "1.5.0",
          "state": {
            "_model_module": "@jupyter-widgets/controls",
            "_model_module_version": "1.5.0",
            "_model_name": "DescriptionStyleModel",
            "_view_count": null,
            "_view_module": "@jupyter-widgets/base",
            "_view_module_version": "1.2.0",
            "_view_name": "StyleView",
            "description_width": ""
          }
        },
        "3f4fbcfc96794118aaaf2846ebdfab9a": {
          "model_module": "@jupyter-widgets/controls",
          "model_name": "HBoxModel",
          "model_module_version": "1.5.0",
          "state": {
            "_dom_classes": [],
            "_model_module": "@jupyter-widgets/controls",
            "_model_module_version": "1.5.0",
            "_model_name": "HBoxModel",
            "_view_count": null,
            "_view_module": "@jupyter-widgets/controls",
            "_view_module_version": "1.5.0",
            "_view_name": "HBoxView",
            "box_style": "",
            "children": [
              "IPY_MODEL_a196c98c0aa249baa1df6ddca8b0e74e",
              "IPY_MODEL_b5c1268a612d4592b4b2cb885b631819",
              "IPY_MODEL_e012c89148524246b4ca2da02bac4c2f"
            ],
            "layout": "IPY_MODEL_cb1b4f8db7294666a12ae733d1e442f0"
          }
        },
        "a196c98c0aa249baa1df6ddca8b0e74e": {
          "model_module": "@jupyter-widgets/controls",
          "model_name": "HTMLModel",
          "model_module_version": "1.5.0",
          "state": {
            "_dom_classes": [],
            "_model_module": "@jupyter-widgets/controls",
            "_model_module_version": "1.5.0",
            "_model_name": "HTMLModel",
            "_view_count": null,
            "_view_module": "@jupyter-widgets/controls",
            "_view_module_version": "1.5.0",
            "_view_name": "HTMLView",
            "description": "",
            "description_tooltip": null,
            "layout": "IPY_MODEL_1145f9cc7caf404bb71dd098bc675e5a",
            "placeholder": "​",
            "style": "IPY_MODEL_9c6685f509e14f6ab12697e9c6b2a8d2",
            "value": "pytorch_model.bin: 100%"
          }
        },
        "b5c1268a612d4592b4b2cb885b631819": {
          "model_module": "@jupyter-widgets/controls",
          "model_name": "FloatProgressModel",
          "model_module_version": "1.5.0",
          "state": {
            "_dom_classes": [],
            "_model_module": "@jupyter-widgets/controls",
            "_model_module_version": "1.5.0",
            "_model_name": "FloatProgressModel",
            "_view_count": null,
            "_view_module": "@jupyter-widgets/controls",
            "_view_module_version": "1.5.0",
            "_view_name": "ProgressView",
            "bar_style": "success",
            "description": "",
            "description_tooltip": null,
            "layout": "IPY_MODEL_f16e1497991d4ef8b39dfee2cd519195",
            "max": 433286112,
            "min": 0,
            "orientation": "horizontal",
            "style": "IPY_MODEL_f49d207a6b22442b91bd17f655ec3737",
            "value": 433286112
          }
        },
        "e012c89148524246b4ca2da02bac4c2f": {
          "model_module": "@jupyter-widgets/controls",
          "model_name": "HTMLModel",
          "model_module_version": "1.5.0",
          "state": {
            "_dom_classes": [],
            "_model_module": "@jupyter-widgets/controls",
            "_model_module_version": "1.5.0",
            "_model_name": "HTMLModel",
            "_view_count": null,
            "_view_module": "@jupyter-widgets/controls",
            "_view_module_version": "1.5.0",
            "_view_name": "HTMLView",
            "description": "",
            "description_tooltip": null,
            "layout": "IPY_MODEL_ffc4a775ca414236a8e5c90c08b6bef6",
            "placeholder": "​",
            "style": "IPY_MODEL_8f05aa08ed2942fbb0e24b0a0a1af251",
            "value": " 433M/433M [00:28&lt;00:00, 15.7MB/s]"
          }
        },
        "cb1b4f8db7294666a12ae733d1e442f0": {
          "model_module": "@jupyter-widgets/base",
          "model_name": "LayoutModel",
          "model_module_version": "1.2.0",
          "state": {
            "_model_module": "@jupyter-widgets/base",
            "_model_module_version": "1.2.0",
            "_model_name": "LayoutModel",
            "_view_count": null,
            "_view_module": "@jupyter-widgets/base",
            "_view_module_version": "1.2.0",
            "_view_name": "LayoutView",
            "align_content": null,
            "align_items": null,
            "align_self": null,
            "border": null,
            "bottom": null,
            "display": null,
            "flex": null,
            "flex_flow": null,
            "grid_area": null,
            "grid_auto_columns": null,
            "grid_auto_flow": null,
            "grid_auto_rows": null,
            "grid_column": null,
            "grid_gap": null,
            "grid_row": null,
            "grid_template_areas": null,
            "grid_template_columns": null,
            "grid_template_rows": null,
            "height": null,
            "justify_content": null,
            "justify_items": null,
            "left": null,
            "margin": null,
            "max_height": null,
            "max_width": null,
            "min_height": null,
            "min_width": null,
            "object_fit": null,
            "object_position": null,
            "order": null,
            "overflow": null,
            "overflow_x": null,
            "overflow_y": null,
            "padding": null,
            "right": null,
            "top": null,
            "visibility": null,
            "width": null
          }
        },
        "1145f9cc7caf404bb71dd098bc675e5a": {
          "model_module": "@jupyter-widgets/base",
          "model_name": "LayoutModel",
          "model_module_version": "1.2.0",
          "state": {
            "_model_module": "@jupyter-widgets/base",
            "_model_module_version": "1.2.0",
            "_model_name": "LayoutModel",
            "_view_count": null,
            "_view_module": "@jupyter-widgets/base",
            "_view_module_version": "1.2.0",
            "_view_name": "LayoutView",
            "align_content": null,
            "align_items": null,
            "align_self": null,
            "border": null,
            "bottom": null,
            "display": null,
            "flex": null,
            "flex_flow": null,
            "grid_area": null,
            "grid_auto_columns": null,
            "grid_auto_flow": null,
            "grid_auto_rows": null,
            "grid_column": null,
            "grid_gap": null,
            "grid_row": null,
            "grid_template_areas": null,
            "grid_template_columns": null,
            "grid_template_rows": null,
            "height": null,
            "justify_content": null,
            "justify_items": null,
            "left": null,
            "margin": null,
            "max_height": null,
            "max_width": null,
            "min_height": null,
            "min_width": null,
            "object_fit": null,
            "object_position": null,
            "order": null,
            "overflow": null,
            "overflow_x": null,
            "overflow_y": null,
            "padding": null,
            "right": null,
            "top": null,
            "visibility": null,
            "width": null
          }
        },
        "9c6685f509e14f6ab12697e9c6b2a8d2": {
          "model_module": "@jupyter-widgets/controls",
          "model_name": "DescriptionStyleModel",
          "model_module_version": "1.5.0",
          "state": {
            "_model_module": "@jupyter-widgets/controls",
            "_model_module_version": "1.5.0",
            "_model_name": "DescriptionStyleModel",
            "_view_count": null,
            "_view_module": "@jupyter-widgets/base",
            "_view_module_version": "1.2.0",
            "_view_name": "StyleView",
            "description_width": ""
          }
        },
        "f16e1497991d4ef8b39dfee2cd519195": {
          "model_module": "@jupyter-widgets/base",
          "model_name": "LayoutModel",
          "model_module_version": "1.2.0",
          "state": {
            "_model_module": "@jupyter-widgets/base",
            "_model_module_version": "1.2.0",
            "_model_name": "LayoutModel",
            "_view_count": null,
            "_view_module": "@jupyter-widgets/base",
            "_view_module_version": "1.2.0",
            "_view_name": "LayoutView",
            "align_content": null,
            "align_items": null,
            "align_self": null,
            "border": null,
            "bottom": null,
            "display": null,
            "flex": null,
            "flex_flow": null,
            "grid_area": null,
            "grid_auto_columns": null,
            "grid_auto_flow": null,
            "grid_auto_rows": null,
            "grid_column": null,
            "grid_gap": null,
            "grid_row": null,
            "grid_template_areas": null,
            "grid_template_columns": null,
            "grid_template_rows": null,
            "height": null,
            "justify_content": null,
            "justify_items": null,
            "left": null,
            "margin": null,
            "max_height": null,
            "max_width": null,
            "min_height": null,
            "min_width": null,
            "object_fit": null,
            "object_position": null,
            "order": null,
            "overflow": null,
            "overflow_x": null,
            "overflow_y": null,
            "padding": null,
            "right": null,
            "top": null,
            "visibility": null,
            "width": null
          }
        },
        "f49d207a6b22442b91bd17f655ec3737": {
          "model_module": "@jupyter-widgets/controls",
          "model_name": "ProgressStyleModel",
          "model_module_version": "1.5.0",
          "state": {
            "_model_module": "@jupyter-widgets/controls",
            "_model_module_version": "1.5.0",
            "_model_name": "ProgressStyleModel",
            "_view_count": null,
            "_view_module": "@jupyter-widgets/base",
            "_view_module_version": "1.2.0",
            "_view_name": "StyleView",
            "bar_color": null,
            "description_width": ""
          }
        },
        "ffc4a775ca414236a8e5c90c08b6bef6": {
          "model_module": "@jupyter-widgets/base",
          "model_name": "LayoutModel",
          "model_module_version": "1.2.0",
          "state": {
            "_model_module": "@jupyter-widgets/base",
            "_model_module_version": "1.2.0",
            "_model_name": "LayoutModel",
            "_view_count": null,
            "_view_module": "@jupyter-widgets/base",
            "_view_module_version": "1.2.0",
            "_view_name": "LayoutView",
            "align_content": null,
            "align_items": null,
            "align_self": null,
            "border": null,
            "bottom": null,
            "display": null,
            "flex": null,
            "flex_flow": null,
            "grid_area": null,
            "grid_auto_columns": null,
            "grid_auto_flow": null,
            "grid_auto_rows": null,
            "grid_column": null,
            "grid_gap": null,
            "grid_row": null,
            "grid_template_areas": null,
            "grid_template_columns": null,
            "grid_template_rows": null,
            "height": null,
            "justify_content": null,
            "justify_items": null,
            "left": null,
            "margin": null,
            "max_height": null,
            "max_width": null,
            "min_height": null,
            "min_width": null,
            "object_fit": null,
            "object_position": null,
            "order": null,
            "overflow": null,
            "overflow_x": null,
            "overflow_y": null,
            "padding": null,
            "right": null,
            "top": null,
            "visibility": null,
            "width": null
          }
        },
        "8f05aa08ed2942fbb0e24b0a0a1af251": {
          "model_module": "@jupyter-widgets/controls",
          "model_name": "DescriptionStyleModel",
          "model_module_version": "1.5.0",
          "state": {
            "_model_module": "@jupyter-widgets/controls",
            "_model_module_version": "1.5.0",
            "_model_name": "DescriptionStyleModel",
            "_view_count": null,
            "_view_module": "@jupyter-widgets/base",
            "_view_module_version": "1.2.0",
            "_view_name": "StyleView",
            "description_width": ""
          }
        }
      }
    }
  },
  "nbformat": 4,
  "nbformat_minor": 5
}